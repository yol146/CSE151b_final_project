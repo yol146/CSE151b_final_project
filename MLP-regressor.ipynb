{
 "cells": [
  {
   "cell_type": "code",
   "execution_count": 1,
   "id": "80f8c15b",
   "metadata": {},
   "outputs": [],
   "source": [
    "import numpy \n",
    "from sklearn.neural_network import MLPRegressor \n",
    "from glob import glob\n",
    "import pickle\n",
    "import numpy as np\n",
    "import torch\n",
    "from torch.utils.data import Dataset, DataLoader\n",
    "import os, os.path \n",
    "import pandas as pd"
   ]
  },
  {
   "cell_type": "code",
   "execution_count": 5,
   "id": "db7c1d3c",
   "metadata": {},
   "outputs": [],
   "source": [
    "from glob import glob\n",
    "import pickle\n",
    "import numpy as np\n",
    "\n",
    "ROOT_PATH = \"C:/Users/ly264/Desktop/CSE151b_final_project/\"\n",
    "\n",
    "cities = [\"austin\", \"miami\", \"pittsburgh\", \"dearborn\", \"washington-dc\", \"palo-alto\"]\n",
    "splits = [\"train\", \"test\"]\n",
    "\n",
    "def get_city_trajectories(city=\"palo-alto\", split=\"train\", normalized=False):\n",
    "\n",
    "    \n",
    "    outputs = None\n",
    "    \n",
    "    if split==\"train\":\n",
    "        f_in = ROOT_PATH + split + \"/\" + city + \"_inputs\"\n",
    "        inputs = pickle.load(open(f_in, \"rb\"))\n",
    "        n = len(inputs)\n",
    "        inputs = np.asarray(inputs)[:int(n)]\n",
    "        \n",
    "        f_out = ROOT_PATH + split + \"/\" + city + \"_outputs\"\n",
    "        outputs = pickle.load(open(f_out, \"rb\"))\n",
    "        outputs = np.asarray(outputs)[:int(n)]      \n",
    "    \n",
    "    else:\n",
    "        f_in = ROOT_PATH + split + \"/\" + city + \"_inputs\"\n",
    "        inputs = pickle.load(open(f_in, \"rb\"))\n",
    "        n = len(inputs)\n",
    "        inputs = np.asarray(inputs)\n",
    "\n",
    "    return inputs, outputs\n",
    "\n",
    "class ArgoverseDataset(Dataset):\n",
    "    \"\"\"Dataset class for Argoverse\"\"\"\n",
    "    def __init__(self, city: str, split:str, transform=None):\n",
    "        super(ArgoverseDataset, self).__init__()\n",
    "        self.transform = transform\n",
    "\n",
    "        self.inputs, self.outputs = get_city_trajectories(city=city, split=split, normalized=False)\n",
    "\n",
    "    def __len__(self):\n",
    "        return len(self.inputs)\n",
    "\n",
    "    def __getitem__(self, idx):\n",
    "\n",
    "        data = (self.inputs[idx], self.outputs[idx])\n",
    "            \n",
    "        if self.transform:\n",
    "            data = self.transform(data)\n",
    "\n",
    "        return data\n",
    "\n",
    "# intialize a dataset\n",
    "city = 'palo-alto' \n",
    "split = 'train'\n",
    "train_dataset  = ArgoverseDataset(city = city, split = split)"
   ]
  },
  {
   "cell_type": "code",
   "execution_count": 105,
   "id": "13239220",
   "metadata": {},
   "outputs": [
    {
     "data": {
      "text/plain": [
       "array([-1303.7625276 ,  1138.31246403, -1303.51742401,  1138.71707532,\n",
       "       -1303.21204952,  1139.21904709, -1302.84823902,  1139.8161695 ,\n",
       "       -1302.42992386,  1140.50078551, -1301.96188374,  1141.26262409,\n",
       "       -1301.4558762 ,  1142.08314552, -1300.92593051,  1142.94096098,\n",
       "       -1300.38289221,  1143.81733833, -1299.83693982,  1144.69344162,\n",
       "       -1299.30307674,  1145.54357628, -1298.78314062,  1146.36695077,\n",
       "       -1298.26319828,  1147.18870759, -1297.74300535,  1148.00623848,\n",
       "       -1297.22360328,  1148.81431759, -1296.70573541,  1149.61491347,\n",
       "       -1296.18825919,  1150.41213503, -1295.67093647,  1151.20469326,\n",
       "       -1295.15287446,  1151.99354667, -1294.63506871,  1152.7780662 ,\n",
       "       -1294.11991324,  1153.5568605 , -1293.60805538,  1154.33176132,\n",
       "       -1293.09994617,  1155.10151568, -1292.59382454,  1155.86684617,\n",
       "       -1292.09151143,  1156.62596014, -1291.5911971 ,  1157.3821201 ,\n",
       "       -1291.08718506,  1158.14207537, -1290.57690412,  1158.90776374,\n",
       "       -1290.06313922,  1159.67398207, -1289.55164246,  1160.43357224,\n",
       "       -1289.04106421,  1161.1899611 , -1288.53101004,  1161.94372396,\n",
       "       -1288.02297645,  1162.69266991, -1287.51846096,  1163.43736104,\n",
       "       -1287.01530708,  1164.18063043, -1286.51279869,  1164.92361273,\n",
       "       -1286.01147586,  1165.66622589, -1285.51130185,  1166.41015672,\n",
       "       -1285.0157926 ,  1167.15508421, -1284.52449986,  1167.9015824 ,\n",
       "       -1284.03420845,  1168.65277709, -1283.53610659,  1169.41506685,\n",
       "       -1283.03120284,  1170.18745789, -1282.52863767,  1170.96297429,\n",
       "       -1282.02670902,  1171.7415642 , -1281.5287167 ,  1172.51939563,\n",
       "       -1281.02713412,  1173.30212877, -1280.51942772,  1174.08904751,\n",
       "       -1280.01154531,  1174.87730252, -1279.5029628 ,  1175.66831451])"
      ]
     },
     "execution_count": 105,
     "metadata": {},
     "output_type": "execute_result"
    }
   ],
   "source": [
    "output = [d[1].flatten() for d in train_dataset]\n",
    "in_put = [d[0].flatten() for d in train_dataset]\n",
    "in_put[0]\n"
   ]
  },
  {
   "cell_type": "code",
   "execution_count": 106,
   "id": "cc35366c",
   "metadata": {},
   "outputs": [],
   "source": [
    "a = in_put[0]"
   ]
  },
  {
   "cell_type": "code",
   "execution_count": 108,
   "id": "5cba3405",
   "metadata": {},
   "outputs": [],
   "source": [
    "x = [ a[i] for i in range(len(a)) if i %2 == 0 ]\n",
    "y =  [ a[i] for i in range(len(a)) if i %1 == 0 ]"
   ]
  },
  {
   "cell_type": "code",
   "execution_count": 111,
   "id": "ebd074ee",
   "metadata": {},
   "outputs": [
    {
     "data": {
      "text/plain": [
       "array([0.24510359, 0.3053745 , 0.3638105 , 0.41831515, 0.46804012,\n",
       "       0.50600754, 0.52994569, 0.5430383 , 0.5459524 , 0.53386308,\n",
       "       0.51993611, 0.51994234, 0.52019294, 0.51940206, 0.51786787,\n",
       "       0.51747623, 0.51732272, 0.51806201, 0.51780575, 0.51515547,\n",
       "       0.51185786, 0.50810921, 0.50612163, 0.50231311, 0.50031433,\n",
       "       0.50401204, 0.51028094, 0.5137649 , 0.51149676, 0.51057825,\n",
       "       0.51005417, 0.50803358, 0.50451549, 0.50315388, 0.50250839,\n",
       "       0.50132283, 0.500174  , 0.49550925, 0.49129274, 0.49029141,\n",
       "       0.49810186, 0.50490375, 0.50256517, 0.50192865, 0.49799231,\n",
       "       0.50158258, 0.5077064 , 0.50788241, 0.50858251])"
      ]
     },
     "execution_count": 111,
     "metadata": {},
     "output_type": "execute_result"
    }
   ],
   "source": [
    "xv = np.array(x[1:])-np.array(x[0:-1])\n",
    "xv"
   ]
  },
  {
   "cell_type": "code",
   "execution_count": 164,
   "id": "0e09033b",
   "metadata": {},
   "outputs": [],
   "source": [
    "def velocity(l):\n",
    "    x = [ l[i] for i in range(len(l)) if i %2 == 0 ]\n",
    "    y = [ l[i] for i in range(len(l)) if i %2 == 1 ]\n",
    "    xv = np.array(x[1:])-np.array(x[0:-1])\n",
    "    yv = np.array(y[1:])-np.array(y[0:-1])\n",
    "    l = list(l) + list(xv)\n",
    "    l = l + list(yv)\n",
    "    return l\n",
    "\n"
   ]
  },
  {
   "cell_type": "code",
   "execution_count": 189,
   "id": "625b020d",
   "metadata": {},
   "outputs": [],
   "source": [
    "def get_csv(city):\n",
    "    \n",
    "    #get data ready for this city\n",
    "    train_dataset = ArgoverseDataset(city, split = \"train\")\n",
    "    output = [d[1].flatten() for d in train_dataset]\n",
    "    in_put = [d[0].flatten() for d in train_dataset]\n",
    "    in_put_new = [velocity(l) for l in in_put]\n",
    " \n",
    "    # standardize the train data \n",
    "    #x_scaler = preprocessing.StandardScaler().fit(in_put)\n",
    "   # y_scaler = preprocessing.StandardScaler().fit(output)\n",
    "   # X_scaled = x_scaler.transform(in_put)\n",
    "    #y_scaled = y_scaler.transform(output)\n",
    "    \n",
    "    \n",
    "    #train the model for this city\n",
    "    model = MLPRegressor(activation=\"relu\", solver=\"adam\", early_stopping=True,validation_fraction = 0.3,\n",
    "    learning_rate=\"adaptive\", max_iter=500,alpha=0.0005,hidden_layer_sizes = (32,64,64,128))\n",
    "    model.fit(in_put_new,output)\n",
    "    print(model.loss_)\n",
    "    #get the predictoin \n",
    "    test_input,y =get_city_trajectories(city, \"test\", normalized=False)\n",
    "    x_test = [ d.flatten() for d in test_input]\n",
    "    in_put_newtest = [ velocity(l) for l in x_test]\n",
    "    # xtest_scaler = preprocessing.StandardScaler().fit(x_test)\n",
    "    # xtest_scaled = xtest_scaler.transform(x_test)\n",
    "    \n",
    "    y= model.predict(in_put_newtest)\n",
    "    #real_y =y_scaler.inverse_transform(y)\n",
    "    return y"
   ]
  },
  {
   "cell_type": "code",
   "execution_count": 190,
   "id": "b09f8879",
   "metadata": {},
   "outputs": [
    {
     "name": "stdout",
     "output_type": "stream",
     "text": [
      "108.77791993429065\n"
     ]
    },
    {
     "data": {
      "text/plain": [
       "array([[-3.52381896e+01, -5.75268119e+02, -4.26030973e+01, ...,\n",
       "        -5.55514246e+02, -4.67866048e+01, -5.63220722e+02],\n",
       "       [-3.56181585e+02,  9.15252203e-01, -3.44201417e+02, ...,\n",
       "        -1.03967234e+01, -3.46344033e+02, -1.26004593e+01],\n",
       "       [ 5.16975898e+01, -2.51409329e+02,  5.13018645e+01, ...,\n",
       "        -2.48004254e+02,  4.90955470e+01, -2.47728311e+02],\n",
       "       ...,\n",
       "       [-6.80420765e+02,  4.93905790e+02, -6.81288586e+02, ...,\n",
       "         4.90690264e+02, -6.82826622e+02,  4.83817166e+02],\n",
       "       [-1.14988038e+02,  1.59074404e+03, -1.13182784e+02, ...,\n",
       "         1.56499341e+03, -1.20604712e+02,  1.57055134e+03],\n",
       "       [ 3.73309021e+02, -1.49858190e+03,  3.71734311e+02, ...,\n",
       "        -1.49678569e+03,  3.72925495e+02, -1.50350144e+03]])"
      ]
     },
     "execution_count": 190,
     "metadata": {},
     "output_type": "execute_result"
    }
   ],
   "source": [
    "get_csv(\"austin\")"
   ]
  },
  {
   "cell_type": "code",
   "execution_count": 191,
   "id": "f3225d8c",
   "metadata": {},
   "outputs": [
    {
     "name": "stdout",
     "output_type": "stream",
     "text": [
      "97.868811579875\n",
      "157.80708751499174\n",
      "95.72639854338782\n",
      "792.0624724539435\n",
      "163.63807359223014\n",
      "249.7933487569418\n"
     ]
    }
   ],
   "source": [
    "# get all the prediction \n",
    "final =[]\n",
    "for city in cities:\n",
    "    x = get_csv(city)\n",
    "    for ele in x:\n",
    "        final.append(ele)\n"
   ]
  },
  {
   "cell_type": "code",
   "execution_count": null,
   "id": "21f9f757",
   "metadata": {},
   "outputs": [],
   "source": []
  },
  {
   "cell_type": "code",
   "execution_count": 192,
   "id": "f30c9467",
   "metadata": {},
   "outputs": [
    {
     "data": {
      "text/plain": [
       "29843"
      ]
     },
     "execution_count": 192,
     "metadata": {},
     "output_type": "execute_result"
    }
   ],
   "source": [
    "len(final)"
   ]
  },
  {
   "cell_type": "code",
   "execution_count": 194,
   "id": "26e50b68",
   "metadata": {},
   "outputs": [],
   "source": [
    "np.savetxt(\"prediction.csv\", \n",
    "           final,\n",
    "           delimiter =\", \",\n",
    "           fmt ='% s')"
   ]
  },
  {
   "cell_type": "code",
   "execution_count": 234,
   "id": "6b2e8c7f",
   "metadata": {},
   "outputs": [],
   "source": [
    "df = pd.read_csv('C:/Users/ly264/Desktop/CSE151b_final_project/sample_submission.csv')"
   ]
  },
  {
   "cell_type": "code",
   "execution_count": 244,
   "id": "240e24e4",
   "metadata": {},
   "outputs": [
    {
     "data": {
      "text/html": [
       "<div>\n",
       "<style scoped>\n",
       "    .dataframe tbody tr th:only-of-type {\n",
       "        vertical-align: middle;\n",
       "    }\n",
       "\n",
       "    .dataframe tbody tr th {\n",
       "        vertical-align: top;\n",
       "    }\n",
       "\n",
       "    .dataframe thead th {\n",
       "        text-align: right;\n",
       "    }\n",
       "</style>\n",
       "<table border=\"1\" class=\"dataframe\">\n",
       "  <thead>\n",
       "    <tr style=\"text-align: right;\">\n",
       "      <th></th>\n",
       "      <th>v0</th>\n",
       "      <th>v1</th>\n",
       "      <th>v2</th>\n",
       "      <th>v3</th>\n",
       "      <th>v4</th>\n",
       "      <th>v5</th>\n",
       "      <th>v6</th>\n",
       "      <th>v7</th>\n",
       "      <th>v8</th>\n",
       "      <th>v9</th>\n",
       "      <th>...</th>\n",
       "      <th>v110</th>\n",
       "      <th>v111</th>\n",
       "      <th>v112</th>\n",
       "      <th>v113</th>\n",
       "      <th>v114</th>\n",
       "      <th>v115</th>\n",
       "      <th>v116</th>\n",
       "      <th>v117</th>\n",
       "      <th>v118</th>\n",
       "      <th>v119</th>\n",
       "    </tr>\n",
       "  </thead>\n",
       "  <tbody>\n",
       "    <tr>\n",
       "      <th>0</th>\n",
       "      <td>0</td>\n",
       "      <td>0</td>\n",
       "      <td>0</td>\n",
       "      <td>0</td>\n",
       "      <td>0</td>\n",
       "      <td>0</td>\n",
       "      <td>0</td>\n",
       "      <td>0</td>\n",
       "      <td>0</td>\n",
       "      <td>0</td>\n",
       "      <td>...</td>\n",
       "      <td>0</td>\n",
       "      <td>0</td>\n",
       "      <td>0</td>\n",
       "      <td>0</td>\n",
       "      <td>0</td>\n",
       "      <td>0</td>\n",
       "      <td>0</td>\n",
       "      <td>0</td>\n",
       "      <td>0</td>\n",
       "      <td>0</td>\n",
       "    </tr>\n",
       "    <tr>\n",
       "      <th>1</th>\n",
       "      <td>0</td>\n",
       "      <td>0</td>\n",
       "      <td>0</td>\n",
       "      <td>0</td>\n",
       "      <td>0</td>\n",
       "      <td>0</td>\n",
       "      <td>0</td>\n",
       "      <td>0</td>\n",
       "      <td>0</td>\n",
       "      <td>0</td>\n",
       "      <td>...</td>\n",
       "      <td>0</td>\n",
       "      <td>0</td>\n",
       "      <td>0</td>\n",
       "      <td>0</td>\n",
       "      <td>0</td>\n",
       "      <td>0</td>\n",
       "      <td>0</td>\n",
       "      <td>0</td>\n",
       "      <td>0</td>\n",
       "      <td>0</td>\n",
       "    </tr>\n",
       "    <tr>\n",
       "      <th>2</th>\n",
       "      <td>0</td>\n",
       "      <td>0</td>\n",
       "      <td>0</td>\n",
       "      <td>0</td>\n",
       "      <td>0</td>\n",
       "      <td>0</td>\n",
       "      <td>0</td>\n",
       "      <td>0</td>\n",
       "      <td>0</td>\n",
       "      <td>0</td>\n",
       "      <td>...</td>\n",
       "      <td>0</td>\n",
       "      <td>0</td>\n",
       "      <td>0</td>\n",
       "      <td>0</td>\n",
       "      <td>0</td>\n",
       "      <td>0</td>\n",
       "      <td>0</td>\n",
       "      <td>0</td>\n",
       "      <td>0</td>\n",
       "      <td>0</td>\n",
       "    </tr>\n",
       "    <tr>\n",
       "      <th>3</th>\n",
       "      <td>0</td>\n",
       "      <td>0</td>\n",
       "      <td>0</td>\n",
       "      <td>0</td>\n",
       "      <td>0</td>\n",
       "      <td>0</td>\n",
       "      <td>0</td>\n",
       "      <td>0</td>\n",
       "      <td>0</td>\n",
       "      <td>0</td>\n",
       "      <td>...</td>\n",
       "      <td>0</td>\n",
       "      <td>0</td>\n",
       "      <td>0</td>\n",
       "      <td>0</td>\n",
       "      <td>0</td>\n",
       "      <td>0</td>\n",
       "      <td>0</td>\n",
       "      <td>0</td>\n",
       "      <td>0</td>\n",
       "      <td>0</td>\n",
       "    </tr>\n",
       "    <tr>\n",
       "      <th>4</th>\n",
       "      <td>0</td>\n",
       "      <td>0</td>\n",
       "      <td>0</td>\n",
       "      <td>0</td>\n",
       "      <td>0</td>\n",
       "      <td>0</td>\n",
       "      <td>0</td>\n",
       "      <td>0</td>\n",
       "      <td>0</td>\n",
       "      <td>0</td>\n",
       "      <td>...</td>\n",
       "      <td>0</td>\n",
       "      <td>0</td>\n",
       "      <td>0</td>\n",
       "      <td>0</td>\n",
       "      <td>0</td>\n",
       "      <td>0</td>\n",
       "      <td>0</td>\n",
       "      <td>0</td>\n",
       "      <td>0</td>\n",
       "      <td>0</td>\n",
       "    </tr>\n",
       "    <tr>\n",
       "      <th>...</th>\n",
       "      <td>...</td>\n",
       "      <td>...</td>\n",
       "      <td>...</td>\n",
       "      <td>...</td>\n",
       "      <td>...</td>\n",
       "      <td>...</td>\n",
       "      <td>...</td>\n",
       "      <td>...</td>\n",
       "      <td>...</td>\n",
       "      <td>...</td>\n",
       "      <td>...</td>\n",
       "      <td>...</td>\n",
       "      <td>...</td>\n",
       "      <td>...</td>\n",
       "      <td>...</td>\n",
       "      <td>...</td>\n",
       "      <td>...</td>\n",
       "      <td>...</td>\n",
       "      <td>...</td>\n",
       "      <td>...</td>\n",
       "      <td>...</td>\n",
       "    </tr>\n",
       "    <tr>\n",
       "      <th>29838</th>\n",
       "      <td>0</td>\n",
       "      <td>0</td>\n",
       "      <td>0</td>\n",
       "      <td>0</td>\n",
       "      <td>0</td>\n",
       "      <td>0</td>\n",
       "      <td>0</td>\n",
       "      <td>0</td>\n",
       "      <td>0</td>\n",
       "      <td>0</td>\n",
       "      <td>...</td>\n",
       "      <td>0</td>\n",
       "      <td>0</td>\n",
       "      <td>0</td>\n",
       "      <td>0</td>\n",
       "      <td>0</td>\n",
       "      <td>0</td>\n",
       "      <td>0</td>\n",
       "      <td>0</td>\n",
       "      <td>0</td>\n",
       "      <td>0</td>\n",
       "    </tr>\n",
       "    <tr>\n",
       "      <th>29839</th>\n",
       "      <td>0</td>\n",
       "      <td>0</td>\n",
       "      <td>0</td>\n",
       "      <td>0</td>\n",
       "      <td>0</td>\n",
       "      <td>0</td>\n",
       "      <td>0</td>\n",
       "      <td>0</td>\n",
       "      <td>0</td>\n",
       "      <td>0</td>\n",
       "      <td>...</td>\n",
       "      <td>0</td>\n",
       "      <td>0</td>\n",
       "      <td>0</td>\n",
       "      <td>0</td>\n",
       "      <td>0</td>\n",
       "      <td>0</td>\n",
       "      <td>0</td>\n",
       "      <td>0</td>\n",
       "      <td>0</td>\n",
       "      <td>0</td>\n",
       "    </tr>\n",
       "    <tr>\n",
       "      <th>29840</th>\n",
       "      <td>0</td>\n",
       "      <td>0</td>\n",
       "      <td>0</td>\n",
       "      <td>0</td>\n",
       "      <td>0</td>\n",
       "      <td>0</td>\n",
       "      <td>0</td>\n",
       "      <td>0</td>\n",
       "      <td>0</td>\n",
       "      <td>0</td>\n",
       "      <td>...</td>\n",
       "      <td>0</td>\n",
       "      <td>0</td>\n",
       "      <td>0</td>\n",
       "      <td>0</td>\n",
       "      <td>0</td>\n",
       "      <td>0</td>\n",
       "      <td>0</td>\n",
       "      <td>0</td>\n",
       "      <td>0</td>\n",
       "      <td>0</td>\n",
       "    </tr>\n",
       "    <tr>\n",
       "      <th>29841</th>\n",
       "      <td>0</td>\n",
       "      <td>0</td>\n",
       "      <td>0</td>\n",
       "      <td>0</td>\n",
       "      <td>0</td>\n",
       "      <td>0</td>\n",
       "      <td>0</td>\n",
       "      <td>0</td>\n",
       "      <td>0</td>\n",
       "      <td>0</td>\n",
       "      <td>...</td>\n",
       "      <td>0</td>\n",
       "      <td>0</td>\n",
       "      <td>0</td>\n",
       "      <td>0</td>\n",
       "      <td>0</td>\n",
       "      <td>0</td>\n",
       "      <td>0</td>\n",
       "      <td>0</td>\n",
       "      <td>0</td>\n",
       "      <td>0</td>\n",
       "    </tr>\n",
       "    <tr>\n",
       "      <th>29842</th>\n",
       "      <td>0</td>\n",
       "      <td>0</td>\n",
       "      <td>0</td>\n",
       "      <td>0</td>\n",
       "      <td>0</td>\n",
       "      <td>0</td>\n",
       "      <td>0</td>\n",
       "      <td>0</td>\n",
       "      <td>0</td>\n",
       "      <td>0</td>\n",
       "      <td>...</td>\n",
       "      <td>0</td>\n",
       "      <td>0</td>\n",
       "      <td>0</td>\n",
       "      <td>0</td>\n",
       "      <td>0</td>\n",
       "      <td>0</td>\n",
       "      <td>0</td>\n",
       "      <td>0</td>\n",
       "      <td>0</td>\n",
       "      <td>0</td>\n",
       "    </tr>\n",
       "  </tbody>\n",
       "</table>\n",
       "<p>29843 rows × 120 columns</p>\n",
       "</div>"
      ],
      "text/plain": [
       "       v0  v1  v2  v3  v4  v5  v6  v7  v8  v9  ...  v110  v111  v112  v113  \\\n",
       "0       0   0   0   0   0   0   0   0   0   0  ...     0     0     0     0   \n",
       "1       0   0   0   0   0   0   0   0   0   0  ...     0     0     0     0   \n",
       "2       0   0   0   0   0   0   0   0   0   0  ...     0     0     0     0   \n",
       "3       0   0   0   0   0   0   0   0   0   0  ...     0     0     0     0   \n",
       "4       0   0   0   0   0   0   0   0   0   0  ...     0     0     0     0   \n",
       "...    ..  ..  ..  ..  ..  ..  ..  ..  ..  ..  ...   ...   ...   ...   ...   \n",
       "29838   0   0   0   0   0   0   0   0   0   0  ...     0     0     0     0   \n",
       "29839   0   0   0   0   0   0   0   0   0   0  ...     0     0     0     0   \n",
       "29840   0   0   0   0   0   0   0   0   0   0  ...     0     0     0     0   \n",
       "29841   0   0   0   0   0   0   0   0   0   0  ...     0     0     0     0   \n",
       "29842   0   0   0   0   0   0   0   0   0   0  ...     0     0     0     0   \n",
       "\n",
       "       v114  v115  v116  v117  v118  v119  \n",
       "0         0     0     0     0     0     0  \n",
       "1         0     0     0     0     0     0  \n",
       "2         0     0     0     0     0     0  \n",
       "3         0     0     0     0     0     0  \n",
       "4         0     0     0     0     0     0  \n",
       "...     ...   ...   ...   ...   ...   ...  \n",
       "29838     0     0     0     0     0     0  \n",
       "29839     0     0     0     0     0     0  \n",
       "29840     0     0     0     0     0     0  \n",
       "29841     0     0     0     0     0     0  \n",
       "29842     0     0     0     0     0     0  \n",
       "\n",
       "[29843 rows x 120 columns]"
      ]
     },
     "execution_count": 244,
     "metadata": {},
     "output_type": "execute_result"
    }
   ],
   "source": [
    "final"
   ]
  },
  {
   "cell_type": "code",
   "execution_count": 176,
   "id": "bca8e305",
   "metadata": {},
   "outputs": [
    {
     "data": {
      "text/plain": [
       "<function matplotlib.pyplot.show(close=None, block=None)>"
      ]
     },
     "execution_count": 176,
     "metadata": {},
     "output_type": "execute_result"
    },
    {
     "data": {
      "image/png": "[encoded data removed]",
      "text/plain": [
       "<Figure size 432x288 with 1 Axes>"
      ]
     },
     "metadata": {
      "needs_background": "light"
     },
     "output_type": "display_data"
    }
   ],
   "source": [
    "import matplotlib.pyplot as plt\n",
    "y_show = y[677]\n",
    "x_res = []\n",
    "y_res = []\n",
    "for i in range(0,120,2):\n",
    "    x_res.append(y_show[i])\n",
    "    y_res.append(y_show[i+1])\n",
    "plt.scatter(x_res, y_res)\n",
    "plt.show\n"
   ]
  },
  {
   "cell_type": "code",
   "execution_count": 249,
   "id": "83f44d90",
   "metadata": {},
   "outputs": [
    {
     "data": {
      "text/plain": [
       "MLPRegressor(alpha=0.001, hidden_layer_sizes=(32, 64, 64, 128),\n",
       "             learning_rate='adaptive', max_iter=400)"
      ]
     },
     "execution_count": 249,
     "metadata": {},
     "output_type": "execute_result"
    }
   ],
   "source": [
    "    #get data ready for this city\n",
    "    train_dataset = ArgoverseDataset(\"austin\", split = \"train\")\n",
    "    output = [d[1].flatten() for d in train_dataset]\n",
    "    in_put = [d[0].flatten() for d in train_dataset]\n",
    "    \n",
    "    #train the model for this city\n",
    "    model = MLPRegressor(activation=\"relu\", solver=\"adam\", early_stopping=False,\n",
    "    learning_rate=\"adaptive\", max_iter=400,alpha=0.001,hidden_layer_sizes = (32,64,64,128))\n",
    "    \n",
    "    model.fit(in_put,output)\n",
    "    \n",
    "\n",
    "    "
   ]
  },
  {
   "cell_type": "code",
   "execution_count": 33,
   "id": "d1551046",
   "metadata": {},
   "outputs": [],
   "source": [
    "import matplotlib.pyplot as plt"
   ]
  },
  {
   "cell_type": "code",
   "execution_count": 36,
   "id": "236d1315",
   "metadata": {},
   "outputs": [],
   "source": [
    "li = np.log((model.loss_curve_))"
   ]
  },
  {
   "cell_type": "code",
   "execution_count": 37,
   "id": "c4d90d37",
   "metadata": {},
   "outputs": [
    {
     "data": {
      "text/plain": [
       "[<matplotlib.lines.Line2D at 0x173020d7d30>]"
      ]
     },
     "execution_count": 37,
     "metadata": {},
     "output_type": "execute_result"
    },
    {
     "data": {
      "image/png": "[encoded data removed]",
      "text/plain": [
       "<Figure size 432x288 with 1 Axes>"
      ]
     },
     "metadata": {
      "needs_background": "light"
     },
     "output_type": "display_data"
    }
   ],
   "source": [
    "plt.plot(li)"
   ]
  },
  {
   "cell_type": "code",
   "execution_count": null,
   "id": "c34770f1",
   "metadata": {},
   "outputs": [],
   "source": []
  }
 ],
 "metadata": {
  "kernelspec": {
   "display_name": "Python 3 (ipykernel)",
   "language": "python",
   "name": "python3"
  },
  "language_info": {
   "codemirror_mode": {
    "name": "ipython",
    "version": 3
   },
   "file_extension": ".py",
   "mimetype": "text/x-python",
   "name": "python",
   "nbconvert_exporter": "python",
   "pygments_lexer": "ipython3",
   "version": "3.9.7"
  }
 },
 "nbformat": 4,
 "nbformat_minor": 5
}
