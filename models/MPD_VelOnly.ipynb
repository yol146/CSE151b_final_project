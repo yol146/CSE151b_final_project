{
 "cells": [
  {
   "cell_type": "code",
   "execution_count": 1,
   "id": "4ea45908",
   "metadata": {},
   "outputs": [
    {
     "data": {
      "text/plain": [
       "'\\n    number of trajectories in each city\\n    # austin --  train: 43041 test: 6325 \\n    # miami -- train: 55029 test:7971\\n    # pittsburgh -- train: 43544 test: 6361\\n    # dearborn -- train: 24465 test: 3671\\n    # washington-dc -- train: 25744 test: 3829\\n    # palo-alto -- train:  11993 test:1686\\n\\n    trajectories sampled at 10HZ rate, input 5 seconds, output 6 seconds\\n    \\n'"
      ]
     },
     "execution_count": 1,
     "metadata": {},
     "output_type": "execute_result"
    }
   ],
   "source": [
    "import torch\n",
    "from torch.utils.data import Dataset, DataLoader\n",
    "import os, os.path \n",
    "import numpy \n",
    "import pickle\n",
    "from glob import glob\n",
    "# Get the device\n",
    "if (torch.cuda.is_available()):\n",
    "    device = torch.device(\"cuda:0\")\n",
    "else:\n",
    "    device = torch.device(\"cpu\")\n",
    "\n",
    "\n",
    "\"\"\"\n",
    "    number of trajectories in each city\n",
    "    # austin --  train: 43041 test: 6325 \n",
    "    # miami -- train: 55029 test:7971\n",
    "    # pittsburgh -- train: 43544 test: 6361\n",
    "    # dearborn -- train: 24465 test: 3671\n",
    "    # washington-dc -- train: 25744 test: 3829\n",
    "    # palo-alto -- train:  11993 test:1686\n",
    "\n",
    "    trajectories sampled at 10HZ rate, input 5 seconds, output 6 seconds\n",
    "    \n",
    "\"\"\""
   ]
  },
  {
   "cell_type": "code",
   "execution_count": 12,
   "id": "12135093",
   "metadata": {},
   "outputs": [],
   "source": [
    "from glob import glob\n",
    "import pickle\n",
    "import numpy as np\n",
    "\n",
    "ROOT_PATH = \"./argo2/\"\n",
    "\n",
    "cities = [\"austin\", \"miami\", \"pittsburgh\", \"dearborn\", \"washington-dc\", \"palo-alto\"]\n",
    "splits = [\"train\", \"test\"]\n",
    "\n",
    "# # intialize a dataset\n",
    "city = 'austin' \n",
    "split = 'train'\n",
    "\n",
    "def normalize(trajectories):\n",
    "    minxy = np.min(trajectories, axis=-1)\n",
    "    maxxy = np.max(trajectories, axis=-1)\n",
    "    scale = np.max(maxxy - minxy) / 2.0\n",
    "    return (trajectories / scale), scale\n",
    "\n",
    "def unnormalize(trajectories, scale):\n",
    "    return trajectories * scale\n",
    "\n",
    "\n",
    "def get_city_trajectories(city=\"palo-alto\", split=\"train\", normalized=False):\n",
    "    \n",
    "    outputs = None\n",
    "    \n",
    "    if split==\"train\":\n",
    "        f_in = ROOT_PATH + split + \"/\" + city + \"_inputs\"\n",
    "        inputs = pickle.load(open(f_in, \"rb\"))\n",
    "        n = len(inputs)\n",
    "        inputs = np.asarray(inputs)[:int(n * 0.8)]\n",
    "        \n",
    "        f_out = ROOT_PATH + split + \"/\" + city + \"_outputs\"\n",
    "        outputs = pickle.load(open(f_out, \"rb\"))\n",
    "        outputs = np.asarray(outputs)[:int(n * 0.8)]\n",
    "        \n",
    "    elif split == 'val':\n",
    "        f_in = ROOT_PATH + 'train' + \"/\" + city + \"_inputs\"\n",
    "        inputs = pickle.load(open(f_in, \"rb\"))\n",
    "        n = len(inputs)\n",
    "        inputs = np.asarray(inputs)[int(n * 0.8):]\n",
    "        \n",
    "        f_out = ROOT_PATH + 'train' + \"/\" + city + \"_outputs\"\n",
    "        outputs = pickle.load(open(f_out, \"rb\"))\n",
    "        outputs = np.asarray(outputs)[int(n * 0.8):]\n",
    "    \n",
    "    else:\n",
    "        f_in = ROOT_PATH + split + \"/\" + city + \"_inputs\"\n",
    "        inputs = pickle.load(open(f_in, \"rb\"))\n",
    "        n = len(inputs)\n",
    "        inputs = np.asarray(inputs)\n",
    "\n",
    "    return inputs, outputs\n",
    "\n",
    "class ArgoverseDataset(Dataset):\n",
    "    \"\"\"Dataset class for Argoverse\"\"\"\n",
    "    def __init__(self, city: str, split:str, transform=None):\n",
    "        super(ArgoverseDataset, self).__init__()\n",
    "        self.transform = transform\n",
    "\n",
    "        self.inputs, self.outputs = get_city_trajectories(city=city, split=split, normalized=False)\n",
    "\n",
    "    def __len__(self):\n",
    "        return len(self.inputs)\n",
    "\n",
    "    def __getitem__(self, idx):\n",
    "        \n",
    "#         tensor = torch.Tensor(self.feature[item])\n",
    "#         tensorlabel = torch.Tensor(self.label[item])\n",
    "#         return tensor.to(device), tensorlabel.to(device)\n",
    "\n",
    "        data = np.concatenate((self.inputs[idx], self.outputs[idx]))\n",
    "            \n",
    "        if self.transform:\n",
    "            data = self.transform(data)\n",
    "\n",
    "        return torch.Tensor(data).to(device)\n",
    "    \n",
    "# every path has length 110, with the 110nd character as target value\n",
    "# set range step higher if overfit     \n",
    "# if dataArr is with velocity, remove for y labels\n",
    "def create_set(dataArr, normalization=False):\n",
    "    normArr = dataArr\n",
    "    scale = 0\n",
    "    set_x = []\n",
    "    set_y = []\n",
    "    if(normalization):\n",
    "        normArr, scale = normalize(dataArr)\n",
    "    for path in normArr:\n",
    "            set_x.append(path[:108])\n",
    "            set_y.append(path[108])\n",
    "    return set_x, set_y, scale\n",
    "\n",
    "class mydataset(Dataset):\n",
    "    def __init__(self, x, y):\n",
    "        \n",
    "        self.feature = x\n",
    "        self.label = y\n",
    "        \n",
    "    def __getitem__(self, item):\n",
    "        \n",
    "        tensor = torch.Tensor(self.feature[item])\n",
    "        tensorlabel = torch.Tensor(self.label[item])\n",
    "        return tensor.to(device), tensorlabel.to(device)\n",
    "    \n",
    "    def __len__(self):\n",
    "        return len(self.feature)\n",
    "    \n",
    "# input: n*110*2 paths\n",
    "# output: n*110*4 paths with dim2 = [x,y,Vx,Vy], where Vx, Vy are velocity with length/.1s as unit\n",
    "def addVelocity(dataArr):\n",
    "    dataWV = []\n",
    "    for path in np.array(dataArr):\n",
    "        pathWV = []\n",
    "        pathWV.append(np.concatenate((path[0], [0,0])))\n",
    "        for coord in range(1, len(path)):\n",
    "            vel = path[coord] - path[coord-1]\n",
    "            coordWV = np.concatenate((path[coord], vel))\n",
    "            pathWV.append(coordWV)\n",
    "        dataWV.append(pathWV)\n",
    "    return np.array(dataWV)\n",
    "\n",
    "def calcVelocity(dataArr):\n",
    "    dataWV = []\n",
    "    for path in np.array(dataArr):\n",
    "        pathWV = []\n",
    "#         pathWV.append(path[1] - path[0])\n",
    "        for coord in range(1, len(path)):\n",
    "            vel = path[coord] - path[coord-1]\n",
    "            pathWV.append(vel)\n",
    "        dataWV.append(pathWV)\n",
    "    return np.array(dataWV)\n",
    "\n",
    "# shifts every path to be starting from 0,0\n",
    "# returns shifted data Array, each array's shifted value\n",
    "def toOrigin (dataArr):\n",
    "    dataO = []\n",
    "    shiftArr = []\n",
    "    for path in np.array(dataArr):\n",
    "        pathO = []\n",
    "        shifter = path[0]\n",
    "        shiftArr.append(shifter)\n",
    "        for coord in range(len(path)):\n",
    "            shifted = path[coord] - shifter\n",
    "            pathO.append(shifted)\n",
    "        dataO.append(pathO)\n",
    "    return dataO, shiftArr"
   ]
  },
  {
   "cell_type": "code",
   "execution_count": 13,
   "id": "e6d1034b",
   "metadata": {},
   "outputs": [],
   "source": [
    "\n",
    "# get train data\n",
    "inputs, outputs = get_city_trajectories(city=city, split=split, normalized=False)\n",
    "all_in_1 = []\n",
    "for i in range(len(inputs)):\n",
    "    togetherData = np.concatenate((inputs[i], outputs[i]))\n",
    "    all_in_1.append(togetherData)\n",
    "\n",
    "\n",
    "# Get Validation Data\n",
    "inputs, outputs = get_city_trajectories(city=city, split='val', normalized=False)\n",
    "val_in_1 = []\n",
    "for i in range(len(inputs)):\n",
    "    togetherData = np.concatenate((inputs[i], outputs[i]))\n",
    "    val_in_1.append(togetherData)\n",
    "    \n",
    "# random subsampling from val_set to make faster validation\n",
    "numValPath = 300\n",
    "val_index = np.random.choice(len(val_in_1), numValPath, replace=False)\n",
    "val_in_1_500 = np.array(val_in_1)[val_index]\n"
   ]
  },
  {
   "cell_type": "code",
   "execution_count": 16,
   "id": "6af2c5c7",
   "metadata": {},
   "outputs": [],
   "source": [
    "def prepDataSet(data):\n",
    "    velArr = calcVelocity(data)\n",
    "    set_x, set_y, scale = create_set(velArr)\n",
    "    processedDataSet = mydataset(set_x, set_y)\n",
    "    return processedDataSet"
   ]
  },
  {
   "cell_type": "code",
   "execution_count": 17,
   "id": "8782f343",
   "metadata": {},
   "outputs": [],
   "source": [
    "train_set = prepDataSet(all_in_1)\n",
    "val_set = prepDataSet(val_in_1_500)"
   ]
  },
  {
   "cell_type": "markdown",
   "id": "5f0909ce",
   "metadata": {},
   "source": [
    "Data Processing Done (shift to origin -> unify starting direction -> add velocity -> return proessedDataSet, convBackArr)"
   ]
  },
  {
   "cell_type": "markdown",
   "id": "ddfffa02",
   "metadata": {},
   "source": [
    "# DataLoader"
   ]
  },
  {
   "cell_type": "code",
   "execution_count": 80,
   "id": "83515dd7",
   "metadata": {},
   "outputs": [],
   "source": [
    "batch_sz = 64  # batch size \n",
    "train_loader = DataLoader(train_set,batch_size=batch_sz, shuffle = True)\n",
    "val_loader = DataLoader(val_set, batch_size=batch_sz, shuffle = True)"
   ]
  },
  {
   "cell_type": "markdown",
   "id": "0f082417",
   "metadata": {},
   "source": [
    "# LSTM Model Implementation"
   ]
  },
  {
   "cell_type": "code",
   "execution_count": 244,
   "id": "f6774c37",
   "metadata": {},
   "outputs": [],
   "source": [
    "from torch import nn, optim\n",
    "\n",
    "class LSTMModel(nn.Module):\n",
    "    def __init__(self, input_dim, hidden_dim, layer_dim, output_dim):\n",
    "        super(LSTMModel, self).__init__()\n",
    "        #Hidden dimensions\n",
    "        self.hidden_dim = hidden_dim\n",
    "        \n",
    "        #Number of hidden layers\n",
    "        self.layer_dim = layer_dim\n",
    "        \n",
    "        #imput dim\n",
    "        self.input_dim = input_dim\n",
    "        \n",
    "#         inFc2 = int(hidden_dim)/2\n",
    "        \n",
    "        \n",
    "        #Building your LSTM\n",
    "        #batch_first=True causes input/output tensors to be of shape\n",
    "        #(batch_dim, seq_dim, feature_dim)\n",
    "        self.lstm = nn.LSTM(input_dim, hidden_dim, layer_dim, batch_first=True)\n",
    "        \n",
    "        #Readout layer\n",
    "        self.fc1 = nn.Linear (hidden_dim*layer_dim, hidden_dim)\n",
    "        self.fc2 = nn.Linear (hidden_dim, output_dim)\n",
    "        \n",
    "        \n",
    "    def forward(self, x):\n",
    "        #Initialize hidden state with zeros\n",
    "        h0 = torch.zeros(self.layer_dim, x.size(0), self.hidden_dim).requires_grad_().to(device)\n",
    "        \n",
    "        #Initialize cell state\n",
    "        c0 = torch.zeros(self.layer_dim, x.size(0), self.hidden_dim).requires_grad_().to(device)\n",
    "        \n",
    "        \n",
    "        #Output channel\n",
    "        output, (hn, cn) = self.lstm(x, (h0, c0))\n",
    "#         hn = hn.view(hn.size(0), -1)\n",
    "        hn = hn.view(-1,self.hidden_dim*self.layer_dim)\n",
    "        out = self.fc1(hn)\n",
    "        out = self.fc2(out)\n",
    "        \n",
    "        return out"
   ]
  },
  {
   "cell_type": "markdown",
   "id": "0cc26525",
   "metadata": {},
   "source": [
    "# Hyper Parameters"
   ]
  },
  {
   "cell_type": "code",
   "execution_count": 251,
   "id": "ddbb4666",
   "metadata": {},
   "outputs": [
    {
     "name": "stdout",
     "output_type": "stream",
     "text": [
      "cuda:0 \n",
      " LSTMModel(\n",
      "  (lstm): LSTM(2, 256, batch_first=True)\n",
      "  (fc1): Linear(in_features=256, out_features=256, bias=True)\n",
      "  (fc2): Linear(in_features=256, out_features=2, bias=True)\n",
      ")\n",
      "lstm.weight_ih_l0 torch.Size([1024, 2])\n",
      "lstm.weight_hh_l0 torch.Size([1024, 256])\n",
      "lstm.bias_ih_l0 torch.Size([1024])\n",
      "lstm.bias_hh_l0 torch.Size([1024])\n",
      "fc1.weight torch.Size([256, 256])\n",
      "fc1.bias torch.Size([256])\n",
      "fc2.weight torch.Size([2, 256])\n",
      "fc2.bias torch.Size([2])\n"
     ]
    }
   ],
   "source": [
    "# define hyper parameters\n",
    "learning_rate = 0.0005\n",
    "epochs = 50\n",
    "input_dim = 2\n",
    "hidden_dim = 256\n",
    "layer_count = 1\n",
    "output_dim = 2\n",
    "\n",
    "lstm = LSTMModel(input_dim, hidden_dim, layer_count, output_dim).to(device)\n",
    "print(device, \"\\n\", lstm)\n",
    "\n",
    "# loss = nn.CrossEntropyLoss()\n",
    "loss = nn.MSELoss()\n",
    "optimizer = torch.optim.Adam(lstm.parameters(), lr=learning_rate)\n",
    "\n",
    "# visualize the inner data shape\n",
    "for name, param in lstm.named_parameters():\n",
    "    if param.requires_grad:\n",
    "        print (name, param.data.shape)"
   ]
  },
  {
   "cell_type": "markdown",
   "id": "6b3dec73",
   "metadata": {},
   "source": [
    "# Training Function"
   ]
  },
  {
   "cell_type": "code",
   "execution_count": 252,
   "id": "899b7794",
   "metadata": {},
   "outputs": [],
   "source": [
    "import time\n",
    "import matplotlib.pyplot as plt\n",
    "lossArr = []\n",
    "# tranining function\n",
    "def train(dataloader, model, patience=3):\n",
    "#     enable gradients\n",
    "    model.train()\n",
    "    print(\"Begin time: \", time.ctime())\n",
    "    last_loss = 0\n",
    "    patience= patience\n",
    "    for epoch in range(epochs):\n",
    "        totalLoss = 0\n",
    "        for batch , (x,y) in enumerate(dataloader):\n",
    "            optimizer.zero_grad()\n",
    "            pred = model(x)\n",
    "            trainLoss = loss(pred, y)\n",
    "            totalLoss += trainLoss.item()\n",
    "            trainLoss.backward()\n",
    "            optimizer.step()\n",
    "        lossArr.append(totalLoss)\n",
    "        print(\"Time: \", time.ctime() , \"epoch: \", epoch, \"loss: \", totalLoss)\n",
    "        \n",
    "        #        early stopping\n",
    "#         TODO: change this into validation set! make a smaller validation set\n",
    "        if (last_loss < totalLoss and last_loss != 0):\n",
    "            print(\"EarlyStopping remain patience: \", patience)\n",
    "            if (patience <= 0):\n",
    "                print (\"Early Stopped\")\n",
    "                return\n",
    "            patience -= 1\n",
    "        last_loss = totalLoss"
   ]
  },
  {
   "cell_type": "markdown",
   "id": "72e6c010",
   "metadata": {},
   "source": [
    "# Training The Model"
   ]
  },
  {
   "cell_type": "code",
   "execution_count": 253,
   "id": "1ec8ec54",
   "metadata": {},
   "outputs": [
    {
     "name": "stdout",
     "output_type": "stream",
     "text": [
      "Begin time:  Fri May 27 14:52:38 2022\n",
      "Time:  Fri May 27 14:52:45 2022 epoch:  0 loss:  1.2653928691943293\n",
      "Time:  Fri May 27 14:52:52 2022 epoch:  1 loss:  0.18924625497311354\n",
      "Time:  Fri May 27 14:52:59 2022 epoch:  2 loss:  0.18160352537597646\n",
      "Time:  Fri May 27 14:53:06 2022 epoch:  3 loss:  0.17744501778724953\n",
      "Time:  Fri May 27 14:53:13 2022 epoch:  4 loss:  0.16977321121885325\n",
      "Time:  Fri May 27 14:53:21 2022 epoch:  5 loss:  0.16080989177862648\n",
      "Time:  Fri May 27 14:53:28 2022 epoch:  6 loss:  0.14939907060033875\n",
      "Time:  Fri May 27 14:53:35 2022 epoch:  7 loss:  0.13743158801662503\n",
      "Time:  Fri May 27 14:53:43 2022 epoch:  8 loss:  0.1310562200142158\n",
      "Time:  Fri May 27 14:53:51 2022 epoch:  9 loss:  0.12808650508486608\n",
      "Time:  Fri May 27 14:53:59 2022 epoch:  10 loss:  0.1269280565356894\n",
      "Time:  Fri May 27 14:54:06 2022 epoch:  11 loss:  0.12239246198805631\n",
      "Time:  Fri May 27 14:54:14 2022 epoch:  12 loss:  0.12028207713774464\n",
      "Time:  Fri May 27 14:54:21 2022 epoch:  13 loss:  0.1207839532471553\n",
      "EarlyStopping remain patience:  5\n",
      "Time:  Fri May 27 14:54:28 2022 epoch:  14 loss:  0.12172366488812258\n",
      "EarlyStopping remain patience:  4\n",
      "Time:  Fri May 27 14:54:35 2022 epoch:  15 loss:  0.11733007918155636\n",
      "Time:  Fri May 27 14:54:43 2022 epoch:  16 loss:  0.127780820859698\n",
      "EarlyStopping remain patience:  3\n",
      "Time:  Fri May 27 14:54:50 2022 epoch:  17 loss:  0.115249441443666\n",
      "Time:  Fri May 27 14:54:57 2022 epoch:  18 loss:  0.11842638162670482\n",
      "EarlyStopping remain patience:  2\n",
      "Time:  Fri May 27 14:55:05 2022 epoch:  19 loss:  0.11939683769014664\n",
      "EarlyStopping remain patience:  1\n",
      "Time:  Fri May 27 14:55:12 2022 epoch:  20 loss:  0.11875124794642034\n",
      "Time:  Fri May 27 14:55:19 2022 epoch:  21 loss:  0.11537221467187919\n",
      "Time:  Fri May 27 14:55:26 2022 epoch:  22 loss:  0.11337780444046075\n",
      "Time:  Fri May 27 14:55:34 2022 epoch:  23 loss:  0.11426863574160961\n",
      "EarlyStopping remain patience:  0\n",
      "Early Stopped\n"
     ]
    }
   ],
   "source": [
    "train(train_loader, lstm, patience=5)"
   ]
  },
  {
   "cell_type": "code",
   "execution_count": 127,
   "id": "e1ea1187",
   "metadata": {},
   "outputs": [],
   "source": [
    "# save the trained model\n",
    "# torch.save(lstm.state_dict(), \"trained_lstm\" + \"_lr%s_epoch%d_hd%d_%s\" % (str(learning_rate), epochs, hidden_dim, city))\n",
    "# numpy.save(\"./lossArr/\" + \"trained_lstm\" + \"_lr%s_epoch%d_hd%d_%s\" % (str(learning_rate), epochs, hidden_dim, city), lossArr)\n",
    "# load the trained model\n",
    "# lstm.load_state_dict(torch.load(\"trained_lstm_lr0.001_epoch20_hd100_austin\"))\n"
   ]
  },
  {
   "cell_type": "code",
   "execution_count": 254,
   "id": "dbb9be31",
   "metadata": {},
   "outputs": [
    {
     "data": {
      "image/png": "[encoded data removed]",
      "text/plain": [
       "<Figure size 432x288 with 1 Axes>"
      ]
     },
     "metadata": {
      "needs_background": "light"
     },
     "output_type": "display_data"
    }
   ],
   "source": [
    "plt.plot(lossArr)\n",
    "plt.title('Loss Graph')\n",
    "plt.xlabel('epoch')\n",
    "plt.ylabel('Loss')\n",
    "plt.show()"
   ]
  },
  {
   "cell_type": "markdown",
   "id": "f4bf50ed",
   "metadata": {},
   "source": [
    "# Testing"
   ]
  },
  {
   "cell_type": "code",
   "execution_count": 255,
   "id": "f2437add",
   "metadata": {},
   "outputs": [],
   "source": [
    "def predict(seed, model):\n",
    "    model.eval()\n",
    "    res = model(seed.to(device))\n",
    "    res = res.cpu().detach().numpy()\n",
    "    return res\n",
    "\n",
    "def test(dataloader, model):\n",
    "    model.eval()\n",
    "    size = len(dataloader.dataset)\n",
    "    testLoss, correct = 0,0\n",
    "    with torch.no_grad():\n",
    "        for batch, (x,y) in enumerate(dataloader):\n",
    "            pred = model(x)\n",
    "            testLoss += loss(pred, y).item()\n",
    "    testLoss /= size\n",
    "    print(f\"Test Error: \\n Avg loss: {testLoss:>8f} \\n\")"
   ]
  },
  {
   "cell_type": "code",
   "execution_count": 256,
   "id": "c690b6cf",
   "metadata": {},
   "outputs": [
    {
     "name": "stdout",
     "output_type": "stream",
     "text": [
      "Test Error: \n",
      " Avg loss: 0.000001 \n",
      "\n"
     ]
    }
   ],
   "source": [
    "test(val_loader, lstm)"
   ]
  },
  {
   "cell_type": "code",
   "execution_count": 262,
   "id": "9d5ee271",
   "metadata": {},
   "outputs": [],
   "source": [
    "testDataSet = calcVelocity(all_in_1)\n",
    "valDataSet = calcVelocity(val_in_1)\n",
    "# the first point of every path for generation\n",
    "initTestP = []\n",
    "initValP = []\n",
    "for path in all_in_1:\n",
    "    initTestP.append(path[0])\n",
    "    \n",
    "for path in val_in_1:\n",
    "    initValP.append(path[0])"
   ]
  },
  {
   "cell_type": "code",
   "execution_count": 292,
   "id": "c0fb1246",
   "metadata": {},
   "outputs": [],
   "source": [
    "    \n",
    "\n",
    "def processDataSet(data):\n",
    "    processedData, convBackArr = shiftAndRotate(data)\n",
    "    # now we have shifted & rotated data, then add velocity\n",
    "    data_WV = addVelocity(processedData)\n",
    "    return data_WV, convBackArr\n",
    "\n",
    "\n",
    "\n",
    "# predict an entire path\n",
    "def genPath(seed, model, pInit):\n",
    "    vel_w_seed = seed\n",
    "    path = [pInit]\n",
    "#     for i in range(target_length - len(seed)):\n",
    "    for i in range(59):\n",
    "#         print (len(torch.Tensor(path_w_seed[i:i + 50])))\n",
    "        vel_w_seed = np.concatenate((vel_w_seed, predict(torch.Tensor(vel_w_seed).unsqueeze(0), model)))\n",
    "#         print(len(path_w_seed))\n",
    "    for i in range(len(vel_w_seed)):\n",
    "        path.append((np.array(path[i]) + np.array(vel_w_seed[i]))*1.0005)\n",
    "    return path"
   ]
  },
  {
   "cell_type": "code",
   "execution_count": 293,
   "id": "d95eb05f",
   "metadata": {},
   "outputs": [],
   "source": [
    "import matplotlib.pyplot as plt\n",
    "import math\n",
    "\n",
    "# takes in a path and return x,y lists\n",
    "def parsePath(path):\n",
    "    tempX = []\n",
    "    tempY = []\n",
    "    for elem in path:\n",
    "        tempX.append(elem[0])\n",
    "        tempY.append(elem[1])\n",
    "    return tempX, tempY\n",
    "\n",
    "def showPath(x,y):\n",
    "    plt.scatter(x[0:50],y[0:50], c='b')\n",
    "    plt.scatter(x[50:],y[50:], c='r')"
   ]
  },
  {
   "cell_type": "code",
   "execution_count": 294,
   "id": "3d331c83",
   "metadata": {},
   "outputs": [
    {
     "name": "stdout",
     "output_type": "stream",
     "text": [
      "[[-0.05429824  0.02744416]]\n",
      "[-0.06798349  0.0357124 ]\n"
     ]
    }
   ],
   "source": [
    "res = predict(torch.Tensor(valDataSet[200][0:60]).unsqueeze(0), lstm)\n",
    "print(res)\n",
    "print(valDataSet[200][60])"
   ]
  },
  {
   "cell_type": "code",
   "execution_count": 307,
   "id": "b9c75d7d",
   "metadata": {
    "scrolled": true
   },
   "outputs": [
    {
     "name": "stdout",
     "output_type": "stream",
     "text": [
      "[  426.842508   -1543.81267252]\n"
     ]
    },
    {
     "data": {
      "image/png": "[encoded data removed]",
      "text/plain": [
       "<Figure size 432x288 with 1 Axes>"
      ]
     },
     "metadata": {
      "needs_background": "light"
     },
     "output_type": "display_data"
    }
   ],
   "source": [
    "pathTest = genPath(valDataSet[900][0:50], lstm, initTestP[900])\n",
    "print(pathTest[105])\n",
    "xPath, yPath = parsePath(pathTest)\n",
    "showPath(xPath, yPath)"
   ]
  },
  {
   "cell_type": "code",
   "execution_count": 308,
   "id": "82199450",
   "metadata": {},
   "outputs": [
    {
     "name": "stdout",
     "output_type": "stream",
     "text": [
      "[  318.25841397 -1464.04996853]\n"
     ]
    },
    {
     "data": {
      "image/png": "[encoded data removed]",
      "text/plain": [
       "<Figure size 432x288 with 1 Axes>"
      ]
     },
     "metadata": {
      "needs_background": "light"
     },
     "output_type": "display_data"
    }
   ],
   "source": [
    "xPathT, yPathT = parsePath(all_in_1[900])\n",
    "print(all_in_1[900][105])\n",
    "showPath(xPathT, yPathT)"
   ]
  },
  {
   "cell_type": "code",
   "execution_count": null,
   "id": "837d0c3e",
   "metadata": {},
   "outputs": [],
   "source": []
  }
 ],
 "metadata": {
  "kernelspec": {
   "display_name": "Python 3 (ipykernel)",
   "language": "python",
   "name": "python3"
  },
  "language_info": {
   "codemirror_mode": {
    "name": "ipython",
    "version": 3
   },
   "file_extension": ".py",
   "mimetype": "text/x-python",
   "name": "python",
   "nbconvert_exporter": "python",
   "pygments_lexer": "ipython3",
   "version": "3.9.12"
  }
 },
 "nbformat": 4,
 "nbformat_minor": 5
}
