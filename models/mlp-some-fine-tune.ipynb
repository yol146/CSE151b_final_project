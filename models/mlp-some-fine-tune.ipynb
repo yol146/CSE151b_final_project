{
 "cells": [
  {
   "cell_type": "code",
   "execution_count": 4,
   "id": "80f8c15b",
   "metadata": {},
   "outputs": [],
   "source": [
    "import numpy \n",
    "from sklearn.neural_network import MLPRegressor \n",
    "from glob import glob\n",
    "import pickle\n",
    "import numpy as np\n",
    "import torch\n",
    "from torch.utils.data import Dataset, DataLoader\n",
    "import os, os.path \n",
    "import pandas as pd"
   ]
  },
  {
   "cell_type": "code",
   "execution_count": 12,
   "id": "db7c1d3c",
   "metadata": {},
   "outputs": [],
   "source": [
    "from glob import glob\n",
    "import pickle\n",
    "import numpy as np\n",
    "\n",
    "ROOT_PATH = \"C:/Users/aaron/OneDrive/Desktop/temp/CSE151b_final_project/\"\n",
    "\n",
    "cities = [\"austin\", \"miami\", \"pittsburgh\", \"dearborn\", \"washington-dc\", \"palo-alto\"]\n",
    "splits = [\"train\", \"test\"]\n",
    "\n",
    "def get_city_trajectories(city=\"palo-alto\", split=\"train\", normalized=False):\n",
    "\n",
    "    \n",
    "    outputs = None\n",
    "    \n",
    "    if split==\"train\":\n",
    "        f_in = ROOT_PATH + split + \"/\" + city + \"_inputs\"\n",
    "        inputs = pickle.load(open(f_in, \"rb\"))\n",
    "        n = len(inputs)\n",
    "        inputs = np.asarray(inputs)[:int(n)]\n",
    "        \n",
    "        f_out = ROOT_PATH + split + \"/\" + city + \"_outputs\"\n",
    "        outputs = pickle.load(open(f_out, \"rb\"))\n",
    "        outputs = np.asarray(outputs)[:int(n)]      \n",
    "    \n",
    "    else:\n",
    "        f_in = ROOT_PATH + split + \"/\" + city + \"_inputs\"\n",
    "        inputs = pickle.load(open(f_in, \"rb\"))\n",
    "        n = len(inputs)\n",
    "        inputs = np.asarray(inputs)\n",
    "\n",
    "    return inputs, outputs\n",
    "\n",
    "class ArgoverseDataset(Dataset):\n",
    "    \"\"\"Dataset class for Argoverse\"\"\"\n",
    "    def __init__(self, city: str, split:str, transform=None):\n",
    "        super(ArgoverseDataset, self).__init__()\n",
    "        self.transform = transform\n",
    "\n",
    "        self.inputs, self.outputs = get_city_trajectories(city=city, split=split, normalized=False)\n",
    "\n",
    "    def __len__(self):\n",
    "        return len(self.inputs)\n",
    "\n",
    "    def __getitem__(self, idx):\n",
    "\n",
    "        data = (self.inputs[idx], self.outputs[idx])\n",
    "            \n",
    "        if self.transform:\n",
    "            data = self.transform(data)\n",
    "\n",
    "        return data\n",
    "\n",
    "# intialize a dataset\n",
    "city = 'palo-alto' \n",
    "split = 'train'\n",
    "train_dataset  = ArgoverseDataset(city = city, split = split)"
   ]
  },
  {
   "cell_type": "code",
   "execution_count": 13,
   "id": "13239220",
   "metadata": {},
   "outputs": [
    {
     "data": {
      "text/plain": [
       "array([-1303.7625276 ,  1138.31246403, -1303.51742401,  1138.71707532,\n",
       "       -1303.21204952,  1139.21904709, -1302.84823902,  1139.8161695 ,\n",
       "       -1302.42992386,  1140.50078551, -1301.96188374,  1141.26262409,\n",
       "       -1301.4558762 ,  1142.08314552, -1300.92593051,  1142.94096098,\n",
       "       -1300.38289221,  1143.81733833, -1299.83693982,  1144.69344162,\n",
       "       -1299.30307674,  1145.54357628, -1298.78314062,  1146.36695077,\n",
       "       -1298.26319828,  1147.18870759, -1297.74300535,  1148.00623848,\n",
       "       -1297.22360328,  1148.81431759, -1296.70573541,  1149.61491347,\n",
       "       -1296.18825919,  1150.41213503, -1295.67093647,  1151.20469326,\n",
       "       -1295.15287446,  1151.99354667, -1294.63506871,  1152.7780662 ,\n",
       "       -1294.11991324,  1153.5568605 , -1293.60805538,  1154.33176132,\n",
       "       -1293.09994617,  1155.10151568, -1292.59382454,  1155.86684617,\n",
       "       -1292.09151143,  1156.62596014, -1291.5911971 ,  1157.3821201 ,\n",
       "       -1291.08718506,  1158.14207537, -1290.57690412,  1158.90776374,\n",
       "       -1290.06313922,  1159.67398207, -1289.55164246,  1160.43357224,\n",
       "       -1289.04106421,  1161.1899611 , -1288.53101004,  1161.94372396,\n",
       "       -1288.02297645,  1162.69266991, -1287.51846096,  1163.43736104,\n",
       "       -1287.01530708,  1164.18063043, -1286.51279869,  1164.92361273,\n",
       "       -1286.01147586,  1165.66622589, -1285.51130185,  1166.41015672,\n",
       "       -1285.0157926 ,  1167.15508421, -1284.52449986,  1167.9015824 ,\n",
       "       -1284.03420845,  1168.65277709, -1283.53610659,  1169.41506685,\n",
       "       -1283.03120284,  1170.18745789, -1282.52863767,  1170.96297429,\n",
       "       -1282.02670902,  1171.7415642 , -1281.5287167 ,  1172.51939563,\n",
       "       -1281.02713412,  1173.30212877, -1280.51942772,  1174.08904751,\n",
       "       -1280.01154531,  1174.87730252, -1279.5029628 ,  1175.66831451])"
      ]
     },
     "execution_count": 13,
     "metadata": {},
     "output_type": "execute_result"
    }
   ],
   "source": [
    "output = [d[1].flatten() for d in train_dataset]\n",
    "in_put = [d[0].flatten() for d in train_dataset]\n",
    "in_put[0]\n"
   ]
  },
  {
   "cell_type": "code",
   "execution_count": 14,
   "id": "cc35366c",
   "metadata": {},
   "outputs": [],
   "source": [
    "a = in_put[0]"
   ]
  },
  {
   "cell_type": "code",
   "execution_count": 15,
   "id": "5cba3405",
   "metadata": {},
   "outputs": [],
   "source": [
    "x = [ a[i] for i in range(len(a)) if i %2 == 0 ]\n",
    "y =  [ a[i] for i in range(len(a)) if i %1 == 0 ]"
   ]
  },
  {
   "cell_type": "code",
   "execution_count": 16,
   "id": "ebd074ee",
   "metadata": {},
   "outputs": [
    {
     "data": {
      "text/plain": [
       "array([0.24510359, 0.3053745 , 0.3638105 , 0.41831515, 0.46804012,\n",
       "       0.50600754, 0.52994569, 0.5430383 , 0.5459524 , 0.53386308,\n",
       "       0.51993611, 0.51994234, 0.52019294, 0.51940206, 0.51786787,\n",
       "       0.51747623, 0.51732272, 0.51806201, 0.51780575, 0.51515547,\n",
       "       0.51185786, 0.50810921, 0.50612163, 0.50231311, 0.50031433,\n",
       "       0.50401204, 0.51028094, 0.5137649 , 0.51149676, 0.51057825,\n",
       "       0.51005417, 0.50803358, 0.50451549, 0.50315388, 0.50250839,\n",
       "       0.50132283, 0.500174  , 0.49550925, 0.49129274, 0.49029141,\n",
       "       0.49810186, 0.50490375, 0.50256517, 0.50192865, 0.49799231,\n",
       "       0.50158258, 0.5077064 , 0.50788241, 0.50858251])"
      ]
     },
     "execution_count": 16,
     "metadata": {},
     "output_type": "execute_result"
    }
   ],
   "source": [
    "xv = np.array(x[1:])-np.array(x[0:-1])\n",
    "xv"
   ]
  },
  {
   "cell_type": "code",
   "execution_count": 17,
   "id": "0e09033b",
   "metadata": {},
   "outputs": [],
   "source": [
    "def velocity(l):\n",
    "    x = [ l[i] for i in range(len(l)) if i %2 == 0 ]\n",
    "    y = [ l[i] for i in range(len(l)) if i %2 == 1 ]\n",
    "    xv = (np.array(x[1:])-np.array(x[0:-1]))*10\n",
    "    yv = (np.array(y[1:])-np.array(y[0:-1]))*10\n",
    "    l = list(l) + list(xv)\n",
    "    l = l + list(yv)\n",
    "\n",
    "    return l\n",
    "\n"
   ]
  },
  {
   "cell_type": "code",
   "execution_count": 18,
   "id": "95a23134",
   "metadata": {},
   "outputs": [],
   "source": [
    "def acceleration(l):\n",
    "    xv = [ l[i] for i in range(len(l)-98,len(l)) if i %2 == 0 ]\n",
    "    yv = [ l[i] for i in range(len(l)-98,len(l)) if i %2 == 1 ]\n",
    "    xa = np.array(xv[1:])-np.array(xv[0:-1])\n",
    "    ya = np.array(yv[1:])-np.array(yv[0:-1])\n",
    "    l = list(l) + list(xa)\n",
    "    l = l + list(ya)\n",
    "    return l\n"
   ]
  },
  {
   "cell_type": "code",
   "execution_count": 19,
   "id": "de4819ed",
   "metadata": {},
   "outputs": [],
   "source": [
    "# num_iteration determines how deep the relationship we are calculating\n",
    "# ex: num_iteration = 1, we add speed\n",
    "# ex: num_iteration = 2, we add speed + acceleration\n",
    "# ex: num_iteration = 3, we add speed + acceleration + accel-acceleration\n",
    "def relation(l, num_iteration):\n",
    "    length = len(l)\n",
    "    # each loop adds one set of further relationship data\n",
    "    for loop in range(num_iteration):\n",
    "        xv = [ l[i] for i in range(len(l) - (length - 2*(loop)), len(l)) if i % 2 == 0 ]\n",
    "        yv = [ l[i] for i in range(len(l) - (length - 2*(loop)), len(l)) if i % 2 == 1 ]\n",
    "        xa = (np.array(xv[1:]) - np.array(xv[0:-1]))*10\n",
    "        ya = (np.array(yv[1:]) - np.array(yv[0:-1]))*10\n",
    "        l = list(l) + list(xa)\n",
    "        l = l + list(ya)\n",
    "    return l\n",
    "\n"
   ]
  },
  {
   "cell_type": "code",
   "execution_count": 20,
   "id": "8d08b0d4",
   "metadata": {},
   "outputs": [],
   "source": [
    "def city_onehot(city):\n",
    "    cities = [\"austin\", \"miami\", \"pittsburgh\", \"dearborn\", \"washington-dc\", \"palo-alto\"]\n",
    "    match = [city] * 6\n",
    "    result = (np.array(match) == np.array(cities))*1\n",
    "    return result\n",
    "    "
   ]
  },
  {
   "cell_type": "markdown",
   "id": "75ce46b3",
   "metadata": {},
   "source": [
    "# AUSTIN "
   ]
  },
  {
   "cell_type": "code",
   "execution_count": 21,
   "id": "625b020d",
   "metadata": {},
   "outputs": [],
   "source": [
    "def get_csv(city):\n",
    "    \n",
    "    #get data ready for this city\n",
    "    train_dataset = ArgoverseDataset(city, split = \"train\")\n",
    "    output = [d[1].flatten() for d in train_dataset]\n",
    "    in_put = [d[0].flatten() for d in train_dataset]\n",
    "    in_put_new = [relation(l,3) for l in in_put]\n",
    "    #in_put_new_v3 = in_put_new_v2.append(city_onehot(city))\n",
    " \n",
    "    # standardize the train data \n",
    "    #x_scaler = preprocessing.StandardScaler().fit(in_put)\n",
    "   # y_scaler = preprocessing.StandardScaler().fit(output)\n",
    "   # X_scaled = x_scaler.transform(in_put)\n",
    "    #y_scaled = y_scaler.transform(output)\n",
    "    \n",
    "    \n",
    "    #train the model for this city\n",
    "    model = MLPRegressor(activation=\"relu\", solver=\"adam\", early_stopping=True,validation_fraction = 0.3,\n",
    "    learning_rate=\"adaptive\", max_iter=500,alpha=0.0005,hidden_layer_sizes = (32,64,128,256))\n",
    "    \n",
    "    model.fit(in_put_new,output)\n",
    "    print(city, len(model.loss_curve_),model.loss_curve_)\n",
    "    #get the predictoin \n",
    "    test_input,y =get_city_trajectories(city, \"test\", normalized=False)\n",
    "    x_test = [ d.flatten() for d in test_input]\n",
    "    in_put_newtest = [ relation(l,3) for l in x_test]\n",
    "\n",
    "    #in_put_newtest_v3 = in_put_newtest_v2.append(city_onehot(city))\n",
    "    # xtest_scaler = preprocessing.StandardScaler().fit(x_test)\n",
    "    # xtest_scaled = xtest_scaler.transform(x_test)\n",
    "    \n",
    "    y= model.predict(in_put_newtest)\n",
    "    #real_y =y_scaler.inverse_transform(y)\n",
    "    return y"
   ]
  },
  {
   "cell_type": "code",
   "execution_count": 22,
   "id": "b09f8879",
   "metadata": {
    "scrolled": false
   },
   "outputs": [
    {
     "name": "stdout",
     "output_type": "stream",
     "text": [
      "austin 13 [82283.68126530167, 152.05867112151225, 101.41262829787911, 83.76714157782708, 73.75964990834488, 69.32602521235951, 147.55682600055735, 75.25009061847479, 52.863159778686054, 51.03783526038237, 51.287009620907426, 44.677242395283656, 50.654725557274645]\n"
     ]
    }
   ],
   "source": [
    "austin = get_csv(\"austin\")"
   ]
  },
  {
   "cell_type": "code",
   "execution_count": 172,
   "id": "767d8073",
   "metadata": {},
   "outputs": [
    {
     "name": "stdout",
     "output_type": "stream",
     "text": [
      "0\n",
      "\n",
      "austin 13 [76433.0201323162, 164.4670737800278, 103.879012356919, 89.44564170419315, 77.40647412081086, 71.79247310600776, 89.42328553407107, 75.49474572401833, 104.55943979508001, 66.0909982476745, 62.335463280265536, 53.08829745513689, 100.58847599027949]\n",
      "\n",
      "1\n",
      "\n",
      "austin 13 [80017.2673833342, 167.42131262709205, 100.48355516107102, 80.24247425046421, 69.62866963477568, 59.56620122947986, 59.52458468382484, 55.89501072440625, 87.00191500290283, 47.90634190086048, 43.55148294235492, 61.40733667385686, 64.33444338553983]\n",
      "\n",
      "2\n",
      "\n",
      "austin 13 [81365.15533219864, 146.88576321471453, 95.58503714936658, 87.7006516719784, 73.92349243529685, 78.16367752464949, 64.77603107090076, 84.77397652118785, 58.159305278248695, 55.734024646610244, 49.33553255768148, 72.25957892758947, 43.6319919574859]\n",
      "\n",
      "3\n",
      "\n",
      "austin 13 [81249.02057832312, 170.95107169885858, 107.52771578107048, 90.42592632294485, 84.91716730584459, 90.53519694810203, 74.88883999720834, 69.81689118201464, 99.74755818296748, 61.341604051033116, 55.51659668519764, 65.09274373172423, 77.14686680994245]\n",
      "\n",
      "4\n",
      "\n",
      "austin 13 [74916.88227870224, 190.2897589329182, 104.24613393374716, 72.1120726617281, 62.41545360360314, 56.507984445579226, 65.05153622879841, 58.54138764022918, 66.12413838377869, 59.793897277866144, 58.57066669782736, 60.832613038720034, 44.06257329494509]\n",
      "\n",
      "5\n",
      "\n",
      "austin 13 [73757.99996698595, 191.38001908717058, 115.95638545001651, 90.97312546561209, 80.36569295469342, 83.49657445933737, 71.27732406216643, 78.55525133790363, 73.19093703112203, 65.82790738047842, 64.23257005387507, 73.16336209402705, 43.800732064116886]\n",
      "\n",
      "6\n",
      "\n",
      "austin 13 [81187.97851107913, 177.7613772335709, 93.79650425274593, 71.5013147001241, 63.655172717126376, 59.05290750421897, 54.673078959788185, 76.58387067081765, 50.47812712069933, 61.85757084395382, 62.69980907608768, 49.45355966262021, 45.77049175201469]\n",
      "\n",
      "7\n",
      "\n",
      "austin 13 [83690.08746690146, 167.94332410308428, 102.82529147348087, 83.71482747087288, 75.57909245337962, 69.54586578023938, 63.39580167668731, 68.88572080202023, 50.18683896997054, 60.36441883484637, 106.47336027339719, 43.69753252434256, 44.19913310751806]\n",
      "\n",
      "8\n",
      "\n",
      "austin 13 [66504.69305242338, 171.30060024525622, 104.7357826079965, 84.4089770872351, 82.08059615242003, 81.935237716461, 132.4272580976527, 57.88357470720048, 54.561354248638395, 76.37620249913658, 48.60169568508255, 71.32244546957207, 61.9499409616429]\n",
      "\n",
      "9\n",
      "\n",
      "austin 13 [81982.83001168477, 168.31390413378807, 109.54444672343952, 88.7703894057481, 77.3286834079024, 76.88884609515543, 73.38749532035314, 88.89779482034723, 57.073035442568276, 52.01051310312112, 57.71141759539041, 55.88552838104037, 80.50012317909696]\n",
      "\n"
     ]
    }
   ],
   "source": [
    "aus = [None] * 10\n",
    "for i in range(10):\n",
    "    print(i)\n",
    "    print(\"\")\n",
    "    k = get_csv(\"austin\")\n",
    "    aus[i] = k\n",
    "    print(\"\")"
   ]
  },
  {
   "cell_type": "code",
   "execution_count": 26,
   "id": "3cd8f58f",
   "metadata": {},
   "outputs": [
    {
     "data": {
      "text/plain": [
       "[array([[  -11.66969084,  -565.15187175,    -9.61275411, ...,\n",
       "          -563.84568606,   -54.20754933,  -550.56936125],\n",
       "        [ -331.55632621,     5.47662757,  -335.09404323, ...,\n",
       "            -4.85591091,  -310.01630664,    -4.99179287],\n",
       "        [   50.13821884,  -247.49827694,    51.39335218, ...,\n",
       "          -247.71709161,    50.9214363 ,  -247.31595836],\n",
       "        ...,\n",
       "        [ -690.59520586,   488.59348265,  -684.5043606 , ...,\n",
       "           509.09441666,  -680.92814119,   501.82448195],\n",
       "        [ -125.76287193,  1572.03050147,  -118.31520335, ...,\n",
       "          1558.83149801,  -127.79874937,  1571.01363876],\n",
       "        [  338.9267583 , -1485.04661147,   349.05590568, ...,\n",
       "         -1484.90469095,   366.74420669, -1489.17366867]])]"
      ]
     },
     "execution_count": 26,
     "metadata": {},
     "output_type": "execute_result"
    }
   ],
   "source": [
    "sub = []\n",
    "sub.append(austin)\n",
    "sub"
   ]
  },
  {
   "cell_type": "markdown",
   "id": "0f10327f",
   "metadata": {},
   "source": [
    "# pittsburgh"
   ]
  },
  {
   "cell_type": "code",
   "execution_count": 28,
   "id": "8bb8bdab",
   "metadata": {},
   "outputs": [],
   "source": [
    "def get_csv_pit(city):\n",
    "    \n",
    "    #get data ready for this city\n",
    "    train_dataset = ArgoverseDataset(city, split = \"train\")\n",
    "    output = [d[1].flatten() for d in train_dataset]\n",
    "    in_put = [d[0].flatten() for d in train_dataset]\n",
    "    in_put_new = [relation(l,3) for l in in_put]\n",
    "    #in_put_new_v3 = in_put_new_v2.append(city_onehot(city))\n",
    " \n",
    "    # standardize the train data \n",
    "    #x_scaler = preprocessing.StandardScaler().fit(in_put)\n",
    "   # y_scaler = preprocessing.StandardScaler().fit(output)\n",
    "   # X_scaled = x_scaler.transform(in_put)\n",
    "    #y_scaled = y_scaler.transform(output)\n",
    "    \n",
    "    \n",
    "    #train the model for this city\n",
    "    model = MLPRegressor(activation=\"relu\", solver=\"adam\", early_stopping=True,validation_fraction = 0.3,\n",
    "    learning_rate=\"adaptive\", max_iter=500,alpha=0.0005,hidden_layer_sizes = (32,64,64,128))\n",
    "    \n",
    "    model.fit(in_put_new,output)\n",
    "    print(city, len(model.loss_curve_),model.loss_curve_)\n",
    "    #get the predictoin \n",
    "    test_input,y =get_city_trajectories(city, \"test\", normalized=False)\n",
    "    x_test = [ d.flatten() for d in test_input]\n",
    "    in_put_newtest = [ relation(l,3) for l in x_test]\n",
    "\n",
    "    #in_put_newtest_v3 = in_put_newtest_v2.append(city_onehot(city))\n",
    "    # xtest_scaler = preprocessing.StandardScaler().fit(x_test)\n",
    "    # xtest_scaled = xtest_scaler.transform(x_test)\n",
    "    \n",
    "    y= model.predict(in_put_newtest)\n",
    "    #real_y =y_scaler.inverse_transform(y)\n",
    "    return y"
   ]
  },
  {
   "cell_type": "code",
   "execution_count": 29,
   "id": "afc26e4a",
   "metadata": {
    "scrolled": true
   },
   "outputs": [
    {
     "name": "stdout",
     "output_type": "stream",
     "text": [
      "pittsburgh 13 [364421.9815574302, 128.45517081025045, 70.81677143243645, 59.23698777999326, 54.8780002199397, 53.42882403355955, 56.916339477359635, 58.57744702198554, 54.457342750327115, 79.66864685003378, 53.55378449762094, 70.85108381185553, 61.40039572238945]\n"
     ]
    }
   ],
   "source": [
    "pittsburgh = get_csv_pit(\"pittsburgh\")"
   ]
  },
  {
   "cell_type": "code",
   "execution_count": 173,
   "id": "2c27dee2",
   "metadata": {
    "scrolled": false
   },
   "outputs": [
    {
     "name": "stdout",
     "output_type": "stream",
     "text": [
      "0\n",
      "\n",
      "pittsburgh 13 [473476.12236199545, 189.40163715218617, 89.37939505700156, 68.00502807866462, 58.67014916841671, 54.72189269159234, 54.90248027081344, 60.21356045330768, 80.45764266270857, 56.27177605786266, 50.91398036064921, 89.71893970604981, 55.584224139680146]\n",
      "\n",
      "1\n",
      "\n",
      "pittsburgh 13 [521295.9009475103, 300.8974778375365, 82.16305792375171, 59.106001846837025, 54.00472198829671, 50.708346145598185, 49.76594380422531, 50.29801696973566, 54.479822337881124, 65.6694295590721, 49.03901947753135, 53.700018316361664, 69.89278728834702]\n",
      "\n",
      "2\n",
      "\n",
      "pittsburgh 13 [424606.82473207056, 144.4989090636426, 75.64195386559945, 60.840531492060634, 56.70383293863451, 54.200919758445, 61.46566589069995, 116.79634306341804, 50.339821436080435, 52.76345367244542, 67.55021688569514, 135.32932281992606, 46.17889297936633]\n",
      "\n",
      "3\n",
      "\n",
      "pittsburgh 13 [388052.6266689979, 128.63630129983886, 70.92319706899028, 72.64185187088135, 67.89914269042845, 109.23149693362589, 53.94171950691242, 155.7793955024496, 54.877468369061354, 47.934905007037614, 87.8625660426967, 67.63184279463051, 153.75084143842238]\n",
      "\n",
      "4\n",
      "\n",
      "pittsburgh 13 [409928.0681883881, 126.04882104089192, 70.14627027280069, 59.98174917539188, 61.161524944768935, 72.37237702745301, 63.24461323686102, 89.13371741521175, 51.8940456920294, 72.3909578479202, 53.54121982199793, 172.49106619964914, 44.833423297629956]\n",
      "\n",
      "5\n",
      "\n",
      "pittsburgh 13 [342104.8466921697, 178.14604442408165, 74.8502253485294, 58.54179008546258, 54.29176528507913, 54.36800321891381, 53.96601222751519, 63.114503182158955, 56.36252633317675, 160.79312085770232, 45.696649508739846, 46.56888314300899, 63.57929148796865]\n",
      "\n",
      "6\n",
      "\n",
      "pittsburgh 13 [356222.12917143654, 145.78275948805916, 77.38410535138004, 63.92151753710664, 67.56255649888682, 72.89909844069054, 117.4499165558513, 53.13418034558675, 88.10014840245833, 108.28717800375165, 105.26373204372327, 86.33452227754317, 160.64385284420936]\n",
      "\n",
      "7\n",
      "\n",
      "pittsburgh 13 [430078.41261341114, 189.40108163806806, 91.44780344631506, 75.75306787557793, 76.6944604915698, 86.82203539630378, 117.88331693563475, 59.409960023369514, 86.32513640415851, 148.41784350867343, 51.54614235496901, 202.62729051881993, 50.55127648421793]\n",
      "\n",
      "8\n",
      "\n",
      "pittsburgh 13 [418492.535965523, 164.6806852259239, 74.74594933356514, 60.23114352210149, 54.82028066204793, 50.407245607637805, 51.08651763410223, 77.9132242618377, 50.24811133679648, 45.65436681473412, 57.94588284677072, 57.36627016017509, 68.66337899447002]\n",
      "\n",
      "9\n",
      "\n",
      "pittsburgh 13 [389985.11342044256, 157.46722458963185, 87.96977076538003, 65.80300921243331, 60.635575862765705, 62.032713179738494, 65.76666722936567, 110.1102622121148, 57.62738294117111, 61.43960015995983, 158.00139257221267, 48.234895496465406, 63.95631334851949]\n",
      "\n"
     ]
    }
   ],
   "source": [
    "pit = [None] * 10\n",
    "for i in range(10):\n",
    "    print(i)\n",
    "    print(\"\")\n",
    "    k = get_csv_pit(\"pittsburgh\")\n",
    "    pit[i] = k\n",
    "    print(\"\")"
   ]
  },
  {
   "cell_type": "code",
   "execution_count": 34,
   "id": "8f971c0a",
   "metadata": {},
   "outputs": [
    {
     "data": {
      "text/plain": [
       "[array([[  -11.66969084,  -565.15187175,    -9.61275411, ...,\n",
       "          -563.84568606,   -54.20754933,  -550.56936125],\n",
       "        [ -331.55632621,     5.47662757,  -335.09404323, ...,\n",
       "            -4.85591091,  -310.01630664,    -4.99179287],\n",
       "        [   50.13821884,  -247.49827694,    51.39335218, ...,\n",
       "          -247.71709161,    50.9214363 ,  -247.31595836],\n",
       "        ...,\n",
       "        [ -690.59520586,   488.59348265,  -684.5043606 , ...,\n",
       "           509.09441666,  -680.92814119,   501.82448195],\n",
       "        [ -125.76287193,  1572.03050147,  -118.31520335, ...,\n",
       "          1558.83149801,  -127.79874937,  1571.01363876],\n",
       "        [  338.9267583 , -1485.04661147,   349.05590568, ...,\n",
       "         -1484.90469095,   366.74420669, -1489.17366867]])]"
      ]
     },
     "execution_count": 34,
     "metadata": {},
     "output_type": "execute_result"
    }
   ],
   "source": [
    "sub"
   ]
  },
  {
   "cell_type": "markdown",
   "id": "04da3ab3",
   "metadata": {},
   "source": [
    "# dearborn"
   ]
  },
  {
   "cell_type": "code",
   "execution_count": 115,
   "id": "f93b9608",
   "metadata": {},
   "outputs": [],
   "source": [
    "def get_csv_dearb():\n",
    "    \n",
    "    city = \"dearborn\"\n",
    "    \n",
    "    #get data ready for this city\n",
    "    train_dataset = ArgoverseDataset(city, split = \"train\")\n",
    "    output = [d[1].flatten() for d in train_dataset]\n",
    "    in_put = [d[0].flatten() for d in train_dataset]\n",
    "    in_put_new = [relation(l,2) for l in in_put]\n",
    "    #in_put_new_v3 = in_put_new_v2.append(city_onehot(city))\n",
    " \n",
    "    # standardize the train data \n",
    "    #x_scaler = preprocessing.StandardScaler().fit(in_put)\n",
    "   # y_scaler = preprocessing.StandardScaler().fit(output)\n",
    "   # X_scaled = x_scaler.transform(in_put)\n",
    "    #y_scaled = y_scaler.transform(output)\n",
    "    \n",
    "    \n",
    "    #train the model for this city\n",
    "    model = MLPRegressor(activation=\"relu\", solver=\"adam\", early_stopping=True,validation_fraction = 0.3,\n",
    "    learning_rate=\"adaptive\", max_iter=500,alpha=0.0005,hidden_layer_sizes = (32,256,256))\n",
    "    \n",
    "    model.fit(in_put_new,output)\n",
    "    print(city, len(model.loss_curve_),model.loss_curve_)\n",
    "    #get the predictoin \n",
    "    test_input,y =get_city_trajectories(city, \"test\", normalized=False)\n",
    "    x_test = [ d.flatten() for d in test_input]\n",
    "    in_put_newtest = [ relation(l,2) for l in x_test]\n",
    "\n",
    "    #in_put_newtest_v3 = in_put_newtest_v2.append(city_onehot(city))\n",
    "    # xtest_scaler = preprocessing.StandardScaler().fit(x_test)\n",
    "    # xtest_scaled = xtest_scaler.transform(x_test)\n",
    "    \n",
    "    y= model.predict(in_put_newtest)\n",
    "    #real_y =y_scaler.inverse_transform(y)\n",
    "    return y"
   ]
  },
  {
   "cell_type": "code",
   "execution_count": 117,
   "id": "ee2d2cb3",
   "metadata": {},
   "outputs": [
    {
     "name": "stdout",
     "output_type": "stream",
     "text": [
      "0\n",
      "\n",
      "dearborn 14 [1748039.8967248914, 909.5508764594066, 265.2762017089458, 171.75141567350786, 143.49160090792597, 126.52576796549621, 150.7417950266592, 265.3934776096923, 358.47901111753947, 163.3624375502992, 541.1854107875046, 91.63137611909464, 438.57077538158876, 285.69478696413466]\n",
      "\n",
      "1\n",
      "\n",
      "dearborn 14 [1950265.974747933, 976.1695200532048, 323.4988895072133, 205.7626814163115, 154.51900807988648, 130.97391657959028, 120.67914720936886, 113.64516883521668, 113.18743431873382, 191.13598877183028, 201.07114595044024, 185.61536122541528, 199.78004444510344, 114.13684083363377]\n",
      "\n",
      "2\n",
      "\n",
      "dearborn 14 [1974530.6859449223, 1175.6145730167718, 400.3882617840169, 257.5210698649669, 193.8085099452132, 160.00891301638327, 141.91340984651995, 125.5922270168642, 122.06052308803174, 183.16185931582942, 248.1342337490596, 146.61064746059375, 145.02485465203483, 200.6744711991257]\n",
      "\n",
      "3\n",
      "\n",
      "dearborn 13 [2007291.5565353653, 860.0315690064755, 243.94833124781277, 176.4996128029804, 197.57504001389054, 183.2867059116743, 191.06141409791002, 332.25193390517853, 110.29486668473575, 249.79578118853902, 183.23061242099772, 260.3029601934449, 344.0397759877161]\n",
      "\n",
      "4\n",
      "\n",
      "dearborn 14 [1774903.674975098, 1097.1794937841787, 339.5954610373705, 218.68213924324166, 165.12906528171007, 139.1990307856262, 137.49109418682906, 153.01928144496085, 408.3107940267196, 103.08869171491216, 353.6931442507141, 126.28228710538458, 302.97774156509837, 295.2996229964587]\n",
      "\n",
      "5\n",
      "\n",
      "dearborn 14 [1823535.7510543456, 1015.7435374387559, 305.3989851775918, 188.743037273473, 148.24727984027174, 129.16760666396775, 119.00457609407691, 111.85216024539291, 112.35076045694967, 126.2897055356494, 124.59921159939319, 226.92536550520396, 182.1660622346229, 134.43620859344492]\n",
      "\n",
      "6\n",
      "\n",
      "dearborn 14 [1471948.5139658076, 814.9377098734284, 214.47705781244665, 148.69994431011708, 168.50794068300453, 205.13936299913507, 159.23496734449998, 171.6803258316805, 571.1064116766822, 106.94547432581987, 93.54175426195091, 345.86192988212656, 134.35125861866055, 362.82235359958486]\n",
      "\n",
      "7\n",
      "\n",
      "dearborn 14 [1946498.5231397187, 934.493444169398, 350.91085621363794, 235.14366362060932, 186.1820988614841, 160.47651485160185, 143.07950830868882, 129.13726520978653, 119.8768465590137, 111.6192004144132, 105.55200467091603, 101.95254772181593, 337.5493980188205, 282.44109916784896]\n",
      "\n",
      "8\n",
      "\n",
      "dearborn 14 [1890637.6198260663, 889.677033202769, 226.06519990750587, 162.56027709874178, 138.4946561406624, 137.02326784270372, 248.0626896952363, 151.85766635694696, 293.99731062361883, 112.3966105068367, 718.1421561576079, 101.86297905517617, 92.05877206167588, 143.90789197318475]\n",
      "\n",
      "9\n",
      "\n",
      "dearborn 14 [1996542.741208456, 1070.5667141846247, 295.9608356894256, 182.76336537580542, 139.99025202580845, 122.29070858603176, 116.68696900649178, 152.23923488729915, 128.20020034166876, 203.26837929866196, 193.1248489875703, 131.76586117680316, 302.82342546163846, 103.8844091558961]\n",
      "\n"
     ]
    }
   ],
   "source": [
    "dear1 = [None] * 10\n",
    "for i in range(10):\n",
    "    print(i)\n",
    "    print(\"\")\n",
    "    k = get_csv_dearb()\n",
    "    dear1[i] = k\n",
    "    print(\"\")"
   ]
  },
  {
   "cell_type": "code",
   "execution_count": 80,
   "id": "f6a38acc",
   "metadata": {},
   "outputs": [
    {
     "name": "stdout",
     "output_type": "stream",
     "text": [
      "dearborn 17 [3185801.575187682, 3157.9340680221308, 742.2523217822494, 386.2791655517591, 412.39927762579845, 267.35461577386997, 325.42251865487816, 259.7792857950256, 428.17313919451453, 154.41722427872844, 342.0764030769321, 350.1971192217515, 182.48047346551164, 355.1902215901836, 303.41450410595814, 736.1612322875968, 100.37552704238249]\n"
     ]
    }
   ],
   "source": [
    "dearborn = get_csv_dearb()"
   ]
  },
  {
   "cell_type": "markdown",
   "id": "11c5dcf0",
   "metadata": {},
   "source": [
    "# miami"
   ]
  },
  {
   "cell_type": "code",
   "execution_count": 120,
   "id": "b75217ac",
   "metadata": {},
   "outputs": [],
   "source": [
    "def get_csv_mia():\n",
    "    \n",
    "    city = \"miami\"\n",
    "    \n",
    "    #get data ready for this city\n",
    "    train_dataset = ArgoverseDataset(city, split = \"train\")\n",
    "    output = [d[1].flatten() for d in train_dataset]\n",
    "    in_put = [d[0].flatten() for d in train_dataset]\n",
    "    in_put_new = [relation(l,3) for l in in_put]\n",
    "    #in_put_new_v3 = in_put_new_v2.append(city_onehot(city))\n",
    " \n",
    "    # standardize the train data \n",
    "    #x_scaler = preprocessing.StandardScaler().fit(in_put)\n",
    "   # y_scaler = preprocessing.StandardScaler().fit(output)\n",
    "   # X_scaled = x_scaler.transform(in_put)\n",
    "    #y_scaled = y_scaler.transform(output)\n",
    "    \n",
    "    \n",
    "    #train the model for this city\n",
    "    model = MLPRegressor(activation=\"relu\", solver=\"adam\", early_stopping=True,validation_fraction = 0.3,\n",
    "    learning_rate=\"adaptive\", max_iter=500,alpha=0.0005,hidden_layer_sizes = (32,64,64,128))\n",
    "    \n",
    "    model.fit(in_put_new,output)\n",
    "    print(city, len(model.loss_curve_),model.loss_curve_)\n",
    "    #get the predictoin \n",
    "    test_input,y =get_city_trajectories(city, \"test\", normalized=False)\n",
    "    x_test = [ d.flatten() for d in test_input]\n",
    "    in_put_newtest = [ relation(l,3) for l in x_test]\n",
    "\n",
    "    #in_put_newtest_v3 = in_put_newtest_v2.append(city_onehot(city))\n",
    "    # xtest_scaler = preprocessing.StandardScaler().fit(x_test)\n",
    "    # xtest_scaled = xtest_scaler.transform(x_test)\n",
    "    \n",
    "    y= model.predict(in_put_newtest)\n",
    "    #real_y =y_scaler.inverse_transform(y)\n",
    "    return y"
   ]
  },
  {
   "cell_type": "code",
   "execution_count": 121,
   "id": "d5df3540",
   "metadata": {},
   "outputs": [
    {
     "name": "stdout",
     "output_type": "stream",
     "text": [
      "miami 13 [464977.4320234552, 420.8947888011066, 198.67654837690154, 170.2247219256502, 168.50358547885193, 150.63180389867114, 149.97509796070412, 179.81654352619483, 129.0559900825624, 414.01827095649804, 157.0082682653992, 264.6135333471896, 73.67173387707739]\n"
     ]
    }
   ],
   "source": [
    "miami = get_csv_mia()"
   ]
  },
  {
   "cell_type": "code",
   "execution_count": 122,
   "id": "33f272ce",
   "metadata": {},
   "outputs": [
    {
     "name": "stdout",
     "output_type": "stream",
     "text": [
      "0\n",
      "\n",
      "miami 13 [533274.0658924426, 429.06751659718213, 227.070553370647, 162.52437387133557, 284.55818003900623, 109.66939695549407, 113.03842162691022, 290.8366300319978, 76.64356186023032, 168.13778537989305, 191.58291661140933, 143.55858917891004, 121.21704889795137]\n",
      "\n",
      "1\n",
      "\n",
      "miami 13 [566987.4745822347, 745.5897445190739, 332.15388131601526, 297.98137455149856, 181.08346129036926, 178.96843105066137, 522.9574358660121, 106.73488846497777, 120.40662770138069, 122.19435672123755, 307.5729684276864, 154.21811163301902, 212.1569260629539]\n",
      "\n",
      "2\n",
      "\n",
      "miami 14 [492867.77075025305, 536.2974945445206, 259.8161712966424, 173.81287067050692, 212.369240404262, 195.82945504175734, 202.63346427618615, 82.83314753593191, 322.17691797637457, 72.38587577160791, 87.55821142739565, 434.37207765621247, 81.43338052034558, 175.05194910587898]\n",
      "\n",
      "3\n",
      "\n",
      "miami 13 [464430.29781717993, 565.9709218282925, 248.37899250287543, 238.2743276617512, 136.2306979892269, 198.1568651921576, 153.27789643912573, 420.90977684247275, 157.09115219530548, 89.82483776625699, 164.34750443241438, 290.0230026792558, 209.615438243708]\n",
      "\n",
      "4\n",
      "\n",
      "miami 13 [542199.9249238683, 386.46368174029845, 204.5254729041094, 160.03837729220496, 145.89541830501966, 167.86737972009612, 136.69004295035728, 342.92754256548864, 76.31297324157555, 149.53801096483403, 160.54027312628648, 123.67818748599575, 842.1119903210634]\n",
      "\n",
      "5\n",
      "\n",
      "miami 13 [560131.9968777227, 494.50350834419515, 250.04097860671922, 188.31254619205174, 265.49557150406287, 161.14464657327, 177.81509403364916, 182.86782631764828, 101.126410069934, 159.73565694282837, 164.9241339744746, 111.54068831958318, 293.90623919120884]\n",
      "\n",
      "6\n",
      "\n",
      "miami 13 [505185.0781971988, 401.6366072711836, 219.1730176430287, 156.44806071206685, 133.07666454739592, 115.5711995294377, 125.25462742339934, 106.12023334790791, 332.42913483533414, 95.55147702044825, 116.28887938514981, 106.19001390300086, 384.3123037050685]\n",
      "\n",
      "7\n",
      "\n",
      "miami 14 [510716.92505521816, 504.5243677064349, 237.79420004515978, 153.32176809570615, 192.8125225194897, 113.30731808623412, 114.24972386859825, 205.26692841324606, 101.1125083020479, 126.39376102218263, 163.3176835043502, 242.75640626136908, 89.73202384922368, 231.3696025489888]\n",
      "\n",
      "8\n",
      "\n",
      "miami 14 [504425.1992011702, 639.636940349894, 307.97801294325626, 196.25506727005427, 1053.7743768977011, 130.51612720435523, 133.2315070375617, 146.20628902169636, 102.66777132394913, 221.23075691117742, 79.34906451024422, 239.3951070894017, 113.4561421909333, 402.5900237722004]\n",
      "\n",
      "9\n",
      "\n",
      "miami 13 [460855.84043108654, 456.58071146002214, 223.02572090871732, 197.32395971667518, 191.7638562781726, 223.6820966098463, 213.48439527481108, 140.35073005777025, 136.37458396703425, 143.65089770783808, 166.31900240702512, 199.88768975569857, 85.94318018453043]\n",
      "\n"
     ]
    }
   ],
   "source": [
    "mia1 = [None] * 10\n",
    "for i in range(10):\n",
    "    print(i)\n",
    "    print(\"\")\n",
    "    k = get_csv_mia()\n",
    "    mia1[i] = k\n",
    "    print(\"\")"
   ]
  },
  {
   "cell_type": "markdown",
   "id": "2ebcb38b",
   "metadata": {},
   "source": [
    "# washington-dc"
   ]
  },
  {
   "cell_type": "code",
   "execution_count": 123,
   "id": "d1729cac",
   "metadata": {},
   "outputs": [],
   "source": [
    "def get_csv_wash():\n",
    "    \n",
    "    city = \"washington-dc\"\n",
    "    \n",
    "    #get data ready for this city\n",
    "    train_dataset = ArgoverseDataset(city, split = \"train\")\n",
    "    output = [d[1].flatten() for d in train_dataset]\n",
    "    in_put = [d[0].flatten() for d in train_dataset]\n",
    "    in_put_new = [relation(l,3) for l in in_put]\n",
    "    #in_put_new_v3 = in_put_new_v2.append(city_onehot(city))\n",
    " \n",
    "    # standardize the train data \n",
    "    #x_scaler = preprocessing.StandardScaler().fit(in_put)\n",
    "   # y_scaler = preprocessing.StandardScaler().fit(output)\n",
    "   # X_scaled = x_scaler.transform(in_put)\n",
    "    #y_scaled = y_scaler.transform(output)\n",
    "    \n",
    "    \n",
    "    #train the model for this city\n",
    "    model = MLPRegressor(activation=\"relu\", solver=\"adam\", early_stopping=True,validation_fraction = 0.3,\n",
    "    learning_rate=\"adaptive\", max_iter=500,alpha=0.0005,hidden_layer_sizes = (32,64,128,256))\n",
    "    \n",
    "    model.fit(in_put_new,output)\n",
    "    print(city, len(model.loss_curve_),model.loss_curve_)\n",
    "    #get the predictoin \n",
    "    test_input,y =get_city_trajectories(city, \"test\", normalized=False)\n",
    "    x_test = [ d.flatten() for d in test_input]\n",
    "    in_put_newtest = [ relation(l,3) for l in x_test]\n",
    "\n",
    "    #in_put_newtest_v3 = in_put_newtest_v2.append(city_onehot(city))\n",
    "    # xtest_scaler = preprocessing.StandardScaler().fit(x_test)\n",
    "    # xtest_scaled = xtest_scaler.transform(x_test)\n",
    "    \n",
    "    y= model.predict(in_put_newtest)\n",
    "    #real_y =y_scaler.inverse_transform(y)\n",
    "    return y"
   ]
  },
  {
   "cell_type": "code",
   "execution_count": 125,
   "id": "164308a8",
   "metadata": {},
   "outputs": [
    {
     "name": "stdout",
     "output_type": "stream",
     "text": [
      "washington-dc 14 [702251.1397968612, 2959.577724435651, 201.24316183496728, 139.38043438970257, 163.74634139327523, 193.0605313532842, 93.44960978372184, 261.3269714257439, 67.29864762049937, 77.81541606983794, 175.1598217551351, 117.05860923115209, 388.29225064136915, 57.43707965645295]\n"
     ]
    }
   ],
   "source": [
    "washington_dc = get_csv_wash()"
   ]
  },
  {
   "cell_type": "code",
   "execution_count": 126,
   "id": "602479ca",
   "metadata": {},
   "outputs": [
    {
     "name": "stdout",
     "output_type": "stream",
     "text": [
      "0\n",
      "\n",
      "washington-dc 14 [694579.8335940012, 1969.0886431874987, 235.90212106951472, 175.7319626634125, 171.67119238526104, 116.96488979048999, 181.14261979055274, 160.29052189472858, 151.83779445976467, 128.66928228258521, 180.83983521879668, 65.38790288558585, 106.43790020278315, 165.05092632480418]\n",
      "\n",
      "1\n",
      "\n",
      "washington-dc 14 [628876.4004534832, 5336.673779384577, 278.1955094994151, 150.58490040989494, 115.05987908922997, 108.11040769593794, 108.66372221807138, 106.93192462339084, 96.59936132934051, 236.42482334604645, 65.29831265703018, 69.79225590388744, 97.61420581280618, 201.07394620813022]\n",
      "\n",
      "2\n",
      "\n",
      "washington-dc 14 [623739.6781692619, 619.0862089875461, 154.37599533631635, 99.15148062537594, 83.00098718041164, 70.64093424486494, 94.66745882559333, 92.04471486113451, 54.559926560855814, 80.4119658528254, 93.2264920410568, 72.06152554024418, 99.52171287201091, 102.21501463679932]\n",
      "\n",
      "3\n",
      "\n",
      "washington-dc 15 [479760.2825200887, 898.5801703902013, 185.11802509617524, 145.3993340964689, 118.93658426659394, 126.85756211620429, 95.22194002570583, 189.17975703634696, 75.64003809400332, 156.865919756332, 102.3804782672645, 104.74400109571896, 426.3232426874867, 85.74177605813948, 61.49273824901956]\n",
      "\n",
      "4\n",
      "\n",
      "washington-dc 14 [689831.5777801737, 2168.9807723085382, 277.1120061758487, 293.41207453487453, 150.42591257679925, 174.32931871099393, 182.42531900162237, 141.32838843596411, 261.1833292382221, 110.14993161851763, 142.85609975525333, 196.62479740437195, 201.02783754796457, 144.86147889843713]\n",
      "\n",
      "5\n",
      "\n",
      "washington-dc 14 [640285.4790484646, 1403.7546473216382, 197.99828964126678, 196.2379896135471, 138.25080986279647, 113.82041793180942, 154.7430936975069, 174.7404534307553, 72.26218679728127, 133.13684814594467, 236.42942486777406, 90.35068703275499, 71.18730138657922, 386.83755438211307]\n",
      "\n",
      "6\n",
      "\n",
      "washington-dc 16 [531355.8123798466, 761.3490152397993, 170.38122076588422, 146.91392344830976, 113.01405679979038, 102.53453548883354, 113.10016433635403, 332.52729636297124, 86.54219419571798, 68.2745994281596, 68.20984982633823, 66.03147088823438, 60.60430035465981, 172.8755919687474, 76.26434289084506, 122.11540003154865]\n",
      "\n",
      "7\n",
      "\n",
      "washington-dc 14 [640040.7984874109, 1608.5969718942595, 248.51503387372244, 133.63142794547517, 100.60371298865607, 109.66046792956772, 123.90047273569488, 76.95256393484716, 111.600054034044, 79.02047208331724, 166.32072201785277, 63.981367431968266, 187.15538802810707, 63.22198925042949]\n",
      "\n",
      "8\n",
      "\n",
      "washington-dc 14 [782529.6011757789, 4628.845112633435, 264.69017262526654, 164.19134538886374, 128.45138132227476, 157.21481113918347, 98.05192274615854, 87.19105340377916, 141.12190901389994, 100.27296623960201, 171.6229949595627, 82.11190662386252, 71.1287150036521, 247.34710752094458]\n",
      "\n",
      "9\n",
      "\n",
      "washington-dc 14 [612625.6559660857, 1126.151885321818, 185.7237128798998, 136.42624984506514, 128.3978867973402, 110.68525097860338, 147.71661311387032, 120.21559016356105, 95.82709441199364, 156.95435280556828, 78.37057516029928, 163.25122483059423, 78.54913032528131, 194.54588459199678]\n",
      "\n"
     ]
    }
   ],
   "source": [
    "wash1 = [None] * 10\n",
    "for i in range(10):\n",
    "    print(i)\n",
    "    print(\"\")\n",
    "    k = get_csv_wash()\n",
    "    wash1[i] = k\n",
    "    print(\"\")"
   ]
  },
  {
   "cell_type": "code",
   "execution_count": null,
   "id": "94fb1956",
   "metadata": {},
   "outputs": [],
   "source": []
  },
  {
   "cell_type": "code",
   "execution_count": null,
   "id": "aa4e9288",
   "metadata": {},
   "outputs": [],
   "source": []
  },
  {
   "cell_type": "code",
   "execution_count": null,
   "id": "d9b8df56",
   "metadata": {},
   "outputs": [],
   "source": []
  },
  {
   "cell_type": "markdown",
   "id": "dbc5ab9e",
   "metadata": {},
   "source": [
    "# palo-alto"
   ]
  },
  {
   "cell_type": "code",
   "execution_count": 164,
   "id": "9cef2971",
   "metadata": {},
   "outputs": [],
   "source": [
    "def get_csv_palo_128():\n",
    "    \n",
    "    city = \"palo-alto\"\n",
    "    \n",
    "    #get data ready for this city\n",
    "    train_dataset = ArgoverseDataset(city, split = \"train\")\n",
    "    output = [d[1].flatten() for d in train_dataset]\n",
    "    in_put = [d[0].flatten() for d in train_dataset]\n",
    "    in_put_new = [relation(l,3) for l in in_put]\n",
    "    #in_put_new_v3 = in_put_new_v2.append(city_onehot(city))\n",
    " \n",
    "    # standardize the train data \n",
    "    #x_scaler = preprocessing.StandardScaler().fit(in_put)\n",
    "   # y_scaler = preprocessing.StandardScaler().fit(output)\n",
    "   # X_scaled = x_scaler.transform(in_put)\n",
    "    #y_scaled = y_scaler.transform(output)\n",
    "    \n",
    "    \n",
    "    #train the model for this city\n",
    "    model = MLPRegressor(activation=\"relu\", solver=\"adam\", early_stopping=True,validation_fraction = 0.3,\n",
    "    learning_rate=\"adaptive\", max_iter=500,alpha=0.0005,hidden_layer_sizes = (128,128,256))\n",
    "    \n",
    "    model.fit(in_put_new,output)\n",
    "    print(city, len(model.loss_curve_),model.loss_curve_)\n",
    "    #get the predictoin \n",
    "    test_input,y =get_city_trajectories(city, \"test\", normalized=False)\n",
    "    x_test = [ d.flatten() for d in test_input]\n",
    "    in_put_newtest = [ relation(l,3) for l in x_test]\n",
    "\n",
    "    #in_put_newtest_v3 = in_put_newtest_v2.append(city_onehot(city))\n",
    "    # xtest_scaler = preprocessing.StandardScaler().fit(x_test)\n",
    "    # xtest_scaled = xtest_scaler.transform(x_test)\n",
    "    \n",
    "    y= model.predict(in_put_newtest)\n",
    "    #real_y =y_scaler.inverse_transform(y)\n",
    "    return y"
   ]
  },
  {
   "cell_type": "code",
   "execution_count": 165,
   "id": "0cbfcc72",
   "metadata": {},
   "outputs": [],
   "source": [
    "def get_csv_palo_64():\n",
    "    \n",
    "    city = \"palo-alto\"\n",
    "    \n",
    "    #get data ready for this city\n",
    "    train_dataset = ArgoverseDataset(city, split = \"train\")\n",
    "    output = [d[1].flatten() for d in train_dataset]\n",
    "    in_put = [d[0].flatten() for d in train_dataset]\n",
    "    in_put_new = [relation(l,3) for l in in_put]\n",
    "    #in_put_new_v3 = in_put_new_v2.append(city_onehot(city))\n",
    " \n",
    "    # standardize the train data \n",
    "    #x_scaler = preprocessing.StandardScaler().fit(in_put)\n",
    "   # y_scaler = preprocessing.StandardScaler().fit(output)\n",
    "   # X_scaled = x_scaler.transform(in_put)\n",
    "    #y_scaled = y_scaler.transform(output)\n",
    "    \n",
    "    \n",
    "    #train the model for this city\n",
    "    model = MLPRegressor(activation=\"relu\", solver=\"adam\", early_stopping=True,validation_fraction = 0.3,\n",
    "    learning_rate=\"adaptive\", max_iter=500,alpha=0.0005,hidden_layer_sizes = (64,128,256))\n",
    "    \n",
    "    model.fit(in_put_new,output)\n",
    "    print(city, len(model.loss_curve_),model.loss_curve_)\n",
    "    #get the predictoin \n",
    "    test_input,y =get_city_trajectories(city, \"test\", normalized=False)\n",
    "    x_test = [ d.flatten() for d in test_input]\n",
    "    in_put_newtest = [ relation(l,3) for l in x_test]\n",
    "\n",
    "    #in_put_newtest_v3 = in_put_newtest_v2.append(city_onehot(city))\n",
    "    # xtest_scaler = preprocessing.StandardScaler().fit(x_test)\n",
    "    # xtest_scaled = xtest_scaler.transform(x_test)\n",
    "    \n",
    "    y= model.predict(in_put_newtest)\n",
    "    #real_y =y_scaler.inverse_transform(y)\n",
    "    return y"
   ]
  },
  {
   "cell_type": "code",
   "execution_count": 163,
   "id": "cfa60cca",
   "metadata": {
    "scrolled": true
   },
   "outputs": [
    {
     "name": "stdout",
     "output_type": "stream",
     "text": [
      "palo-alto 15 [230532.3301624333, 2285.28780373499, 588.0866974037349, 363.06358528365735, 272.18209608673317, 221.20701442299995, 189.36772921983936, 168.17447120227374, 153.0966327938939, 140.4840238367599, 130.26555386905517, 123.2946774028062, 116.00864673524354, 110.93136642020575, 107.13687486727758]\n"
     ]
    }
   ],
   "source": [
    "palo_alto = get_csv_palo()"
   ]
  },
  {
   "cell_type": "code",
   "execution_count": 156,
   "id": "2cfe248a",
   "metadata": {},
   "outputs": [
    {
     "name": "stdout",
     "output_type": "stream",
     "text": [
      "palo-alto 16 [267562.8926760563, 3128.6283479047156, 649.2603307884389, 391.93166048200334, 274.1023624440701, 218.15770922581004, 183.73051735669273, 161.48824795421663, 144.9516108217681, 132.40928628455856, 123.38738579893567, 116.62483849898726, 110.21698769816729, 105.44956962695922, 101.44490487598296, 97.74104718008763]\n"
     ]
    }
   ],
   "source": [
    "palo_alto1 = get_csv_palo()"
   ]
  },
  {
   "cell_type": "code",
   "execution_count": 166,
   "id": "1848f910",
   "metadata": {},
   "outputs": [
    {
     "name": "stdout",
     "output_type": "stream",
     "text": [
      "0\n",
      "\n",
      "palo-alto 15 [239806.86333432328, 2518.453017783378, 609.3630368387976, 360.71877073698494, 262.09708395309536, 211.08813575698127, 177.13783187782388, 153.42812025890615, 132.66048257508308, 118.96781113727315, 109.53880720520479, 101.6982644818686, 95.79264062564711, 91.0448583347388, 86.52137972191895]\n",
      "\n",
      "1\n",
      "\n",
      "palo-alto 15 [243141.7166569765, 2503.224052831155, 573.0295713895753, 362.7183221118667, 275.4558460130004, 223.97960653281163, 191.0317403150063, 166.86657685487418, 150.69146481962028, 137.98713759830696, 126.51269467874938, 118.95682747412233, 109.73311532337576, 106.89830093552193, 100.99152272133436]\n",
      "\n",
      "2\n",
      "\n",
      "palo-alto 16 [250906.82373226498, 2406.7965153525806, 568.6080637001724, 360.97800547044244, 268.3332348887684, 215.14645806566537, 181.93539670241051, 160.13968090237677, 143.81478971057973, 132.40305763665413, 123.00585064681368, 114.96771422074463, 109.6985479317363, 103.42315651887796, 99.16279574614883, 96.23300652375671]\n",
      "\n",
      "3\n",
      "\n",
      "palo-alto 15 [242325.31891254426, 2392.2505732692325, 524.4466619274127, 312.25364259967824, 233.84149372499965, 191.0147583555569, 164.98284484088586, 147.41035555866893, 132.6079703709929, 122.81606149861076, 114.68285903620551, 108.34375971656648, 102.80788356016843, 98.9683512398701, 94.6913060886686]\n",
      "\n",
      "4\n",
      "\n",
      "palo-alto 16 [252636.8895913105, 2842.679654495774, 637.472224387829, 391.68647071985015, 284.2025788141639, 224.1052982226142, 187.5970860112907, 163.809627510401, 147.21183033789168, 134.91644785878614, 123.91800425627801, 116.6713571488101, 109.83225871286434, 104.95588546158692, 101.3559702951268, 96.70902325736093]\n",
      "\n",
      "5\n",
      "\n",
      "palo-alto 15 [223463.31869275123, 2556.7693695561175, 569.4346596228773, 363.01345017738583, 273.4573817967036, 221.83731630996428, 189.2607465477004, 168.2740300491421, 151.60258925547848, 138.41171385397388, 127.96963660943007, 120.82039923529064, 113.1738654451914, 107.45582336054909, 103.42456725675795]\n",
      "\n",
      "6\n",
      "\n",
      "palo-alto 15 [229436.01830076717, 2357.5115514306585, 555.9853244276021, 332.0867256155905, 241.36870438724029, 196.6695011673916, 166.82916946309678, 147.59033731530832, 133.77936783375287, 123.9337726815558, 116.39208332778894, 108.97396630462784, 102.43749537443352, 97.42192344486773, 92.66177042123137]\n",
      "\n",
      "7\n",
      "\n",
      "palo-alto 16 [224339.7124742044, 2585.8796909550306, 625.8399271714774, 400.45772626148346, 300.50821304036157, 242.07055606964084, 204.94751418878243, 180.09036706454427, 162.26464970902694, 147.74774086006198, 137.14706297070424, 128.28990406740036, 121.46962582514581, 114.98628145520831, 109.57072214729104, 105.18672336580448]\n",
      "\n",
      "8\n",
      "\n",
      "palo-alto 16 [249385.98693426812, 2557.7112598399, 587.6245863098773, 369.4119865891338, 275.95769350484767, 221.87382930595982, 185.70746734194836, 156.74332317839327, 139.0828303957081, 126.25459637429609, 118.6058718728027, 109.78133753281496, 102.95793612226518, 98.21912917821678, 93.8459337121573, 88.9209405427881]\n",
      "\n",
      "9\n",
      "\n",
      "palo-alto 15 [213106.8614591618, 2187.094335533038, 533.4229859025679, 340.4794286724286, 254.03870000908896, 206.73177885728794, 176.44439452530062, 155.19020146368038, 140.19867335368855, 128.81205142465114, 119.8616390069216, 111.92041700447277, 105.88687283211257, 101.18215189366126, 95.56181758340186]\n",
      "\n"
     ]
    }
   ],
   "source": [
    "palo1 = [None] * 10\n",
    "for i in range(10):\n",
    "    print(i)\n",
    "    print(\"\")\n",
    "    k = get_csv_palo_128()\n",
    "    palo1[i] = k\n",
    "    print(\"\")"
   ]
  },
  {
   "cell_type": "code",
   "execution_count": 167,
   "id": "b323f8a3",
   "metadata": {},
   "outputs": [
    {
     "name": "stdout",
     "output_type": "stream",
     "text": [
      "0\n",
      "\n",
      "palo-alto 16 [270703.8986636976, 3147.578888250828, 698.897369713037, 414.655044533222, 295.9414916723772, 230.83000844409514, 196.4556568665962, 172.33600240514514, 156.10553422710686, 142.57247178833435, 132.7940327818609, 124.90816031497694, 118.26598764446798, 112.65154799036887, 107.81540015327086, 103.54914130678613]\n",
      "\n",
      "1\n",
      "\n",
      "palo-alto 16 [279874.20811707765, 3214.225714705214, 643.9118530101263, 378.994201991303, 276.4443053423056, 221.01521719124565, 187.79777279333263, 164.9049163241058, 147.11344907149524, 135.16056872007815, 126.34670902727856, 120.07267341444387, 113.3993306847103, 107.6579553266225, 103.50751009079698, 98.85889816315435]\n",
      "\n",
      "2\n",
      "\n",
      "palo-alto 16 [241797.71970217276, 2891.548660176705, 649.4999922479773, 395.7510697106635, 293.6443566476381, 232.11984661169234, 194.8795658129274, 169.6539158259895, 150.85959223295524, 138.39285538657612, 128.63959011864983, 120.77967688434357, 113.51088517119078, 107.4354010554494, 102.32127001762483, 98.94315431087135]\n",
      "\n",
      "3\n",
      "\n",
      "palo-alto 16 [256578.3909897947, 3106.3427983914776, 710.2783417227165, 415.63090843617215, 305.19898315778556, 245.76584930422052, 204.0514951713948, 170.47349336447283, 149.93819900129276, 136.14222855339483, 125.68450946015471, 117.02241064001859, 110.57712844649288, 104.12850857527793, 99.65274704539841, 95.4216379568322]\n",
      "\n",
      "4\n",
      "\n",
      "palo-alto 16 [243587.63669067883, 3040.1313471577078, 658.6976770999765, 414.0976115342914, 310.8830690678335, 250.0424705381795, 211.2197931953985, 184.41425691575876, 166.2087469853915, 151.7934821472187, 140.46855031093696, 131.91824529156173, 125.16101455243889, 118.84613293839371, 113.56930778512043, 109.35340272120982]\n",
      "\n",
      "5\n",
      "\n",
      "palo-alto 16 [268256.48236805847, 3294.9271153012237, 665.2558830503503, 406.11772133440365, 300.64958828247495, 230.55245045383379, 190.3443909911762, 165.395138171813, 148.66677914072724, 136.29088697810576, 127.54923731139378, 120.84133801815074, 115.49735596418375, 111.30019361752198, 105.86417360463844, 102.04819274613186]\n",
      "\n",
      "6\n",
      "\n",
      "palo-alto 16 [255981.43239566486, 3043.9991438610195, 695.9599205543702, 434.8346232769151, 322.1191772089228, 258.7154698473028, 216.1772633123398, 184.89814822110105, 165.3711850156624, 150.73234996384403, 140.20462492706008, 130.797814189443, 124.04437383926532, 116.77875606415162, 111.92611872552345, 106.63730033926855]\n",
      "\n",
      "7\n",
      "\n",
      "palo-alto 16 [262682.0623016527, 3304.3017011616007, 620.8671706001219, 373.49542451587837, 278.69021134889965, 219.00075913432264, 182.7201830604835, 160.66487135209525, 145.09358347569483, 134.84488873286944, 125.9192157298911, 118.65535549088938, 113.05152231864834, 108.96267555147384, 104.8073111389577, 100.707046332125]\n",
      "\n",
      "8\n",
      "\n",
      "palo-alto 16 [254154.99627436907, 3163.1778977926083, 664.5964227009122, 413.07680902329, 304.39721549773833, 243.79301005849803, 204.82279961990088, 178.85024570526113, 159.56509130735714, 145.35191462415358, 134.1081969703791, 126.83330469273149, 119.83758731675852, 114.7366552036638, 109.2101324530923, 105.11273435620316]\n",
      "\n",
      "9\n",
      "\n",
      "palo-alto 16 [252308.1328727042, 2927.2083130641377, 666.1948745256652, 406.9840607107786, 300.5465324199586, 240.48355902955603, 203.12334562258272, 177.82277190928852, 158.54898889170306, 144.09346304127467, 133.5766744586829, 125.56880062976575, 119.42466580756319, 113.30745954733925, 109.61409864366718, 105.64029771864725]\n",
      "\n"
     ]
    }
   ],
   "source": [
    "palo2 = [None] * 10\n",
    "for i in range(10):\n",
    "    print(i)\n",
    "    print(\"\")\n",
    "    k = get_csv_palo_64()\n",
    "    palo2[i] = k\n",
    "    print(\"\")"
   ]
  },
  {
   "cell_type": "markdown",
   "id": "a13fd5cb",
   "metadata": {},
   "source": [
    "# submission"
   ]
  },
  {
   "cell_type": "code",
   "execution_count": 193,
   "id": "78dfbb95",
   "metadata": {},
   "outputs": [],
   "source": [
    "sub = []"
   ]
  },
  {
   "cell_type": "code",
   "execution_count": null,
   "id": "037e04b5",
   "metadata": {},
   "outputs": [],
   "source": [
    "# cities = [\"austin\", \"miami\", \"pittsburgh\", \"dearborn\", \"washington-dc\", \"palo-alto\"]"
   ]
  },
  {
   "cell_type": "code",
   "execution_count": 178,
   "id": "4d5a98d7",
   "metadata": {},
   "outputs": [
    {
     "data": {
      "text/plain": [
       "array([[  -21.89093077,  -565.16464368,   -22.26513801, ...,\n",
       "         -557.89429752,   -52.17192582,  -555.64280283],\n",
       "       [ -328.28263857,    11.14920473,  -329.93788087, ...,\n",
       "           11.8347536 ,  -322.57001602,    12.04818093],\n",
       "       [   49.06268114,  -247.67437318,    50.50305074, ...,\n",
       "         -249.1360315 ,    50.67147666,  -248.17964379],\n",
       "       ...,\n",
       "       [ -682.78651969,   495.19063604,  -684.16316731, ...,\n",
       "          486.58727111,  -678.55497993,   495.90643084],\n",
       "       [ -136.80610377,  1575.20713109,  -132.51440604, ...,\n",
       "         1558.45050714,  -125.607208  ,  1563.01142983],\n",
       "       [  338.74390972, -1488.70020404,   345.38566004, ...,\n",
       "        -1492.32450094,   367.22114632, -1496.5167082 ]])"
      ]
     },
     "execution_count": 178,
     "metadata": {},
     "output_type": "execute_result"
    }
   ],
   "source": [
    "aus[2]"
   ]
  },
  {
   "cell_type": "code",
   "execution_count": 194,
   "id": "825f491a",
   "metadata": {},
   "outputs": [],
   "source": [
    "for x in aus[2]:\n",
    "    sub.append(x)"
   ]
  },
  {
   "cell_type": "code",
   "execution_count": 179,
   "id": "91d010b2",
   "metadata": {},
   "outputs": [
    {
     "data": {
      "text/plain": [
       "array([[ 5920.17046687,  1463.67035687,  5920.80409467, ...,\n",
       "         1465.65955187,  5915.61379593,  1466.89901972],\n",
       "       [-7888.46939382, -2193.24040461, -7893.53432696, ...,\n",
       "        -2192.74904349, -7888.02544672, -2196.38188595],\n",
       "       [ 6282.3536921 ,    57.54142528,  6281.20527903, ...,\n",
       "           59.69465008,  6277.11607186,    60.09337129],\n",
       "       ...,\n",
       "       [  630.88526484,  1661.14081788,   625.18268998, ...,\n",
       "         1657.69844095,   626.39892841,  1656.20641152],\n",
       "       [  411.00207438,  3977.46902368,   413.60300491, ...,\n",
       "         3980.96465202,   405.02679261,  3981.59514638],\n",
       "       [ 5770.07362037,  1970.16101641,  5771.39461946, ...,\n",
       "         1970.10397849,  5767.35026563,  1971.93453804]])"
      ]
     },
     "execution_count": 179,
     "metadata": {},
     "output_type": "execute_result"
    }
   ],
   "source": [
    "miami"
   ]
  },
  {
   "cell_type": "code",
   "execution_count": 196,
   "id": "418cd0ea",
   "metadata": {},
   "outputs": [],
   "source": [
    "for x in miami:\n",
    "    sub.append(x)"
   ]
  },
  {
   "cell_type": "code",
   "execution_count": 181,
   "id": "27e924ae",
   "metadata": {},
   "outputs": [
    {
     "data": {
      "text/plain": [
       "array([[4056.23876096,  205.39357585, 4055.62992905, ...,  205.66171898,\n",
       "        4062.86382052,  206.45585035],\n",
       "       [1483.49047628,  212.08509551, 1483.43959382, ...,  211.38900067,\n",
       "        1488.2196251 ,  213.42713876],\n",
       "       [1597.67364178,  362.39140506, 1596.48321886, ...,  367.41066731,\n",
       "        1589.37797033,  362.19551804],\n",
       "       ...,\n",
       "       [1765.77133464,  430.22954015, 1767.22744647, ...,  424.58763283,\n",
       "        1764.24694082,  425.90911089],\n",
       "       [4670.6951359 , -588.24060769, 4668.03050053, ..., -590.77633574,\n",
       "        4675.55106652, -590.97640029],\n",
       "       [1264.41213617,  139.98269999, 1265.05087414, ...,  138.57957358,\n",
       "        1274.4885493 ,  143.51333936]])"
      ]
     },
     "execution_count": 181,
     "metadata": {},
     "output_type": "execute_result"
    }
   ],
   "source": [
    "pit[4]"
   ]
  },
  {
   "cell_type": "code",
   "execution_count": 197,
   "id": "0d3f4152",
   "metadata": {},
   "outputs": [],
   "source": [
    "for x in pit[4]:\n",
    "    sub.append(x)"
   ]
  },
  {
   "cell_type": "code",
   "execution_count": 184,
   "id": "59ca28d5",
   "metadata": {},
   "outputs": [
    {
     "data": {
      "text/plain": [
       "array([[ 9310.85306176,  3278.9700132 ,  9301.63213196, ...,\n",
       "         3272.31814718,  9297.81059653,  3278.42347209],\n",
       "       [ 2358.29465894,  3289.56569471,  2373.80910336, ...,\n",
       "         3277.79750547,  2357.58323876,  3282.25620809],\n",
       "       [10349.18552503,  3297.82288579, 10339.59110581, ...,\n",
       "         3296.85101653, 10340.11354542,  3298.50727861],\n",
       "       ...,\n",
       "       [  662.3441521 ,  2702.63316661,   652.53643762, ...,\n",
       "         2696.42450475,   668.9019114 ,  2701.67750609],\n",
       "       [10058.39794252,  3604.35647477, 10052.96102438, ...,\n",
       "         3603.7211584 , 10061.99698012,  3610.29039965],\n",
       "       [ 9927.61077966,  3968.05003984,  9919.27261752, ...,\n",
       "         3968.43289492,  9929.83288481,  3972.51756098]])"
      ]
     },
     "execution_count": 184,
     "metadata": {},
     "output_type": "execute_result"
    }
   ],
   "source": [
    "dear1[8]"
   ]
  },
  {
   "cell_type": "code",
   "execution_count": 198,
   "id": "db792c90",
   "metadata": {},
   "outputs": [],
   "source": [
    "for x in dear1[8]:\n",
    "    sub.append(x)"
   ]
  },
  {
   "cell_type": "code",
   "execution_count": 187,
   "id": "ba8d95ea",
   "metadata": {},
   "outputs": [
    {
     "data": {
      "text/plain": [
       "array([[1468.25234289,  723.25520352, 1473.91530554, ...,  719.40030358,\n",
       "        1455.49749614,  729.75916069],\n",
       "       [5740.21563454, 3288.3596879 , 5761.95391598, ..., 3278.46117928,\n",
       "        5749.60571527, 3286.37934551],\n",
       "       [2346.60216455, 1957.59023141, 2351.82847433, ..., 1952.91208337,\n",
       "        2350.98676435, 1955.96188706],\n",
       "       ...,\n",
       "       [4989.75995648, 3798.51458697, 4990.8824365 , ..., 3791.22759807,\n",
       "        4993.55946136, 3793.79703373],\n",
       "       [4742.93056504, 1479.64900361, 4743.59825553, ..., 1471.8218589 ,\n",
       "        4736.91182259, 1480.16202065],\n",
       "       [3600.938806  , 1133.64721981, 3603.00926141, ..., 1123.38602542,\n",
       "        3590.94349081, 1130.47037618]])"
      ]
     },
     "execution_count": 187,
     "metadata": {},
     "output_type": "execute_result"
    }
   ],
   "source": [
    "washington_dc"
   ]
  },
  {
   "cell_type": "code",
   "execution_count": 199,
   "id": "c4a0eb2a",
   "metadata": {},
   "outputs": [],
   "source": [
    "for x in washington_dc:\n",
    "    sub.append(x)"
   ]
  },
  {
   "cell_type": "code",
   "execution_count": 189,
   "id": "880604b6",
   "metadata": {},
   "outputs": [
    {
     "data": {
      "text/plain": [
       "array([[ 5.92422280e+02,  1.88866215e+03,  5.81237420e+02, ...,\n",
       "         1.89381585e+03,  5.86852315e+02,  1.86674280e+03],\n",
       "       [ 1.42826735e+03,  1.70063607e+03,  1.43057368e+03, ...,\n",
       "         1.70144124e+03,  1.43355565e+03,  1.69935563e+03],\n",
       "       [-1.00058065e+03,  2.05860730e+03, -1.01982469e+03, ...,\n",
       "         2.08112642e+03, -1.02258825e+03,  2.07528973e+03],\n",
       "       ...,\n",
       "       [-1.43149043e+03,  2.15882325e+03, -1.42883202e+03, ...,\n",
       "         2.14610656e+03, -1.42362915e+03,  2.14761872e+03],\n",
       "       [ 1.07363876e+03,  1.40057928e+03,  1.09173458e+03, ...,\n",
       "         1.41321065e+03,  1.10125965e+03,  1.42247563e+03],\n",
       "       [-3.67161876e+01,  4.00839057e+02, -1.54907951e+01, ...,\n",
       "         3.79317436e+02,  1.99271592e+00,  4.03652381e+02]])"
      ]
     },
     "execution_count": 189,
     "metadata": {},
     "output_type": "execute_result"
    }
   ],
   "source": [
    "palo1[0]"
   ]
  },
  {
   "cell_type": "code",
   "execution_count": 200,
   "id": "351a0c22",
   "metadata": {},
   "outputs": [],
   "source": [
    "for x in palo1[0]:\n",
    "    sub.append(x)"
   ]
  },
  {
   "cell_type": "code",
   "execution_count": 201,
   "id": "ebd98fc6",
   "metadata": {},
   "outputs": [
    {
     "data": {
      "text/plain": [
       "29843"
      ]
     },
     "execution_count": 201,
     "metadata": {},
     "output_type": "execute_result"
    }
   ],
   "source": [
    "len(sub)"
   ]
  },
  {
   "cell_type": "code",
   "execution_count": null,
   "id": "6df12e12",
   "metadata": {},
   "outputs": [],
   "source": []
  },
  {
   "cell_type": "code",
   "execution_count": null,
   "id": "0e2d4d18",
   "metadata": {},
   "outputs": [],
   "source": []
  },
  {
   "cell_type": "code",
   "execution_count": 210,
   "id": "f3225d8c",
   "metadata": {},
   "outputs": [
    {
     "name": "stdout",
     "output_type": "stream",
     "text": [
      "austin 13 [87014.48698907635, 140.28561743434912, 86.85656823962802, 77.4692534668652, 67.80028635486156, 67.16654096677601, 66.25741649518446, 78.75684929550988, 64.73083103417136, 150.71824783183746, 92.76803868923452, 43.769419649883254, 40.771690564632486]\n",
      "miami 13 [306190.4756895019, 305.4441193580582, 133.08093461753387, 104.21918849280061, 110.72690039525325, 521.807457496006, 71.53839722745955, 99.05571060150307, 190.18235942836998, 157.92123417772368, 75.46794886883582, 238.80744474112248, 295.3593492680587]\n",
      "pittsburgh 12 [252009.09130926777, 80.46077995869277, 59.384289713562296, 53.036307053914065, 50.519469878037285, 50.680575004860664, 51.93546933333693, 67.01436741016117, 71.26244755977943, 66.94612953145393, 78.78112114572288, 74.25425000096358]\n",
      "dearborn 15 [1847640.5454760902, 897.1089375416985, 346.8254014390141, 349.46054245679767, 367.8978291457269, 736.4474799742783, 193.84939051987948, 130.6414358189908, 501.5777293517199, 185.8940338962141, 256.2852639743785, 316.29582233166053, 237.09761207479968, 280.73783503230675, 313.31834498536364]\n",
      "washington-dc 14 [622058.0455484821, 1516.7255925343575, 162.376601230312, 128.61532714161368, 80.1353116131148, 111.86900730095716, 130.2180475685465, 83.34761954755763, 87.34165648898019, 121.69976213422457, 113.77581358390627, 149.9710062542606, 70.7950333341271, 69.19573402090435]\n",
      "palo-alto 16 [315537.27710685245, 4076.049144451108, 671.0163115014805, 372.1638466812201, 270.472861042458, 220.24284411204252, 188.7068534659964, 164.96156279886264, 147.67683171710513, 135.2759311915697, 127.18801603480173, 119.5384034306834, 113.97982046275837, 109.32323964352479, 105.78818898572169, 102.34725411969424]\n"
     ]
    }
   ],
   "source": [
    "# get all the prediction \n",
    "final =[]\n",
    "for city in cities:\n",
    "    x = get_csv(city)\n",
    "    for ele in x:\n",
    "        final.append(ele)\n"
   ]
  },
  {
   "cell_type": "code",
   "execution_count": 212,
   "id": "21f9f757",
   "metadata": {},
   "outputs": [
    {
     "name": "stdout",
     "output_type": "stream",
     "text": [
      "austin 13 [89158.664711699, 202.96183249636303, 122.90758135661464, 97.70363134310293, 84.34516997356268, 76.91019973800952, 79.57071591481912, 67.98988878805875, 81.7722563021918, 57.32660297367294, 64.11471234256233, 54.51942372790613, 127.60348784258699]\n",
      "miami 13 [366913.21348294383, 247.3028421508879, 139.0888114009814, 111.21565711784434, 108.2104066503093, 242.11203938636243, 94.0554485144158, 227.0563593483328, 73.13423115563695, 161.40458201580608, 159.29703738145045, 977.2238889071963, 84.6589101559133]\n",
      "pittsburgh 13 [289170.25348719326, 121.92462522813916, 70.32651558163076, 60.46241232627047, 54.24181008367245, 50.21549440695759, 57.548157094153, 74.82103489378872, 90.22989847600178, 50.73494472809446, 92.77439474994064, 69.91290714825203, 89.5938935879156]\n",
      "dearborn 15 [2186007.6197972544, 1368.5634281359314, 547.4658813071509, 463.1712117143912, 811.4788846161614, 216.55706237016332, 226.5293371574098, 518.2000180187921, 1014.0882956672222, 238.5729368213166, 124.85946550036032, 152.6718521753871, 290.35087766213985, 1273.6197490991835, 100.01872186060046]\n",
      "washington-dc 14 [548706.5369867174, 978.1287617536781, 167.5484749032542, 113.58030088568096, 132.2214666326212, 169.6325180588227, 130.69802144391053, 80.65913122655877, 307.18316936056715, 73.07362818182486, 66.8444441427917, 168.2624470650861, 82.68152823565858, 195.18788037701918]\n",
      "palo-alto 16 [300637.1836178025, 3905.0911657553997, 676.6567814205106, 407.4048577756509, 308.39169480644915, 248.98264454832514, 214.5700811364794, 189.17217203144557, 168.5135915114561, 154.64636231368203, 144.37944674448207, 134.15587496725166, 127.97161518987238, 122.97176508972359, 116.69000909659329, 112.77853733126945]\n"
     ]
    }
   ],
   "source": [
    "# get all the prediction \n",
    "final =[]\n",
    "for city in cities:\n",
    "    x = get_csv(city)\n",
    "    for ele in x:\n",
    "        final.append(ele)\n"
   ]
  },
  {
   "cell_type": "code",
   "execution_count": 213,
   "id": "f30c9467",
   "metadata": {},
   "outputs": [
    {
     "data": {
      "text/plain": [
       "29843"
      ]
     },
     "execution_count": 213,
     "metadata": {},
     "output_type": "execute_result"
    }
   ],
   "source": [
    "len(final)"
   ]
  },
  {
   "cell_type": "code",
   "execution_count": 202,
   "id": "26e50b68",
   "metadata": {},
   "outputs": [],
   "source": [
    "np.savetxt(\"prediction.csv\", \n",
    "           sub,\n",
    "           delimiter =\", \",\n",
    "           fmt ='% s')"
   ]
  },
  {
   "cell_type": "code",
   "execution_count": 215,
   "id": "6b2e8c7f",
   "metadata": {},
   "outputs": [
    {
     "ename": "FileNotFoundError",
     "evalue": "[Errno 2] No such file or directory: 'C:/Users/ly264/Desktop/CSE151b_final_project/sample_submission.csv'",
     "output_type": "error",
     "traceback": [
      "\u001b[1;31m---------------------------------------------------------------------------\u001b[0m",
      "\u001b[1;31mFileNotFoundError\u001b[0m                         Traceback (most recent call last)",
      "\u001b[1;32m~\\AppData\\Local\\Temp/ipykernel_10652/3174193745.py\u001b[0m in \u001b[0;36m<module>\u001b[1;34m\u001b[0m\n\u001b[1;32m----> 1\u001b[1;33m \u001b[0mdf\u001b[0m \u001b[1;33m=\u001b[0m \u001b[0mpd\u001b[0m\u001b[1;33m.\u001b[0m\u001b[0mread_csv\u001b[0m\u001b[1;33m(\u001b[0m\u001b[1;34m'C:/Users/ly264/Desktop/CSE151b_final_project/sample_submission.csv'\u001b[0m\u001b[1;33m)\u001b[0m\u001b[1;33m\u001b[0m\u001b[1;33m\u001b[0m\u001b[0m\n\u001b[0m",
      "\u001b[1;32m~\\anaconda3\\lib\\site-packages\\pandas\\util\\_decorators.py\u001b[0m in \u001b[0;36mwrapper\u001b[1;34m(*args, **kwargs)\u001b[0m\n\u001b[0;32m    309\u001b[0m                     \u001b[0mstacklevel\u001b[0m\u001b[1;33m=\u001b[0m\u001b[0mstacklevel\u001b[0m\u001b[1;33m,\u001b[0m\u001b[1;33m\u001b[0m\u001b[1;33m\u001b[0m\u001b[0m\n\u001b[0;32m    310\u001b[0m                 )\n\u001b[1;32m--> 311\u001b[1;33m             \u001b[1;32mreturn\u001b[0m \u001b[0mfunc\u001b[0m\u001b[1;33m(\u001b[0m\u001b[1;33m*\u001b[0m\u001b[0margs\u001b[0m\u001b[1;33m,\u001b[0m \u001b[1;33m**\u001b[0m\u001b[0mkwargs\u001b[0m\u001b[1;33m)\u001b[0m\u001b[1;33m\u001b[0m\u001b[1;33m\u001b[0m\u001b[0m\n\u001b[0m\u001b[0;32m    312\u001b[0m \u001b[1;33m\u001b[0m\u001b[0m\n\u001b[0;32m    313\u001b[0m         \u001b[1;32mreturn\u001b[0m \u001b[0mwrapper\u001b[0m\u001b[1;33m\u001b[0m\u001b[1;33m\u001b[0m\u001b[0m\n",
      "\u001b[1;32m~\\anaconda3\\lib\\site-packages\\pandas\\io\\parsers\\readers.py\u001b[0m in \u001b[0;36mread_csv\u001b[1;34m(filepath_or_buffer, sep, delimiter, header, names, index_col, usecols, squeeze, prefix, mangle_dupe_cols, dtype, engine, converters, true_values, false_values, skipinitialspace, skiprows, skipfooter, nrows, na_values, keep_default_na, na_filter, verbose, skip_blank_lines, parse_dates, infer_datetime_format, keep_date_col, date_parser, dayfirst, cache_dates, iterator, chunksize, compression, thousands, decimal, lineterminator, quotechar, quoting, doublequote, escapechar, comment, encoding, encoding_errors, dialect, error_bad_lines, warn_bad_lines, on_bad_lines, delim_whitespace, low_memory, memory_map, float_precision, storage_options)\u001b[0m\n\u001b[0;32m    584\u001b[0m     \u001b[0mkwds\u001b[0m\u001b[1;33m.\u001b[0m\u001b[0mupdate\u001b[0m\u001b[1;33m(\u001b[0m\u001b[0mkwds_defaults\u001b[0m\u001b[1;33m)\u001b[0m\u001b[1;33m\u001b[0m\u001b[1;33m\u001b[0m\u001b[0m\n\u001b[0;32m    585\u001b[0m \u001b[1;33m\u001b[0m\u001b[0m\n\u001b[1;32m--> 586\u001b[1;33m     \u001b[1;32mreturn\u001b[0m \u001b[0m_read\u001b[0m\u001b[1;33m(\u001b[0m\u001b[0mfilepath_or_buffer\u001b[0m\u001b[1;33m,\u001b[0m \u001b[0mkwds\u001b[0m\u001b[1;33m)\u001b[0m\u001b[1;33m\u001b[0m\u001b[1;33m\u001b[0m\u001b[0m\n\u001b[0m\u001b[0;32m    587\u001b[0m \u001b[1;33m\u001b[0m\u001b[0m\n\u001b[0;32m    588\u001b[0m \u001b[1;33m\u001b[0m\u001b[0m\n",
      "\u001b[1;32m~\\anaconda3\\lib\\site-packages\\pandas\\io\\parsers\\readers.py\u001b[0m in \u001b[0;36m_read\u001b[1;34m(filepath_or_buffer, kwds)\u001b[0m\n\u001b[0;32m    480\u001b[0m \u001b[1;33m\u001b[0m\u001b[0m\n\u001b[0;32m    481\u001b[0m     \u001b[1;31m# Create the parser.\u001b[0m\u001b[1;33m\u001b[0m\u001b[1;33m\u001b[0m\u001b[0m\n\u001b[1;32m--> 482\u001b[1;33m     \u001b[0mparser\u001b[0m \u001b[1;33m=\u001b[0m \u001b[0mTextFileReader\u001b[0m\u001b[1;33m(\u001b[0m\u001b[0mfilepath_or_buffer\u001b[0m\u001b[1;33m,\u001b[0m \u001b[1;33m**\u001b[0m\u001b[0mkwds\u001b[0m\u001b[1;33m)\u001b[0m\u001b[1;33m\u001b[0m\u001b[1;33m\u001b[0m\u001b[0m\n\u001b[0m\u001b[0;32m    483\u001b[0m \u001b[1;33m\u001b[0m\u001b[0m\n\u001b[0;32m    484\u001b[0m     \u001b[1;32mif\u001b[0m \u001b[0mchunksize\u001b[0m \u001b[1;32mor\u001b[0m \u001b[0miterator\u001b[0m\u001b[1;33m:\u001b[0m\u001b[1;33m\u001b[0m\u001b[1;33m\u001b[0m\u001b[0m\n",
      "\u001b[1;32m~\\anaconda3\\lib\\site-packages\\pandas\\io\\parsers\\readers.py\u001b[0m in \u001b[0;36m__init__\u001b[1;34m(self, f, engine, **kwds)\u001b[0m\n\u001b[0;32m    809\u001b[0m             \u001b[0mself\u001b[0m\u001b[1;33m.\u001b[0m\u001b[0moptions\u001b[0m\u001b[1;33m[\u001b[0m\u001b[1;34m\"has_index_names\"\u001b[0m\u001b[1;33m]\u001b[0m \u001b[1;33m=\u001b[0m \u001b[0mkwds\u001b[0m\u001b[1;33m[\u001b[0m\u001b[1;34m\"has_index_names\"\u001b[0m\u001b[1;33m]\u001b[0m\u001b[1;33m\u001b[0m\u001b[1;33m\u001b[0m\u001b[0m\n\u001b[0;32m    810\u001b[0m \u001b[1;33m\u001b[0m\u001b[0m\n\u001b[1;32m--> 811\u001b[1;33m         \u001b[0mself\u001b[0m\u001b[1;33m.\u001b[0m\u001b[0m_engine\u001b[0m \u001b[1;33m=\u001b[0m \u001b[0mself\u001b[0m\u001b[1;33m.\u001b[0m\u001b[0m_make_engine\u001b[0m\u001b[1;33m(\u001b[0m\u001b[0mself\u001b[0m\u001b[1;33m.\u001b[0m\u001b[0mengine\u001b[0m\u001b[1;33m)\u001b[0m\u001b[1;33m\u001b[0m\u001b[1;33m\u001b[0m\u001b[0m\n\u001b[0m\u001b[0;32m    812\u001b[0m \u001b[1;33m\u001b[0m\u001b[0m\n\u001b[0;32m    813\u001b[0m     \u001b[1;32mdef\u001b[0m \u001b[0mclose\u001b[0m\u001b[1;33m(\u001b[0m\u001b[0mself\u001b[0m\u001b[1;33m)\u001b[0m\u001b[1;33m:\u001b[0m\u001b[1;33m\u001b[0m\u001b[1;33m\u001b[0m\u001b[0m\n",
      "\u001b[1;32m~\\anaconda3\\lib\\site-packages\\pandas\\io\\parsers\\readers.py\u001b[0m in \u001b[0;36m_make_engine\u001b[1;34m(self, engine)\u001b[0m\n\u001b[0;32m   1038\u001b[0m             )\n\u001b[0;32m   1039\u001b[0m         \u001b[1;31m# error: Too many arguments for \"ParserBase\"\u001b[0m\u001b[1;33m\u001b[0m\u001b[1;33m\u001b[0m\u001b[0m\n\u001b[1;32m-> 1040\u001b[1;33m         \u001b[1;32mreturn\u001b[0m \u001b[0mmapping\u001b[0m\u001b[1;33m[\u001b[0m\u001b[0mengine\u001b[0m\u001b[1;33m]\u001b[0m\u001b[1;33m(\u001b[0m\u001b[0mself\u001b[0m\u001b[1;33m.\u001b[0m\u001b[0mf\u001b[0m\u001b[1;33m,\u001b[0m \u001b[1;33m**\u001b[0m\u001b[0mself\u001b[0m\u001b[1;33m.\u001b[0m\u001b[0moptions\u001b[0m\u001b[1;33m)\u001b[0m  \u001b[1;31m# type: ignore[call-arg]\u001b[0m\u001b[1;33m\u001b[0m\u001b[1;33m\u001b[0m\u001b[0m\n\u001b[0m\u001b[0;32m   1041\u001b[0m \u001b[1;33m\u001b[0m\u001b[0m\n\u001b[0;32m   1042\u001b[0m     \u001b[1;32mdef\u001b[0m \u001b[0m_failover_to_python\u001b[0m\u001b[1;33m(\u001b[0m\u001b[0mself\u001b[0m\u001b[1;33m)\u001b[0m\u001b[1;33m:\u001b[0m\u001b[1;33m\u001b[0m\u001b[1;33m\u001b[0m\u001b[0m\n",
      "\u001b[1;32m~\\anaconda3\\lib\\site-packages\\pandas\\io\\parsers\\c_parser_wrapper.py\u001b[0m in \u001b[0;36m__init__\u001b[1;34m(self, src, **kwds)\u001b[0m\n\u001b[0;32m     49\u001b[0m \u001b[1;33m\u001b[0m\u001b[0m\n\u001b[0;32m     50\u001b[0m         \u001b[1;31m# open handles\u001b[0m\u001b[1;33m\u001b[0m\u001b[1;33m\u001b[0m\u001b[0m\n\u001b[1;32m---> 51\u001b[1;33m         \u001b[0mself\u001b[0m\u001b[1;33m.\u001b[0m\u001b[0m_open_handles\u001b[0m\u001b[1;33m(\u001b[0m\u001b[0msrc\u001b[0m\u001b[1;33m,\u001b[0m \u001b[0mkwds\u001b[0m\u001b[1;33m)\u001b[0m\u001b[1;33m\u001b[0m\u001b[1;33m\u001b[0m\u001b[0m\n\u001b[0m\u001b[0;32m     52\u001b[0m         \u001b[1;32massert\u001b[0m \u001b[0mself\u001b[0m\u001b[1;33m.\u001b[0m\u001b[0mhandles\u001b[0m \u001b[1;32mis\u001b[0m \u001b[1;32mnot\u001b[0m \u001b[1;32mNone\u001b[0m\u001b[1;33m\u001b[0m\u001b[1;33m\u001b[0m\u001b[0m\n\u001b[0;32m     53\u001b[0m \u001b[1;33m\u001b[0m\u001b[0m\n",
      "\u001b[1;32m~\\anaconda3\\lib\\site-packages\\pandas\\io\\parsers\\base_parser.py\u001b[0m in \u001b[0;36m_open_handles\u001b[1;34m(self, src, kwds)\u001b[0m\n\u001b[0;32m    220\u001b[0m         \u001b[0mLet\u001b[0m \u001b[0mthe\u001b[0m \u001b[0mreaders\u001b[0m \u001b[0mopen\u001b[0m \u001b[0mIOHandles\u001b[0m \u001b[0mafter\u001b[0m \u001b[0mthey\u001b[0m \u001b[0mare\u001b[0m \u001b[0mdone\u001b[0m \u001b[1;32mwith\u001b[0m \u001b[0mtheir\u001b[0m \u001b[0mpotential\u001b[0m \u001b[0mraises\u001b[0m\u001b[1;33m.\u001b[0m\u001b[1;33m\u001b[0m\u001b[1;33m\u001b[0m\u001b[0m\n\u001b[0;32m    221\u001b[0m         \"\"\"\n\u001b[1;32m--> 222\u001b[1;33m         self.handles = get_handle(\n\u001b[0m\u001b[0;32m    223\u001b[0m             \u001b[0msrc\u001b[0m\u001b[1;33m,\u001b[0m\u001b[1;33m\u001b[0m\u001b[1;33m\u001b[0m\u001b[0m\n\u001b[0;32m    224\u001b[0m             \u001b[1;34m\"r\"\u001b[0m\u001b[1;33m,\u001b[0m\u001b[1;33m\u001b[0m\u001b[1;33m\u001b[0m\u001b[0m\n",
      "\u001b[1;32m~\\anaconda3\\lib\\site-packages\\pandas\\io\\common.py\u001b[0m in \u001b[0;36mget_handle\u001b[1;34m(path_or_buf, mode, encoding, compression, memory_map, is_text, errors, storage_options)\u001b[0m\n\u001b[0;32m    700\u001b[0m         \u001b[1;32mif\u001b[0m \u001b[0mioargs\u001b[0m\u001b[1;33m.\u001b[0m\u001b[0mencoding\u001b[0m \u001b[1;32mand\u001b[0m \u001b[1;34m\"b\"\u001b[0m \u001b[1;32mnot\u001b[0m \u001b[1;32min\u001b[0m \u001b[0mioargs\u001b[0m\u001b[1;33m.\u001b[0m\u001b[0mmode\u001b[0m\u001b[1;33m:\u001b[0m\u001b[1;33m\u001b[0m\u001b[1;33m\u001b[0m\u001b[0m\n\u001b[0;32m    701\u001b[0m             \u001b[1;31m# Encoding\u001b[0m\u001b[1;33m\u001b[0m\u001b[1;33m\u001b[0m\u001b[0m\n\u001b[1;32m--> 702\u001b[1;33m             handle = open(\n\u001b[0m\u001b[0;32m    703\u001b[0m                 \u001b[0mhandle\u001b[0m\u001b[1;33m,\u001b[0m\u001b[1;33m\u001b[0m\u001b[1;33m\u001b[0m\u001b[0m\n\u001b[0;32m    704\u001b[0m                 \u001b[0mioargs\u001b[0m\u001b[1;33m.\u001b[0m\u001b[0mmode\u001b[0m\u001b[1;33m,\u001b[0m\u001b[1;33m\u001b[0m\u001b[1;33m\u001b[0m\u001b[0m\n",
      "\u001b[1;31mFileNotFoundError\u001b[0m: [Errno 2] No such file or directory: 'C:/Users/ly264/Desktop/CSE151b_final_project/sample_submission.csv'"
     ]
    }
   ],
   "source": [
    "df = pd.read_csv('C:/Users/ly264/Desktop/CSE151b_final_project/sample_submission.csv')"
   ]
  },
  {
   "cell_type": "code",
   "execution_count": 244,
   "id": "240e24e4",
   "metadata": {},
   "outputs": [
    {
     "data": {
      "text/html": [
       "<div>\n",
       "<style scoped>\n",
       "    .dataframe tbody tr th:only-of-type {\n",
       "        vertical-align: middle;\n",
       "    }\n",
       "\n",
       "    .dataframe tbody tr th {\n",
       "        vertical-align: top;\n",
       "    }\n",
       "\n",
       "    .dataframe thead th {\n",
       "        text-align: right;\n",
       "    }\n",
       "</style>\n",
       "<table border=\"1\" class=\"dataframe\">\n",
       "  <thead>\n",
       "    <tr style=\"text-align: right;\">\n",
       "      <th></th>\n",
       "      <th>v0</th>\n",
       "      <th>v1</th>\n",
       "      <th>v2</th>\n",
       "      <th>v3</th>\n",
       "      <th>v4</th>\n",
       "      <th>v5</th>\n",
       "      <th>v6</th>\n",
       "      <th>v7</th>\n",
       "      <th>v8</th>\n",
       "      <th>v9</th>\n",
       "      <th>...</th>\n",
       "      <th>v110</th>\n",
       "      <th>v111</th>\n",
       "      <th>v112</th>\n",
       "      <th>v113</th>\n",
       "      <th>v114</th>\n",
       "      <th>v115</th>\n",
       "      <th>v116</th>\n",
       "      <th>v117</th>\n",
       "      <th>v118</th>\n",
       "      <th>v119</th>\n",
       "    </tr>\n",
       "  </thead>\n",
       "  <tbody>\n",
       "    <tr>\n",
       "      <th>0</th>\n",
       "      <td>0</td>\n",
       "      <td>0</td>\n",
       "      <td>0</td>\n",
       "      <td>0</td>\n",
       "      <td>0</td>\n",
       "      <td>0</td>\n",
       "      <td>0</td>\n",
       "      <td>0</td>\n",
       "      <td>0</td>\n",
       "      <td>0</td>\n",
       "      <td>...</td>\n",
       "      <td>0</td>\n",
       "      <td>0</td>\n",
       "      <td>0</td>\n",
       "      <td>0</td>\n",
       "      <td>0</td>\n",
       "      <td>0</td>\n",
       "      <td>0</td>\n",
       "      <td>0</td>\n",
       "      <td>0</td>\n",
       "      <td>0</td>\n",
       "    </tr>\n",
       "    <tr>\n",
       "      <th>1</th>\n",
       "      <td>0</td>\n",
       "      <td>0</td>\n",
       "      <td>0</td>\n",
       "      <td>0</td>\n",
       "      <td>0</td>\n",
       "      <td>0</td>\n",
       "      <td>0</td>\n",
       "      <td>0</td>\n",
       "      <td>0</td>\n",
       "      <td>0</td>\n",
       "      <td>...</td>\n",
       "      <td>0</td>\n",
       "      <td>0</td>\n",
       "      <td>0</td>\n",
       "      <td>0</td>\n",
       "      <td>0</td>\n",
       "      <td>0</td>\n",
       "      <td>0</td>\n",
       "      <td>0</td>\n",
       "      <td>0</td>\n",
       "      <td>0</td>\n",
       "    </tr>\n",
       "    <tr>\n",
       "      <th>2</th>\n",
       "      <td>0</td>\n",
       "      <td>0</td>\n",
       "      <td>0</td>\n",
       "      <td>0</td>\n",
       "      <td>0</td>\n",
       "      <td>0</td>\n",
       "      <td>0</td>\n",
       "      <td>0</td>\n",
       "      <td>0</td>\n",
       "      <td>0</td>\n",
       "      <td>...</td>\n",
       "      <td>0</td>\n",
       "      <td>0</td>\n",
       "      <td>0</td>\n",
       "      <td>0</td>\n",
       "      <td>0</td>\n",
       "      <td>0</td>\n",
       "      <td>0</td>\n",
       "      <td>0</td>\n",
       "      <td>0</td>\n",
       "      <td>0</td>\n",
       "    </tr>\n",
       "    <tr>\n",
       "      <th>3</th>\n",
       "      <td>0</td>\n",
       "      <td>0</td>\n",
       "      <td>0</td>\n",
       "      <td>0</td>\n",
       "      <td>0</td>\n",
       "      <td>0</td>\n",
       "      <td>0</td>\n",
       "      <td>0</td>\n",
       "      <td>0</td>\n",
       "      <td>0</td>\n",
       "      <td>...</td>\n",
       "      <td>0</td>\n",
       "      <td>0</td>\n",
       "      <td>0</td>\n",
       "      <td>0</td>\n",
       "      <td>0</td>\n",
       "      <td>0</td>\n",
       "      <td>0</td>\n",
       "      <td>0</td>\n",
       "      <td>0</td>\n",
       "      <td>0</td>\n",
       "    </tr>\n",
       "    <tr>\n",
       "      <th>4</th>\n",
       "      <td>0</td>\n",
       "      <td>0</td>\n",
       "      <td>0</td>\n",
       "      <td>0</td>\n",
       "      <td>0</td>\n",
       "      <td>0</td>\n",
       "      <td>0</td>\n",
       "      <td>0</td>\n",
       "      <td>0</td>\n",
       "      <td>0</td>\n",
       "      <td>...</td>\n",
       "      <td>0</td>\n",
       "      <td>0</td>\n",
       "      <td>0</td>\n",
       "      <td>0</td>\n",
       "      <td>0</td>\n",
       "      <td>0</td>\n",
       "      <td>0</td>\n",
       "      <td>0</td>\n",
       "      <td>0</td>\n",
       "      <td>0</td>\n",
       "    </tr>\n",
       "    <tr>\n",
       "      <th>...</th>\n",
       "      <td>...</td>\n",
       "      <td>...</td>\n",
       "      <td>...</td>\n",
       "      <td>...</td>\n",
       "      <td>...</td>\n",
       "      <td>...</td>\n",
       "      <td>...</td>\n",
       "      <td>...</td>\n",
       "      <td>...</td>\n",
       "      <td>...</td>\n",
       "      <td>...</td>\n",
       "      <td>...</td>\n",
       "      <td>...</td>\n",
       "      <td>...</td>\n",
       "      <td>...</td>\n",
       "      <td>...</td>\n",
       "      <td>...</td>\n",
       "      <td>...</td>\n",
       "      <td>...</td>\n",
       "      <td>...</td>\n",
       "      <td>...</td>\n",
       "    </tr>\n",
       "    <tr>\n",
       "      <th>29838</th>\n",
       "      <td>0</td>\n",
       "      <td>0</td>\n",
       "      <td>0</td>\n",
       "      <td>0</td>\n",
       "      <td>0</td>\n",
       "      <td>0</td>\n",
       "      <td>0</td>\n",
       "      <td>0</td>\n",
       "      <td>0</td>\n",
       "      <td>0</td>\n",
       "      <td>...</td>\n",
       "      <td>0</td>\n",
       "      <td>0</td>\n",
       "      <td>0</td>\n",
       "      <td>0</td>\n",
       "      <td>0</td>\n",
       "      <td>0</td>\n",
       "      <td>0</td>\n",
       "      <td>0</td>\n",
       "      <td>0</td>\n",
       "      <td>0</td>\n",
       "    </tr>\n",
       "    <tr>\n",
       "      <th>29839</th>\n",
       "      <td>0</td>\n",
       "      <td>0</td>\n",
       "      <td>0</td>\n",
       "      <td>0</td>\n",
       "      <td>0</td>\n",
       "      <td>0</td>\n",
       "      <td>0</td>\n",
       "      <td>0</td>\n",
       "      <td>0</td>\n",
       "      <td>0</td>\n",
       "      <td>...</td>\n",
       "      <td>0</td>\n",
       "      <td>0</td>\n",
       "      <td>0</td>\n",
       "      <td>0</td>\n",
       "      <td>0</td>\n",
       "      <td>0</td>\n",
       "      <td>0</td>\n",
       "      <td>0</td>\n",
       "      <td>0</td>\n",
       "      <td>0</td>\n",
       "    </tr>\n",
       "    <tr>\n",
       "      <th>29840</th>\n",
       "      <td>0</td>\n",
       "      <td>0</td>\n",
       "      <td>0</td>\n",
       "      <td>0</td>\n",
       "      <td>0</td>\n",
       "      <td>0</td>\n",
       "      <td>0</td>\n",
       "      <td>0</td>\n",
       "      <td>0</td>\n",
       "      <td>0</td>\n",
       "      <td>...</td>\n",
       "      <td>0</td>\n",
       "      <td>0</td>\n",
       "      <td>0</td>\n",
       "      <td>0</td>\n",
       "      <td>0</td>\n",
       "      <td>0</td>\n",
       "      <td>0</td>\n",
       "      <td>0</td>\n",
       "      <td>0</td>\n",
       "      <td>0</td>\n",
       "    </tr>\n",
       "    <tr>\n",
       "      <th>29841</th>\n",
       "      <td>0</td>\n",
       "      <td>0</td>\n",
       "      <td>0</td>\n",
       "      <td>0</td>\n",
       "      <td>0</td>\n",
       "      <td>0</td>\n",
       "      <td>0</td>\n",
       "      <td>0</td>\n",
       "      <td>0</td>\n",
       "      <td>0</td>\n",
       "      <td>...</td>\n",
       "      <td>0</td>\n",
       "      <td>0</td>\n",
       "      <td>0</td>\n",
       "      <td>0</td>\n",
       "      <td>0</td>\n",
       "      <td>0</td>\n",
       "      <td>0</td>\n",
       "      <td>0</td>\n",
       "      <td>0</td>\n",
       "      <td>0</td>\n",
       "    </tr>\n",
       "    <tr>\n",
       "      <th>29842</th>\n",
       "      <td>0</td>\n",
       "      <td>0</td>\n",
       "      <td>0</td>\n",
       "      <td>0</td>\n",
       "      <td>0</td>\n",
       "      <td>0</td>\n",
       "      <td>0</td>\n",
       "      <td>0</td>\n",
       "      <td>0</td>\n",
       "      <td>0</td>\n",
       "      <td>...</td>\n",
       "      <td>0</td>\n",
       "      <td>0</td>\n",
       "      <td>0</td>\n",
       "      <td>0</td>\n",
       "      <td>0</td>\n",
       "      <td>0</td>\n",
       "      <td>0</td>\n",
       "      <td>0</td>\n",
       "      <td>0</td>\n",
       "      <td>0</td>\n",
       "    </tr>\n",
       "  </tbody>\n",
       "</table>\n",
       "<p>29843 rows × 120 columns</p>\n",
       "</div>"
      ],
      "text/plain": [
       "       v0  v1  v2  v3  v4  v5  v6  v7  v8  v9  ...  v110  v111  v112  v113  \\\n",
       "0       0   0   0   0   0   0   0   0   0   0  ...     0     0     0     0   \n",
       "1       0   0   0   0   0   0   0   0   0   0  ...     0     0     0     0   \n",
       "2       0   0   0   0   0   0   0   0   0   0  ...     0     0     0     0   \n",
       "3       0   0   0   0   0   0   0   0   0   0  ...     0     0     0     0   \n",
       "4       0   0   0   0   0   0   0   0   0   0  ...     0     0     0     0   \n",
       "...    ..  ..  ..  ..  ..  ..  ..  ..  ..  ..  ...   ...   ...   ...   ...   \n",
       "29838   0   0   0   0   0   0   0   0   0   0  ...     0     0     0     0   \n",
       "29839   0   0   0   0   0   0   0   0   0   0  ...     0     0     0     0   \n",
       "29840   0   0   0   0   0   0   0   0   0   0  ...     0     0     0     0   \n",
       "29841   0   0   0   0   0   0   0   0   0   0  ...     0     0     0     0   \n",
       "29842   0   0   0   0   0   0   0   0   0   0  ...     0     0     0     0   \n",
       "\n",
       "       v114  v115  v116  v117  v118  v119  \n",
       "0         0     0     0     0     0     0  \n",
       "1         0     0     0     0     0     0  \n",
       "2         0     0     0     0     0     0  \n",
       "3         0     0     0     0     0     0  \n",
       "4         0     0     0     0     0     0  \n",
       "...     ...   ...   ...   ...   ...   ...  \n",
       "29838     0     0     0     0     0     0  \n",
       "29839     0     0     0     0     0     0  \n",
       "29840     0     0     0     0     0     0  \n",
       "29841     0     0     0     0     0     0  \n",
       "29842     0     0     0     0     0     0  \n",
       "\n",
       "[29843 rows x 120 columns]"
      ]
     },
     "execution_count": 244,
     "metadata": {},
     "output_type": "execute_result"
    }
   ],
   "source": [
    "final"
   ]
  },
  {
   "cell_type": "code",
   "execution_count": 176,
   "id": "bca8e305",
   "metadata": {},
   "outputs": [
    {
     "data": {
      "text/plain": [
       "<function matplotlib.pyplot.show(close=None, block=None)>"
      ]
     },
     "execution_count": 176,
     "metadata": {},
     "output_type": "execute_result"
    },
    {
     "data": {
      "image/png": "[encoded data removed]",
      "text/plain": [
       "<Figure size 432x288 with 1 Axes>"
      ]
     },
     "metadata": {
      "needs_background": "light"
     },
     "output_type": "display_data"
    }
   ],
   "source": [
    "import matplotlib.pyplot as plt\n",
    "y_show = y[677]\n",
    "x_res = []\n",
    "y_res = []\n",
    "for i in range(0,120,2):\n",
    "    x_res.append(y_show[i])\n",
    "    y_res.append(y_show[i+1])\n",
    "plt.scatter(x_res, y_res)\n",
    "plt.show\n"
   ]
  },
  {
   "cell_type": "code",
   "execution_count": 249,
   "id": "83f44d90",
   "metadata": {},
   "outputs": [
    {
     "data": {
      "text/plain": [
       "MLPRegressor(alpha=0.001, hidden_layer_sizes=(32, 64, 64, 128),\n",
       "             learning_rate='adaptive', max_iter=400)"
      ]
     },
     "execution_count": 249,
     "metadata": {},
     "output_type": "execute_result"
    }
   ],
   "source": [
    "    #get data ready for this city\n",
    "    train_dataset = ArgoverseDataset(\"austin\", split = \"train\")\n",
    "    output = [d[1].flatten() for d in train_dataset]\n",
    "    in_put = [d[0].flatten() for d in train_dataset]\n",
    "    \n",
    "    #train the model for this city\n",
    "    model = MLPRegressor(activation=\"relu\", solver=\"adam\", early_stopping=False,\n",
    "    learning_rate=\"adaptive\", max_iter=400,alpha=0.001,hidden_layer_sizes = (32,64,64,128))\n",
    "    \n",
    "    model.fit(in_put,output)\n",
    "    \n",
    "\n",
    "    "
   ]
  },
  {
   "cell_type": "code",
   "execution_count": 33,
   "id": "d1551046",
   "metadata": {},
   "outputs": [],
   "source": [
    "import matplotlib.pyplot as plt"
   ]
  },
  {
   "cell_type": "code",
   "execution_count": 36,
   "id": "236d1315",
   "metadata": {},
   "outputs": [],
   "source": [
    "li = np.log((model.loss_curve_))"
   ]
  },
  {
   "cell_type": "code",
   "execution_count": 37,
   "id": "c4d90d37",
   "metadata": {},
   "outputs": [
    {
     "data": {
      "text/plain": [
       "[<matplotlib.lines.Line2D at 0x173020d7d30>]"
      ]
     },
     "execution_count": 37,
     "metadata": {},
     "output_type": "execute_result"
    },
    {
     "data": {
      "image/png": "[encoded data removed]",
      "text/plain": [
       "<Figure size 432x288 with 1 Axes>"
      ]
     },
     "metadata": {
      "needs_background": "light"
     },
     "output_type": "display_data"
    }
   ],
   "source": [
    "plt.plot(li)"
   ]
  },
  {
   "cell_type": "code",
   "execution_count": null,
   "id": "c34770f1",
   "metadata": {},
   "outputs": [],
   "source": []
  }
 ],
 "metadata": {
  "kernelspec": {
   "display_name": "Python 3 (ipykernel)",
   "language": "python",
   "name": "python3"
  },
  "language_info": {
   "codemirror_mode": {
    "name": "ipython",
    "version": 3
   },
   "file_extension": ".py",
   "mimetype": "text/x-python",
   "name": "python",
   "nbconvert_exporter": "python",
   "pygments_lexer": "ipython3",
   "version": "3.9.12"
  }
 },
 "nbformat": 4,
 "nbformat_minor": 5
}
