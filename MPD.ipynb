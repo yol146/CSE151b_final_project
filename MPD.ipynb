{
 "cells": [
  {
   "cell_type": "markdown",
   "id": "718c38cf",
   "metadata": {},
   "source": [
    "## Install the package dependencies before running this notebook"
   ]
  },
  {
   "cell_type": "code",
   "execution_count": 1,
   "id": "16ac7530",
   "metadata": {},
   "outputs": [
    {
     "data": {
      "text/plain": [
       "'\\n    number of trajectories in each city\\n    # austin --  train: 43041 test: 6325 \\n    # miami -- train: 55029 test:7971\\n    # pittsburgh -- train: 43544 test: 6361\\n    # dearborn -- train: 24465 test: 3671\\n    # washington-dc -- train: 25744 test: 3829\\n    # palo-alto -- train:  11993 test:1686\\n\\n    trajectories sampled at 10HZ rate, input 5 seconds, output 6 seconds\\n    \\n'"
      ]
     },
     "execution_count": 1,
     "metadata": {},
     "output_type": "execute_result"
    }
   ],
   "source": [
    "import torch\n",
    "from torch.utils.data import Dataset, DataLoader\n",
    "import os, os.path \n",
    "import numpy \n",
    "import pickle\n",
    "from glob import glob\n",
    "# Get the device\n",
    "if (torch.cuda.is_available()):\n",
    "    device = torch.device(\"cuda:0\")\n",
    "else:\n",
    "    device = torch.device(\"cpu\")\n",
    "\n",
    "\n",
    "\"\"\"\n",
    "    number of trajectories in each city\n",
    "    # austin --  train: 43041 test: 6325 \n",
    "    # miami -- train: 55029 test:7971\n",
    "    # pittsburgh -- train: 43544 test: 6361\n",
    "    # dearborn -- train: 24465 test: 3671\n",
    "    # washington-dc -- train: 25744 test: 3829\n",
    "    # palo-alto -- train:  11993 test:1686\n",
    "\n",
    "    trajectories sampled at 10HZ rate, input 5 seconds, output 6 seconds\n",
    "    \n",
    "\"\"\""
   ]
  },
  {
   "cell_type": "markdown",
   "id": "0b472cf2",
   "metadata": {},
   "source": [
    "## Create a Torch.Dataset class for the training dataset"
   ]
  },
  {
   "cell_type": "code",
   "execution_count": null,
   "id": "958bf63d",
   "metadata": {},
   "outputs": [],
   "source": []
  },
  {
   "cell_type": "code",
   "execution_count": 2,
   "id": "091abbb7",
   "metadata": {
    "scrolled": false
   },
   "outputs": [],
   "source": [
    "from glob import glob\n",
    "import pickle\n",
    "import numpy as np\n",
    "\n",
    "ROOT_PATH = \"./\"\n",
    "\n",
    "cities = [\"austin\", \"miami\", \"pittsburgh\", \"dearborn\", \"washington-dc\", \"palo-alto\"]\n",
    "splits = [\"train\", \"test\"]\n",
    "\n",
    "# # intialize a dataset\n",
    "city = 'palo-alto' \n",
    "split = 'train'\n",
    "\n",
    "def get_city_trajectories(city=\"palo-alto\", split=\"train\", normalized=False):\n",
    "\n",
    "    \n",
    "    outputs = None\n",
    "    \n",
    "    if split==\"train\":\n",
    "        f_in = ROOT_PATH + split + \"/\" + city + \"_inputs\"\n",
    "        inputs = pickle.load(open(f_in, \"rb\"))\n",
    "        n = len(inputs)\n",
    "        inputs = np.asarray(inputs)[:int(n * 0.8)]\n",
    "        \n",
    "        f_out = ROOT_PATH + split + \"/\" + city + \"_outputs\"\n",
    "        outputs = pickle.load(open(f_out, \"rb\"))\n",
    "        outputs = np.asarray(outputs)[:int(n * 0.8)]\n",
    "        \n",
    "    elif split == 'val':\n",
    "        f_in = ROOT_PATH + 'train' + \"/\" + city + \"_inputs\"\n",
    "        inputs = pickle.load(open(f_in, \"rb\"))\n",
    "        n = len(inputs)\n",
    "        inputs = np.asarray(inputs)[int(n * 0.8):]\n",
    "        \n",
    "        f_out = ROOT_PATH + 'train' + \"/\" + city + \"_outputs\"\n",
    "        outputs = pickle.load(open(f_out, \"rb\"))\n",
    "        outputs = np.asarray(outputs)[int(n * 0.8):]\n",
    "    \n",
    "    else:\n",
    "        f_in = ROOT_PATH + split + \"/\" + city + \"_inputs\"\n",
    "        inputs = pickle.load(open(f_in, \"rb\"))\n",
    "        n = len(inputs)\n",
    "        inputs = np.asarray(inputs)\n",
    "\n",
    "    return inputs, outputs\n",
    "\n",
    "class ArgoverseDataset(Dataset):\n",
    "    \"\"\"Dataset class for Argoverse\"\"\"\n",
    "    def __init__(self, city: str, split:str, transform=None):\n",
    "        super(ArgoverseDataset, self).__init__()\n",
    "        self.transform = transform\n",
    "\n",
    "        self.inputs, self.outputs = get_city_trajectories(city=city, split=split, normalized=False)\n",
    "\n",
    "    def __len__(self):\n",
    "        return len(self.inputs)\n",
    "\n",
    "    def __getitem__(self, idx):\n",
    "        \n",
    "#         tensor = torch.Tensor(self.feature[item])\n",
    "#         tensorlabel = torch.Tensor(self.label[item])\n",
    "#         return tensor.to(device), tensorlabel.to(device)\n",
    "\n",
    "        data = np.concatenate((self.inputs[idx], self.outputs[idx]))\n",
    "            \n",
    "        if self.transform:\n",
    "            data = self.transform(data)\n",
    "\n",
    "        return torch.Tensor(data).to(device)\n",
    "    \n",
    "\n",
    "# process data\n",
    "inputs, outputs = get_city_trajectories(city=city, split=split, normalized=False)\n",
    "all_in_1 = []\n",
    "for i in range(len(inputs)):\n",
    "    togetherData = np.concatenate((inputs[i], outputs[i]))\n",
    "    all_in_1.append(togetherData)\n",
    "\n",
    "\n",
    "training_set_x = []\n",
    "training_set_y = []\n",
    "# every sentence has length 40, with the 41st character as target value\n",
    "# set range step higher if overfit\n",
    "for i, elem in enumerate(all_in_1):\n",
    "    for j in range(0, 60):\n",
    "        training_set_x.append(elem[j:j+50])\n",
    "        training_set_y.append(elem[j+50])\n",
    "    \n",
    "    #   x: sentence (substring [:k], k is EXCLUSIVE)\n",
    "#         training_set_x.append(all_in_1[i:i+40])\n",
    "#     #   y: target value\n",
    "#         training_set_y.append(all_in_1[i+40])\n",
    "    \n",
    "    \n",
    "class mydataset(Dataset):\n",
    "    def __init__(self, x, y):\n",
    "        \n",
    "        self.feature = x\n",
    "        self.label = y\n",
    "        \n",
    "    def __getitem__(self, item):\n",
    "        \n",
    "        tensor = torch.Tensor(self.feature[item])\n",
    "        tensorlabel = torch.Tensor(self.label[item])\n",
    "        return tensor.to(device), tensorlabel.to(device)\n",
    "    \n",
    "    def __len__(self):\n",
    "        return len(self.feature)\n",
    "\n",
    "train_dataset = mydataset(training_set_x, training_set_y)\n",
    "    \n",
    "\n",
    "# train_dataset  = ArgoverseDataset(city = city, split = split)"
   ]
  },
  {
   "cell_type": "code",
   "execution_count": 3,
   "id": "6d0d4011",
   "metadata": {},
   "outputs": [],
   "source": [
    "inputs, outputs = get_city_trajectories(city=city, split='val', normalized=False)\n",
    "val_in_1 = []\n",
    "for i in range(len(inputs)):\n",
    "    togetherData = np.concatenate((inputs[i], outputs[i]))\n",
    "    val_in_1.append(togetherData)\n",
    "\n",
    "\n",
    "val_set_x = []\n",
    "val_set_y = []\n",
    "# every sentence has length 40, with the 41st character as target value\n",
    "# set range step higher if overfit\n",
    "for i, elem in enumerate(val_in_1):\n",
    "    for j in range(0, 60):\n",
    "        val_set_x.append(elem[j:j+50])\n",
    "        val_set_y.append(elem[j+50])\n",
    "val_dataset = mydataset(val_set_x, val_set_y)        "
   ]
  },
  {
   "cell_type": "code",
   "execution_count": 4,
   "id": "5a174510",
   "metadata": {},
   "outputs": [],
   "source": [
    "# val_dataset = ArgoverseDataset(city = city, split = 'val')"
   ]
  },
  {
   "cell_type": "code",
   "execution_count": 20,
   "id": "7a44d7ea",
   "metadata": {},
   "outputs": [
    {
     "name": "stdout",
     "output_type": "stream",
     "text": [
      "2399\n"
     ]
    }
   ],
   "source": [
    "# len(val_dataset)\n",
    "# print(len(val_dataset))\n",
    "print (len(all_in_1))"
   ]
  },
  {
   "cell_type": "markdown",
   "id": "058453cc",
   "metadata": {},
   "source": [
    "## Create a DataLoader class for training"
   ]
  },
  {
   "cell_type": "code",
   "execution_count": 6,
   "id": "5c14f0e7",
   "metadata": {},
   "outputs": [],
   "source": [
    "batch_sz = 64  # batch size \n",
    "train_loader = DataLoader(train_dataset,batch_size=batch_sz, shuffle = True)\n",
    "test_loader = DataLoader(val_dataset, batch_size=batch_sz, shuffle = True)"
   ]
  },
  {
   "cell_type": "code",
   "execution_count": 7,
   "id": "ee5b7ae0",
   "metadata": {},
   "outputs": [],
   "source": [
    "from torch import nn, optim\n",
    "\n",
    "class LSTMModel(nn.Module):\n",
    "    def __init__(self, input_dim, hidden_dim, layer_dim, output_dim):\n",
    "        super(LSTMModel, self).__init__()\n",
    "        #Hidden dimensions\n",
    "        self.hidden_dim = hidden_dim\n",
    "        \n",
    "        #Number of hidden layers\n",
    "        self.layer_dim = layer_dim\n",
    "        \n",
    "        #imput dim\n",
    "        self.input_dim = input_dim\n",
    "        \n",
    "        \n",
    "        #Building your LSTM\n",
    "        #batch_first=True causes input/output tensors to be of shape\n",
    "        #(batch_dim, seq_dim, feature_dim)\n",
    "        self.lstm = nn.LSTM(input_dim, hidden_dim, layer_dim, batch_first=True)\n",
    "        \n",
    "        #Readout layer\n",
    "        self.fc = nn.Linear (hidden_dim, output_dim)\n",
    "        \n",
    "#         self.Softmax = nn.Softmax(dim=1)\n",
    "        \n",
    "    def forward(self, x):\n",
    "        #Initialize hidden state with zeros\n",
    "        h0 = torch.zeros(self.layer_dim, x.size(0), self.hidden_dim).requires_grad_().to(device)\n",
    "#         print(\"h0 dtype: \", h0.dtype)\n",
    "        \n",
    "        #Initialize cell state\n",
    "        c0 = torch.zeros(self.layer_dim, x.size(0), self.hidden_dim).requires_grad_().to(device)\n",
    "        \n",
    "        \n",
    "        #Output channel\n",
    "#         output, (hn, cn) = self.lstm(x, (h0, c0))\n",
    "        output, (hn, cn) = self.lstm(x, (h0.detach(), c0.detach()))\n",
    "        hn = hn.view(-1,self.hidden_dim)\n",
    "        out = self.fc(hn)\n",
    "        \n",
    "#         out = output.view(-1,self.hidden_dim)\n",
    "#         out = self.fc(out)\n",
    "\n",
    "#         output, state = self.lstm(x, prev_state)\n",
    "#         output = output.type(torch.LongTensor)\n",
    "#         output = output.to(device)\n",
    "#         out = self.Softmax(out)\n",
    "        \n",
    "        return out\n",
    "    \n",
    "#     def init_state(self, sequence_length):\n",
    "#         return (torch.zeros(self.layer_dim, sequence_length, self.input_dim),\n",
    "#                 torch.zeros(self.layer_dim, sequence_length, self.input_dim))"
   ]
  },
  {
   "cell_type": "code",
   "execution_count": 8,
   "id": "140be148",
   "metadata": {},
   "outputs": [
    {
     "name": "stdout",
     "output_type": "stream",
     "text": [
      "cuda:0 \n",
      " LSTMModel(\n",
      "  (lstm): LSTM(2, 150, batch_first=True)\n",
      "  (fc): Linear(in_features=150, out_features=2, bias=True)\n",
      ")\n"
     ]
    }
   ],
   "source": [
    "# epochs\n",
    "epochs = 50\n",
    "input_dim = 2\n",
    "hidden_dim = 150\n",
    "layer_count = 1\n",
    "output_dim = 2\n",
    "\n",
    "lstm = LSTMModel(input_dim, hidden_dim, layer_count, output_dim).to(device)\n",
    "print(device, \"\\n\", lstm)"
   ]
  },
  {
   "cell_type": "code",
   "execution_count": 9,
   "id": "adbc1d90",
   "metadata": {},
   "outputs": [],
   "source": [
    "# pred = Pred()\n",
    "# opt = optim.Adam(lstm.parameters(), lr=1e-3)"
   ]
  },
  {
   "cell_type": "code",
   "execution_count": 10,
   "id": "e98b6af0",
   "metadata": {},
   "outputs": [
    {
     "name": "stdout",
     "output_type": "stream",
     "text": [
      "lstm.weight_ih_l0 torch.Size([600, 2])\n",
      "lstm.weight_hh_l0 torch.Size([600, 150])\n",
      "lstm.bias_ih_l0 torch.Size([600])\n",
      "lstm.bias_hh_l0 torch.Size([600])\n",
      "fc.weight torch.Size([2, 150])\n",
      "fc.bias torch.Size([2])\n"
     ]
    }
   ],
   "source": [
    "# define hyper parameters\n",
    "learning_rate = 0.0005\n",
    "# loss = nn.CrossEntropyLoss()\n",
    "loss = nn.MSELoss()\n",
    "optimizer = torch.optim.Adam(lstm.parameters(), lr=learning_rate)\n",
    "\n",
    "# visualize the inner data shape\n",
    "for name, param in lstm.named_parameters():\n",
    "    if param.requires_grad:\n",
    "        print (name, param.data.shape)"
   ]
  },
  {
   "cell_type": "code",
   "execution_count": 11,
   "id": "e3625622",
   "metadata": {},
   "outputs": [],
   "source": [
    "import time\n",
    "lossArr = []\n",
    "# tranining function\n",
    "def train(dataloader, model):\n",
    "#     enable gradients\n",
    "    model.train()\n",
    "    print(\"Begin time: \", time.ctime())\n",
    "    for epoch in range(epochs):\n",
    "#         sh, sc = model.init_state(sequence_length)\n",
    "        totalLoss = 0\n",
    "        for batch , (x,y) in enumerate(dataloader):\n",
    "            optimizer.zero_grad()\n",
    "    #         print(\"shape of x: \", x.shape)\n",
    "            pred = model(x)\n",
    "#             print(pred)\n",
    "            trainLoss = loss(pred, y)\n",
    "            totalLoss += trainLoss.item()\n",
    "#             print(trainLoss)\n",
    "#             sh = sh.detach()\n",
    "#             sc = sc.detach()\n",
    "            trainLoss.backward()\n",
    "            optimizer.step()\n",
    "        lossArr.append(totalLoss)\n",
    "        print(\"Time: \", time.ctime() , \"epoch: \", epoch, \"loss: \", totalLoss)"
   ]
  },
  {
   "cell_type": "code",
   "execution_count": 12,
   "id": "d3b3e982",
   "metadata": {
    "scrolled": true
   },
   "outputs": [
    {
     "name": "stdout",
     "output_type": "stream",
     "text": [
      "Begin time:  Sat May 21 17:05:24 2022\n",
      "Time:  Sat May 21 17:06:33 2022 epoch:  0 loss:  15566894360.4375\n",
      "Time:  Sat May 21 17:07:44 2022 epoch:  1 loss:  8856901147.84375\n",
      "Time:  Sat May 21 17:08:53 2022 epoch:  2 loss:  5398076170.921875\n",
      "Time:  Sat May 21 17:10:00 2022 epoch:  3 loss:  2959249074.8828125\n",
      "Time:  Sat May 21 17:11:07 2022 epoch:  4 loss:  1508800161.0488281\n",
      "Time:  Sat May 21 17:12:13 2022 epoch:  5 loss:  1516249596.9902344\n",
      "Time:  Sat May 21 17:13:20 2022 epoch:  6 loss:  482635978.9794922\n",
      "Time:  Sat May 21 17:14:26 2022 epoch:  7 loss:  247351729.56982422\n",
      "Time:  Sat May 21 17:15:32 2022 epoch:  8 loss:  155523132.82470703\n",
      "Time:  Sat May 21 17:16:39 2022 epoch:  9 loss:  106082546.14141846\n",
      "Time:  Sat May 21 17:17:46 2022 epoch:  10 loss:  101761618.34875488\n",
      "Time:  Sat May 21 17:18:54 2022 epoch:  11 loss:  74018813.47271729\n",
      "Time:  Sat May 21 17:20:00 2022 epoch:  12 loss:  51057703.50323486\n",
      "Time:  Sat May 21 17:21:08 2022 epoch:  13 loss:  43784592.568115234\n",
      "Time:  Sat May 21 17:22:15 2022 epoch:  14 loss:  40467448.499694824\n",
      "Time:  Sat May 21 17:23:25 2022 epoch:  15 loss:  45851044.7321167\n",
      "Time:  Sat May 21 17:24:31 2022 epoch:  16 loss:  33422686.476776123\n",
      "Time:  Sat May 21 17:25:37 2022 epoch:  17 loss:  29937957.868103027\n",
      "Time:  Sat May 21 17:26:44 2022 epoch:  18 loss:  32462671.3079834\n",
      "Time:  Sat May 21 17:27:55 2022 epoch:  19 loss:  34385635.99938965\n",
      "Time:  Sat May 21 17:29:04 2022 epoch:  20 loss:  27274769.157928467\n",
      "Time:  Sat May 21 17:30:13 2022 epoch:  21 loss:  26821790.378082275\n",
      "Time:  Sat May 21 17:31:20 2022 epoch:  22 loss:  21050831.90274048\n",
      "Time:  Sat May 21 17:32:27 2022 epoch:  23 loss:  22583636.43057251\n",
      "Time:  Sat May 21 17:33:34 2022 epoch:  24 loss:  19316743.278533936\n",
      "Time:  Sat May 21 17:34:42 2022 epoch:  25 loss:  19616171.744903564\n",
      "Time:  Sat May 21 17:35:49 2022 epoch:  26 loss:  15416653.884368896\n",
      "Time:  Sat May 21 17:37:00 2022 epoch:  27 loss:  13655797.465881348\n",
      "Time:  Sat May 21 17:38:11 2022 epoch:  28 loss:  15482888.404937744\n",
      "Time:  Sat May 21 17:39:22 2022 epoch:  29 loss:  14781856.962974548\n",
      "Time:  Sat May 21 17:40:31 2022 epoch:  30 loss:  15093929.696044922\n",
      "Time:  Sat May 21 17:41:37 2022 epoch:  31 loss:  11203468.35571289\n",
      "Time:  Sat May 21 17:42:43 2022 epoch:  32 loss:  16356138.260604858\n",
      "Time:  Sat May 21 17:43:49 2022 epoch:  33 loss:  10535341.078689575\n",
      "Time:  Sat May 21 17:44:55 2022 epoch:  34 loss:  11400638.139572144\n",
      "Time:  Sat May 21 17:46:02 2022 epoch:  35 loss:  10536377.229949951\n",
      "Time:  Sat May 21 17:47:07 2022 epoch:  36 loss:  10117714.868339539\n",
      "Time:  Sat May 21 17:48:12 2022 epoch:  37 loss:  10456040.822998047\n",
      "Time:  Sat May 21 17:49:18 2022 epoch:  38 loss:  14706444.364990234\n",
      "Time:  Sat May 21 17:50:23 2022 epoch:  39 loss:  9487033.490844727\n",
      "Time:  Sat May 21 17:51:27 2022 epoch:  40 loss:  7426862.9779548645\n",
      "Time:  Sat May 21 17:52:31 2022 epoch:  41 loss:  7591017.972919464\n",
      "Time:  Sat May 21 17:53:36 2022 epoch:  42 loss:  6641287.097976685\n",
      "Time:  Sat May 21 17:54:41 2022 epoch:  43 loss:  10488914.469738007\n",
      "Time:  Sat May 21 17:55:45 2022 epoch:  44 loss:  5948905.426815033\n",
      "Time:  Sat May 21 17:56:50 2022 epoch:  45 loss:  5793619.302112579\n",
      "Time:  Sat May 21 17:57:55 2022 epoch:  46 loss:  9147657.064289093\n",
      "Time:  Sat May 21 17:58:59 2022 epoch:  47 loss:  11012232.150527954\n",
      "Time:  Sat May 21 18:00:04 2022 epoch:  48 loss:  12701190.434440613\n",
      "Time:  Sat May 21 18:01:08 2022 epoch:  49 loss:  11136742.914440155\n"
     ]
    }
   ],
   "source": [
    "train(train_loader, lstm)"
   ]
  },
  {
   "cell_type": "code",
   "execution_count": 13,
   "id": "0dd26999",
   "metadata": {},
   "outputs": [],
   "source": [
    "# save the trained model\n",
    "torch.save(lstm.state_dict(), \"./wmap/trained_lstm\" + \"_lr%s_epoch%d_hd%d\" % (str(learning_rate), epochs, hidden_dim))\n",
    "# load the trained model\n",
    "# lstm.load_state_dict(torch.load(\"trained_lstm_lr0.0005_epoch200_hd150\"))\n"
   ]
  },
  {
   "cell_type": "code",
   "execution_count": 15,
   "id": "5b0d0969",
   "metadata": {},
   "outputs": [
    {
     "data": {
      "image/png": "[encoded data removed]",
      "text/plain": [
       "<Figure size 432x288 with 1 Axes>"
      ]
     },
     "metadata": {
      "needs_background": "light"
     },
     "output_type": "display_data"
    }
   ],
   "source": [
    "import matplotlib.pyplot as plt\n",
    "plt.plot(lossArr)\n",
    "plt.title('Loss Graph')\n",
    "plt.xlabel('epoch')\n",
    "plt.ylabel('Loss')\n",
    "plt.show()"
   ]
  },
  {
   "cell_type": "code",
   "execution_count": 14,
   "id": "949a1af9",
   "metadata": {
    "scrolled": true
   },
   "outputs": [
    {
     "name": "stdout",
     "output_type": "stream",
     "text": [
      "Test Error: \n",
      " Avg loss: 12.114648 \n",
      "\n"
     ]
    }
   ],
   "source": [
    "def predict(seed, model):\n",
    "    model.eval()\n",
    "    res = model(seed.to(device))\n",
    "    res = res.cpu().detach().numpy()\n",
    "    return res\n",
    "\n",
    "def test(dataloader, model):\n",
    "    model.eval()\n",
    "    size = len(dataloader.dataset)\n",
    "    testLoss, correct = 0,0\n",
    "    with torch.no_grad():\n",
    "        for batch, (x,y) in enumerate(dataloader):\n",
    "            pred = model(x)\n",
    "            testLoss += loss(pred, y).item()\n",
    "    testLoss /= size\n",
    "    print(f\"Test Error: \\n Avg loss: {testLoss:>8f} \\n\")\n",
    "\n",
    "test(test_loader, lstm)"
   ]
  },
  {
   "cell_type": "code",
   "execution_count": 46,
   "id": "e83f62e6",
   "metadata": {},
   "outputs": [
    {
     "ename": "AttributeError",
     "evalue": "'numpy.ndarray' object has no attribute 'to'",
     "output_type": "error",
     "traceback": [
      "\u001b[1;31m---------------------------------------------------------------------------\u001b[0m",
      "\u001b[1;31mAttributeError\u001b[0m                            Traceback (most recent call last)",
      "Input \u001b[1;32mIn [46]\u001b[0m, in \u001b[0;36m<cell line: 16>\u001b[1;34m()\u001b[0m\n\u001b[0;32m     13\u001b[0m         path_w_seed \u001b[38;5;241m=\u001b[39m path_w_seed \u001b[38;5;241m+\u001b[39m predict(path_w_seed[i:i\u001b[38;5;241m+\u001b[39m\u001b[38;5;28mlen\u001b[39m(seed)], model)\n\u001b[0;32m     14\u001b[0m     \u001b[38;5;28;01mreturn\u001b[39;00m path_w_seed\n\u001b[1;32m---> 16\u001b[0m \u001b[43mgenPath\u001b[49m\u001b[43m(\u001b[49m\u001b[43m(\u001b[49m\u001b[43mall_in_1\u001b[49m\u001b[43m[\u001b[49m\u001b[38;5;241;43m0\u001b[39;49m\u001b[43m]\u001b[49m\u001b[43m)\u001b[49m\u001b[43m[\u001b[49m\u001b[38;5;241;43m0\u001b[39;49m\u001b[43m:\u001b[49m\u001b[38;5;241;43m50\u001b[39;49m\u001b[43m]\u001b[49m\u001b[43m,\u001b[49m\u001b[43m \u001b[49m\u001b[43mlstm\u001b[49m\u001b[43m,\u001b[49m\u001b[43m \u001b[49m\u001b[38;5;241;43m110\u001b[39;49m\u001b[43m,\u001b[49m\u001b[43m \u001b[49m\u001b[43m)\u001b[49m\n",
      "Input \u001b[1;32mIn [46]\u001b[0m, in \u001b[0;36mgenPath\u001b[1;34m(seed, model, target_length)\u001b[0m\n\u001b[0;32m     11\u001b[0m path_w_seed \u001b[38;5;241m=\u001b[39m seed\n\u001b[0;32m     12\u001b[0m \u001b[38;5;28;01mfor\u001b[39;00m i \u001b[38;5;129;01min\u001b[39;00m \u001b[38;5;28mrange\u001b[39m(target_length \u001b[38;5;241m-\u001b[39m \u001b[38;5;28mlen\u001b[39m(seed)):\n\u001b[1;32m---> 13\u001b[0m     path_w_seed \u001b[38;5;241m=\u001b[39m path_w_seed \u001b[38;5;241m+\u001b[39m \u001b[43mpredict\u001b[49m\u001b[43m(\u001b[49m\u001b[43mpath_w_seed\u001b[49m\u001b[43m[\u001b[49m\u001b[43mi\u001b[49m\u001b[43m:\u001b[49m\u001b[43mi\u001b[49m\u001b[38;5;241;43m+\u001b[39;49m\u001b[38;5;28;43mlen\u001b[39;49m\u001b[43m(\u001b[49m\u001b[43mseed\u001b[49m\u001b[43m)\u001b[49m\u001b[43m]\u001b[49m\u001b[43m,\u001b[49m\u001b[43m \u001b[49m\u001b[43mmodel\u001b[49m\u001b[43m)\u001b[49m\n\u001b[0;32m     14\u001b[0m \u001b[38;5;28;01mreturn\u001b[39;00m path_w_seed\n",
      "Input \u001b[1;32mIn [14]\u001b[0m, in \u001b[0;36mpredict\u001b[1;34m(seed, model)\u001b[0m\n\u001b[0;32m      1\u001b[0m \u001b[38;5;28;01mdef\u001b[39;00m \u001b[38;5;21mpredict\u001b[39m(seed, model):\n\u001b[0;32m      2\u001b[0m     model\u001b[38;5;241m.\u001b[39meval()\n\u001b[1;32m----> 3\u001b[0m     res \u001b[38;5;241m=\u001b[39m model(\u001b[43mseed\u001b[49m\u001b[38;5;241;43m.\u001b[39;49m\u001b[43mto\u001b[49m(device))\n\u001b[0;32m      4\u001b[0m     res \u001b[38;5;241m=\u001b[39m res\u001b[38;5;241m.\u001b[39mcpu()\u001b[38;5;241m.\u001b[39mdetach()\u001b[38;5;241m.\u001b[39mnumpy()\n\u001b[0;32m      5\u001b[0m     \u001b[38;5;28;01mreturn\u001b[39;00m res\n",
      "\u001b[1;31mAttributeError\u001b[0m: 'numpy.ndarray' object has no attribute 'to'"
     ]
    }
   ],
   "source": [
    "# # gives a 50 timestep data and generates the future 60 timesteps\n",
    "# # def genPath(seed, model):\n",
    "# #     model.eval()\n",
    "    \n",
    "# #     resAll = seed\n",
    "# #     for i in range(60):\n",
    "# #         resAll = np.append (resAll, predict(torch.unsqueeze(torch.FloatTensor(resAll[i:i+50]), 0), model))\n",
    "# #     return resAll[51:]\n",
    "\n",
    "# def genPath(seed, model, target_length):\n",
    "#     path_w_seed = seed\n",
    "#     for i in range(target_length - len(seed)):\n",
    "#         path_w_seed = path_w_seed + predict(path_w_seed[i:i+len(seed)], model)\n",
    "#     return path_w_seed\n",
    "\n",
    "# genPath((all_in_1[0])[0:50], lstm, 110, )\n",
    "# # predict(torch.FloatTensor(all_in_1[0][0:50]), lstm)\n"
   ]
  },
  {
   "cell_type": "markdown",
   "id": "6f80b5e4",
   "metadata": {},
   "source": [
    "## Sample a batch of data and visualize "
   ]
  },
  {
   "cell_type": "code",
   "execution_count": 20,
   "id": "c6507c9a",
   "metadata": {
    "scrolled": true
   },
   "outputs": [
    {
     "name": "stdout",
     "output_type": "stream",
     "text": [
      "torch.Size([4, 50, 2]) torch.Size([4, 60, 2])\n"
     ]
    },
    {
     "data": {
      "image/png": "[encoded data removed]",
      "text/plain": [
       "<Figure size 1080x216 with 4 Axes>"
      ]
     },
     "metadata": {},
     "output_type": "display_data"
    }
   ],
   "source": [
    "import matplotlib.pyplot as plt\n",
    "import random\n",
    "\n",
    "\n",
    "def show_sample_batch(sample_batch):\n",
    "    \"\"\"visualize the trajectory for a batch of samples\"\"\"\n",
    "    inp, out = sample_batch\n",
    "    batch_sz = inp.size(0)\n",
    "    agent_sz = inp.size(1)\n",
    "    \n",
    "    fig, axs = plt.subplots(1,batch_sz, figsize=(15, 3), facecolor='w', edgecolor='k')\n",
    "    fig.subplots_adjust(hspace = .5, wspace=.001)\n",
    "    axs = axs.ravel()   \n",
    "    for i in range(batch_sz):\n",
    "        axs[i].xaxis.set_ticks([])\n",
    "        axs[i].yaxis.set_ticks([])\n",
    "        \n",
    "        # first two feature dimensions are (x,y) positions\n",
    "        axs[i].scatter(inp[i,:,0], inp[i,:,1])\n",
    "        axs[i].scatter(out[i,:,0], out[i,:,1])\n",
    "        \n",
    "# show_sample_batch(sample_batch)\n",
    "\n",
    "\n",
    "        \n",
    "for i_batch, sample_batch in enumerate(train_loader):\n",
    "    inp, out = sample_batch\n",
    "    print(inp.shape, out.shape)\n",
    "    show_sample_batch(sample_batch)\n",
    "    break\n",
    "    \"\"\"\n",
    "    TODO:\n",
    "      implement your Deep learning model\n",
    "      implement training routine\n",
    "    \"\"\""
   ]
  },
  {
   "cell_type": "code",
   "execution_count": null,
   "id": "00333419",
   "metadata": {},
   "outputs": [],
   "source": []
  }
 ],
 "metadata": {
  "kernelspec": {
   "display_name": "Python 3 (ipykernel)",
   "language": "python",
   "name": "python3"
  },
  "language_info": {
   "codemirror_mode": {
    "name": "ipython",
    "version": 3
   },
   "file_extension": ".py",
   "mimetype": "text/x-python",
   "name": "python",
   "nbconvert_exporter": "python",
   "pygments_lexer": "ipython3",
   "version": "3.9.7"
  }
 },
 "nbformat": 4,
 "nbformat_minor": 5
}
