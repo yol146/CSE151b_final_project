{
 "cells": [
  {
   "cell_type": "code",
   "execution_count": 2,
   "id": "2212c26f",
   "metadata": {},
   "outputs": [
    {
     "data": {
      "text/plain": [
       "'\\n    number of trajectories in each city\\n    # austin --  train: 43041 test: 6325 \\n    # miami -- train: 55029 test:7971\\n    # pittsburgh -- train: 43544 test: 6361\\n    # dearborn -- train: 24465 test: 3671\\n    # washington-dc -- train: 25744 test: 3829\\n    # palo-alto -- train:  11993 test:1686\\n\\n    trajectories sampled at 10HZ rate, input 5 seconds, output 6 seconds\\n    \\n'"
      ]
     },
     "execution_count": 2,
     "metadata": {},
     "output_type": "execute_result"
    }
   ],
   "source": [
    "import torch\n",
    "from torch.utils.data import Dataset, DataLoader\n",
    "import os, os.path \n",
    "import numpy \n",
    "import pickle\n",
    "from glob import glob\n",
    "# Get the device\n",
    "if (torch.cuda.is_available()):\n",
    "    device = torch.device(\"cuda:0\")\n",
    "else:\n",
    "    device = torch.device(\"cpu\")\n",
    "\n",
    "\n",
    "\"\"\"\n",
    "    number of trajectories in each city\n",
    "    # austin --  train: 43041 test: 6325 \n",
    "    # miami -- train: 55029 test:7971\n",
    "    # pittsburgh -- train: 43544 test: 6361\n",
    "    # dearborn -- train: 24465 test: 3671\n",
    "    # washington-dc -- train: 25744 test: 3829\n",
    "    # palo-alto -- train:  11993 test:1686\n",
    "\n",
    "    trajectories sampled at 10HZ rate, input 5 seconds, output 6 seconds\n",
    "    \n",
    "\"\"\""
   ]
  },
  {
   "cell_type": "markdown",
   "id": "80749d71",
   "metadata": {},
   "source": [
    "# Data Processing"
   ]
  },
  {
   "cell_type": "code",
   "execution_count": 26,
   "id": "563cf07f",
   "metadata": {},
   "outputs": [],
   "source": [
    "from glob import glob\n",
    "import pickle\n",
    "import numpy as np\n",
    "\n",
    "ROOT_PATH = \"./argo2/\"\n",
    "\n",
    "cities = [\"austin\", \"miami\", \"pittsburgh\", \"dearborn\", \"washington-dc\", \"palo-alto\"]\n",
    "splits = [\"train\", \"test\"]\n",
    "\n",
    "# # intialize a dataset\n",
    "city = 'austin' \n",
    "split = 'train'\n",
    "\n",
    "def normalize(trajectories):\n",
    "    minxy = np.min(trajectories, axis=-1)\n",
    "    maxxy = np.max(trajectories, axis=-1)\n",
    "    scale = np.max(maxxy - minxy) / 2.0\n",
    "    return (trajectories / scale), scale\n",
    "\n",
    "def unnormalize(trajectories, scale):\n",
    "    return trajectories * scale\n",
    "\n",
    "\n",
    "def get_city_trajectories(city=\"palo-alto\", split=\"train\", normalized=False):\n",
    "    \n",
    "    outputs = None\n",
    "    \n",
    "    if split==\"train\":\n",
    "        f_in = ROOT_PATH + split + \"/\" + city + \"_inputs\"\n",
    "        inputs = pickle.load(open(f_in, \"rb\"))\n",
    "        n = len(inputs)\n",
    "        inputs = np.asarray(inputs)[:int(n * 0.8)]\n",
    "        \n",
    "        f_out = ROOT_PATH + split + \"/\" + city + \"_outputs\"\n",
    "        outputs = pickle.load(open(f_out, \"rb\"))\n",
    "        outputs = np.asarray(outputs)[:int(n * 0.8)]\n",
    "        \n",
    "    elif split == 'val':\n",
    "        f_in = ROOT_PATH + 'train' + \"/\" + city + \"_inputs\"\n",
    "        inputs = pickle.load(open(f_in, \"rb\"))\n",
    "        n = len(inputs)\n",
    "        inputs = np.asarray(inputs)[int(n * 0.8):]\n",
    "        \n",
    "        f_out = ROOT_PATH + 'train' + \"/\" + city + \"_outputs\"\n",
    "        outputs = pickle.load(open(f_out, \"rb\"))\n",
    "        outputs = np.asarray(outputs)[int(n * 0.8):]\n",
    "    \n",
    "    else:\n",
    "        f_in = ROOT_PATH + split + \"/\" + city + \"_inputs\"\n",
    "        inputs = pickle.load(open(f_in, \"rb\"))\n",
    "        n = len(inputs)\n",
    "        inputs = np.asarray(inputs)\n",
    "\n",
    "    return inputs, outputs\n",
    "\n",
    "class ArgoverseDataset(Dataset):\n",
    "    \"\"\"Dataset class for Argoverse\"\"\"\n",
    "    def __init__(self, city: str, split:str, transform=None):\n",
    "        super(ArgoverseDataset, self).__init__()\n",
    "        self.transform = transform\n",
    "\n",
    "        self.inputs, self.outputs = get_city_trajectories(city=city, split=split, normalized=False)\n",
    "\n",
    "    def __len__(self):\n",
    "        return len(self.inputs)\n",
    "\n",
    "    def __getitem__(self, idx):\n",
    "        \n",
    "#         tensor = torch.Tensor(self.feature[item])\n",
    "#         tensorlabel = torch.Tensor(self.label[item])\n",
    "#         return tensor.to(device), tensorlabel.to(device)\n",
    "\n",
    "        data = np.concatenate((self.inputs[idx], self.outputs[idx]))\n",
    "            \n",
    "        if self.transform:\n",
    "            data = self.transform(data)\n",
    "\n",
    "        return torch.Tensor(data).to(device)\n",
    "    \n",
    "# every path has length 110, with the 110nd character as target value\n",
    "# set range step higher if overfit     \n",
    "# if dataArr is with velocity, remove for y labels\n",
    "def create_set(dataArr, normalization=False):\n",
    "    normArr = dataArr\n",
    "    scale = 0\n",
    "    set_x = []\n",
    "    set_y = []\n",
    "    if(normalization):\n",
    "        normArr, scale = normalize(dataArr)\n",
    "    for path in normArr:\n",
    "            set_x.append(path[:109])\n",
    "            set_y.append(path[109])\n",
    "    return set_x, set_y, scale\n",
    "\n",
    "class mydataset(Dataset):\n",
    "    def __init__(self, x, y):\n",
    "        \n",
    "        self.feature = x\n",
    "        self.label = y\n",
    "        \n",
    "    def __getitem__(self, item):\n",
    "        \n",
    "        tensor = torch.Tensor(self.feature[item])\n",
    "        tensorlabel = torch.Tensor(self.label[item])\n",
    "        return tensor.to(device), tensorlabel.to(device)\n",
    "    \n",
    "    def __len__(self):\n",
    "        return len(self.feature)\n",
    "    \n",
    "# input: n*110*2 paths\n",
    "# output: n*110*4 paths with dim2 = [x,y,Vx,Vy], where Vx, Vy are velocity with length/.1s as unit\n",
    "def addVelocity(dataArr):\n",
    "    dataWV = []\n",
    "    for path in np.array(dataArr):\n",
    "        pathWV = []\n",
    "        pathWV.append(np.concatenate((path[0], [0,0])))\n",
    "        for coord in range(1, len(path)):\n",
    "            vel = path[coord] - path[coord-1]\n",
    "            coordWV = np.concatenate((path[coord], vel))\n",
    "            pathWV.append(coordWV)\n",
    "        dataWV.append(pathWV)\n",
    "    return np.array(dataWV)\n",
    "\n",
    "def calcVelocity(dataArr):\n",
    "    dataWV = []\n",
    "    for path in np.array(dataArr):\n",
    "        pathWV = []\n",
    "        pathWV.append(path[1] - path[0])\n",
    "        for coord in range(1, len(path)):\n",
    "            vel = path[coord] - path[coord-1]\n",
    "            pathWV.append(vel)\n",
    "        dataWV.append(pathWV)\n",
    "    return np.array(dataWV)\n",
    "\n",
    "# shifts every path to be starting from 0,0\n",
    "# returns shifted data Array, each array's shifted value\n",
    "def toOrigin (dataArr):\n",
    "    dataO = []\n",
    "    shiftArr = []\n",
    "    for path in np.array(dataArr):\n",
    "        pathO = []\n",
    "        shifter = path[0]\n",
    "        shiftArr.append(shifter)\n",
    "        for coord in range(len(path)):\n",
    "            shifted = path[coord] - shifter\n",
    "            pathO.append(shifted)\n",
    "        dataO.append(pathO)\n",
    "    return dataO, shiftArr\n",
    "\n",
    "# tempNorm, tempScale = normalize(all_in_1)\n",
    "# tempunNorm = unnormalize(tempNorm, tempScale)\n",
    "# print (\"tempNorm\", tempNorm)\n",
    "# print (\"unNorm\", tempunNorm)\n",
    "# print (\"original\", np.array(all_in_1))\n",
    "\n",
    "\n",
    "    \n",
    "\n",
    "# training_set_x, training_set_y, scale = create_set(all_in_1_WV)\n",
    "# train_dataset = mydataset(training_set_x, training_set_y)\n",
    "\n",
    "# velArr = np.array(calcVelocity(all_in_1))\n",
    "# all_in_1_O, shiftVel = toOrigin(all_in_1)\n",
    "# # define training set with velocity + shifted to origin\n",
    "# all_in_1_WV = addVelocity(all_in_1_O)\n",
    "# training_set_x, training_set_y, scale = create_set(all_in_1_WV, normalization=False)\n",
    "# train_dataset = mydataset(training_set_x, training_set_y)\n",
    "\n"
   ]
  },
  {
   "cell_type": "code",
   "execution_count": 4,
   "id": "53cb0cfd",
   "metadata": {},
   "outputs": [],
   "source": [
    "# print(np.array(training_set_y).shape)\n",
    "# print(training_set_x[0])"
   ]
  },
  {
   "cell_type": "code",
   "execution_count": 5,
   "id": "d4d0386b",
   "metadata": {},
   "outputs": [],
   "source": [
    "\n",
    "# get train data\n",
    "inputs, outputs = get_city_trajectories(city=city, split=split, normalized=False)\n",
    "all_in_1 = []\n",
    "for i in range(len(inputs)):\n",
    "    togetherData = np.concatenate((inputs[i], outputs[i]))\n",
    "    all_in_1.append(togetherData)\n",
    "\n",
    "\n",
    "# Get Validation Data\n",
    "inputs, outputs = get_city_trajectories(city=city, split='val', normalized=False)\n",
    "val_in_1 = []\n",
    "for i in range(len(inputs)):\n",
    "    togetherData = np.concatenate((inputs[i], outputs[i]))\n",
    "    val_in_1.append(togetherData)\n",
    "    \n",
    "# random subsampling from val_set to make faster validation\n",
    "numValPath = 300\n",
    "val_index = np.random.choice(len(val_in_1), numValPath, replace=False)\n",
    "val_in_1_500 = np.array(val_in_1)[val_index]\n"
   ]
  },
  {
   "cell_type": "code",
   "execution_count": 6,
   "id": "30dbd6ea",
   "metadata": {},
   "outputs": [],
   "source": [
    "import matplotlib.pyplot as plt\n",
    "import math\n",
    "\n",
    "# takes in a path and return x,y lists\n",
    "def parsePath(path):\n",
    "    tempX = []\n",
    "    tempY = []\n",
    "    for elem in path:\n",
    "        tempX.append(elem[0])\n",
    "        tempY.append(elem[1])\n",
    "    return tempX, tempY\n",
    "\n",
    "def showPath(x,y):\n",
    "    plt.scatter(x[0:50],y[0:50], c='b')\n",
    "    plt.scatter(x[50:],y[50:], c='r')\n",
    "\n",
    "# gets the angle to rotate to pointing (1,1) in radians\n",
    "# the path needs to be shifted to (0,0) in the beginning\n",
    "# path should only have (x,y), i.e. without velocity\n",
    "def getAngle(path):\n",
    "#     shifted path starts at (0,0), so path[1] is its initial facing direction\n",
    "    direction = path[1]\n",
    "#     target direction\n",
    "    targetVec = np.array([1,1])\n",
    "    x1 = path[1][0]\n",
    "    x2 = 1\n",
    "    y1 = path[1][1]\n",
    "    y2 = 1\n",
    "        #     magnitude of direction vector for angle calculation, sqrt(2) is targetVec's magnitude\n",
    "    dot = x1*x2 + y1*y2      # dot product\n",
    "    det = x1*y2 - y1*x2      # determinant\n",
    "    angle = math.atan2(det, dot)  # atan2(y, x) or atan2(sin, cos)\n",
    "    return angle\n",
    "    \n",
    "    \n",
    "#   rotate the x,y with angle (as vector)\n",
    "# returns rotated x,y\n",
    "def rotatePoint(x, y, rad):\n",
    "    xR = x*math.cos(rad) - y*math.sin(rad)\n",
    "    yR = y*math.cos(rad) + x*math.sin(rad)\n",
    "    return xR, yR\n",
    "\n",
    "# rotate the paths in the data to initialize to the same direction\n",
    "# takes in the data and logArr for converting result back (logArr should contain the shift value)\n",
    "# returns rotated datapath, new logarr with angles corresponding to each path to rotate back (construct original long/lat)\n",
    "def rotateData(data, logArr):\n",
    "#     logArr should have same lenth with data, since each path is shifted to (0,0)\n",
    "    newLogArr = []\n",
    "    dataR = []\n",
    "    for i,path in enumerate(data):\n",
    "        pathR = []\n",
    "        ang = getAngle(path)\n",
    "        newLogArr.append(np.concatenate((logArr[i], [ang])))\n",
    "#         for each point, rotate them to math the orientation(except (0,0))\n",
    "        pathR.append(path[0])\n",
    "        for j in range(1, len(path)):\n",
    "            xp = path[j][0]\n",
    "            yp = path[j][1]\n",
    "#             get rotated point\n",
    "            xR, yR = rotatePoint(xp, yp, ang)\n",
    "            pathR.append([xR,yR])\n",
    "        dataR.append(pathR)\n",
    "    return dataR, newLogArr\n",
    "\n",
    "# shift & rotate data, takes in a raw data array (arbitrary length of paths, but each path has (x,y) points)\n",
    "# returns processed data (without velocity added, but shifted to origin & rotated)\n",
    "def shiftAndRotate(data):\n",
    "#     shift data, get shifted array & shifted values for converting back\n",
    "    data_O, shiftLog = toOrigin(data)\n",
    "#     get rotated data & logs for converting back\n",
    "    data_RO, logArr = rotateData(data_O, shiftLog)\n",
    "    return np.array(data_RO), logArr\n",
    "\n",
    "# takes in raw dataset and prep(shift to origin -> unify starting direction -> add velocity -> return proessedDataSet, convBackArr)\n",
    "# the normalized = false since we already shifted data to origin.\n",
    "def prepDataSet(data, normalized=False):\n",
    "    # shift & rotate data\n",
    "    processedData, convBackArr = shiftAndRotate(data)\n",
    "    \n",
    "    # now we have shifted & rotated data, then add velocity\n",
    "#     Testing without velocity: TODO: If bad, put it back!!!==========================================\n",
    "    data_WV = addVelocity(processedData)\n",
    "    set_x, set_y, scale = create_set(data_WV, normalization=normalized)\n",
    "    \n",
    "    processedDataSet = mydataset(set_x, set_y)\n",
    "    return processedDataSet, convBackArr"
   ]
  },
  {
   "cell_type": "code",
   "execution_count": 7,
   "id": "84bc029e",
   "metadata": {},
   "outputs": [],
   "source": [
    "# trying normalization\n",
    "train_set, trainConvBack = prepDataSet(all_in_1, normalized=True)\n",
    "val_set, valConvBack = prepDataSet(val_in_1_500, normalized=True )"
   ]
  },
  {
   "cell_type": "code",
   "execution_count": null,
   "id": "bef7446a",
   "metadata": {},
   "outputs": [],
   "source": []
  },
  {
   "cell_type": "markdown",
   "id": "5f0909ce",
   "metadata": {},
   "source": [
    "Data Processing Done (shift to origin -> unify starting direction -> add velocity -> return proessedDataSet, convBackArr)"
   ]
  },
  {
   "cell_type": "markdown",
   "id": "ddfffa02",
   "metadata": {},
   "source": [
    "# DataLoader"
   ]
  },
  {
   "cell_type": "code",
   "execution_count": 8,
   "id": "83515dd7",
   "metadata": {},
   "outputs": [],
   "source": [
    "batch_sz = 64  # batch size \n",
    "train_loader = DataLoader(train_set,batch_size=batch_sz, shuffle = True)\n",
    "val_loader = DataLoader(val_set, batch_size=batch_sz, shuffle = True)"
   ]
  },
  {
   "cell_type": "markdown",
   "id": "0f082417",
   "metadata": {},
   "source": [
    "# LSTM Model Implementation"
   ]
  },
  {
   "cell_type": "code",
   "execution_count": 9,
   "id": "32d92e7d",
   "metadata": {},
   "outputs": [],
   "source": [
    "from torch import nn, optim\n",
    "\n",
    "class LSTMModel(nn.Module):\n",
    "    def __init__(self, input_dim, hidden_dim, layer_dim, output_dim):\n",
    "        super(LSTMModel, self).__init__()\n",
    "        #Hidden dimensions\n",
    "        self.hidden_dim = hidden_dim\n",
    "        \n",
    "        #Number of hidden layers\n",
    "        self.layer_dim = layer_dim\n",
    "        \n",
    "        #imput dim\n",
    "        self.input_dim = input_dim\n",
    "        \n",
    "        \n",
    "        #Building your LSTM\n",
    "        #batch_first=True causes input/output tensors to be of shape\n",
    "        #(batch_dim, seq_dim, feature_dim)\n",
    "        self.lstm = nn.LSTM(input_dim, hidden_dim, layer_dim, batch_first=True)\n",
    "        \n",
    "        #Readout layer\n",
    "        self.fc = nn.Linear (hidden_dim, output_dim)\n",
    "        \n",
    "        \n",
    "    def forward(self, x):\n",
    "        #Initialize hidden state with zeros\n",
    "        h0 = torch.zeros(self.layer_dim, x.size(0), self.hidden_dim).requires_grad_().to(device)\n",
    "        \n",
    "        #Initialize cell state\n",
    "        c0 = torch.zeros(self.layer_dim, x.size(0), self.hidden_dim).requires_grad_().to(device)\n",
    "        \n",
    "        \n",
    "        #Output channel\n",
    "        output, (hn, cn) = self.lstm(x, (h0.detach(), c0.detach()))\n",
    "        hn = hn.view(-1,self.hidden_dim)\n",
    "        out = self.fc(hn)\n",
    "        \n",
    "        return out"
   ]
  },
  {
   "cell_type": "markdown",
   "id": "0cc26525",
   "metadata": {},
   "source": [
    "# Hyper Parameters"
   ]
  },
  {
   "cell_type": "code",
   "execution_count": 63,
   "id": "ddbb4666",
   "metadata": {},
   "outputs": [
    {
     "name": "stdout",
     "output_type": "stream",
     "text": [
      "cuda:0 \n",
      " LSTMModel(\n",
      "  (lstm): LSTM(4, 250, batch_first=True)\n",
      "  (fc): Linear(in_features=250, out_features=4, bias=True)\n",
      ")\n",
      "lstm.weight_ih_l0 torch.Size([1000, 4])\n",
      "lstm.weight_hh_l0 torch.Size([1000, 250])\n",
      "lstm.bias_ih_l0 torch.Size([1000])\n",
      "lstm.bias_hh_l0 torch.Size([1000])\n",
      "fc.weight torch.Size([4, 250])\n",
      "fc.bias torch.Size([4])\n"
     ]
    }
   ],
   "source": [
    "# define hyper parameters\n",
    "learning_rate = 0.0005\n",
    "epochs = 5\n",
    "input_dim = 4\n",
    "hidden_dim = 250\n",
    "layer_count = 1\n",
    "output_dim = 4\n",
    "\n",
    "lstm = LSTMModel(input_dim, hidden_dim, layer_count, output_dim).to(device)\n",
    "print(device, \"\\n\", lstm)\n",
    "\n",
    "# loss = nn.CrossEntropyLoss()\n",
    "loss = nn.MSELoss()\n",
    "optimizer = torch.optim.Adam(lstm.parameters(), lr=learning_rate)\n",
    "\n",
    "# visualize the inner data shape\n",
    "for name, param in lstm.named_parameters():\n",
    "    if param.requires_grad:\n",
    "        print (name, param.data.shape)"
   ]
  },
  {
   "cell_type": "markdown",
   "id": "6b3dec73",
   "metadata": {},
   "source": [
    "# Training Function"
   ]
  },
  {
   "cell_type": "code",
   "execution_count": 64,
   "id": "899b7794",
   "metadata": {},
   "outputs": [],
   "source": [
    "import time\n",
    "import matplotlib.pyplot as plt\n",
    "lossArr = []\n",
    "# tranining function\n",
    "def train(dataloader, model, patience=3):\n",
    "#     enable gradients\n",
    "    model.train()\n",
    "    print(\"Begin time: \", time.ctime())\n",
    "    last_loss = 0\n",
    "    patience= patience\n",
    "    for epoch in range(epochs):\n",
    "        totalLoss = 0\n",
    "        for batch , (x,y) in enumerate(dataloader):\n",
    "            optimizer.zero_grad()\n",
    "            pred = model(x)\n",
    "            trainLoss = loss(pred, y)\n",
    "            totalLoss += trainLoss.item()\n",
    "            trainLoss.backward()\n",
    "            optimizer.step()\n",
    "        lossArr.append(totalLoss)\n",
    "        print(\"Time: \", time.ctime() , \"epoch: \", epoch, \"loss: \", totalLoss)\n",
    "        \n",
    "        #        early stopping\n",
    "#         TODO: change this into validation set! make a smaller validation set\n",
    "        if (last_loss < totalLoss and last_loss != 0):\n",
    "            print(\"EarlyStopping remain patience: \", patience)\n",
    "            if (patience <= 0):\n",
    "                print (\"Early Stopped\")\n",
    "                return\n",
    "            patience -= 1\n",
    "        last_loss = totalLoss"
   ]
  },
  {
   "cell_type": "markdown",
   "id": "72e6c010",
   "metadata": {},
   "source": [
    "# Training The Model"
   ]
  },
  {
   "cell_type": "code",
   "execution_count": 65,
   "id": "1ec8ec54",
   "metadata": {},
   "outputs": [
    {
     "name": "stdout",
     "output_type": "stream",
     "text": [
      "Begin time:  Fri May 27 16:01:07 2022\n",
      "Time:  Fri May 27 16:01:15 2022 epoch:  0 loss:  2.989056077578425\n",
      "Time:  Fri May 27 16:01:22 2022 epoch:  1 loss:  0.014785228636810643\n",
      "Time:  Fri May 27 16:01:30 2022 epoch:  2 loss:  0.004415797346382533\n",
      "Time:  Fri May 27 16:01:37 2022 epoch:  3 loss:  0.0045043672415658875\n",
      "EarlyStopping remain patience:  3\n",
      "Time:  Fri May 27 16:01:45 2022 epoch:  4 loss:  0.0028085872736482997\n"
     ]
    }
   ],
   "source": [
    "train(train_loader, lstm)"
   ]
  },
  {
   "cell_type": "code",
   "execution_count": 55,
   "id": "e1ea1187",
   "metadata": {},
   "outputs": [],
   "source": [
    "# save the trained model\n",
    "# torch.save(lstm.state_dict(), \"trained_lstm\" + \"_lr%s_epoch%d_hd%d_%s\" % (str(learning_rate), epochs, hidden_dim, city))\n",
    "# numpy.save(\"./lossArr/\" + \"trained_lstm\" + \"_lr%s_epoch%d_hd%d_%s\" % (str(learning_rate), epochs, hidden_dim, city), lossArr)\n",
    "# load the trained model\n",
    "# lstm.load_state_dict(torch.load(\"trained_lstm_lr0.001_epoch20_hd100_austin\"))\n"
   ]
  },
  {
   "cell_type": "code",
   "execution_count": 66,
   "id": "dbb9be31",
   "metadata": {},
   "outputs": [
    {
     "data": {
      "image/png": "[encoded data removed]",
      "text/plain": [
       "<Figure size 432x288 with 1 Axes>"
      ]
     },
     "metadata": {
      "needs_background": "light"
     },
     "output_type": "display_data"
    }
   ],
   "source": [
    "plt.plot(lossArr)\n",
    "plt.title('Loss Graph')\n",
    "plt.xlabel('epoch')\n",
    "plt.ylabel('Loss')\n",
    "plt.show()"
   ]
  },
  {
   "cell_type": "markdown",
   "id": "f4bf50ed",
   "metadata": {},
   "source": [
    "# Testing"
   ]
  },
  {
   "cell_type": "code",
   "execution_count": 57,
   "id": "f2437add",
   "metadata": {},
   "outputs": [],
   "source": [
    "def predict(seed, model):\n",
    "    model.eval()\n",
    "    res = model(seed.to(device))\n",
    "    res = res.cpu().detach().numpy()\n",
    "    return res\n",
    "\n",
    "def test(dataloader, model):\n",
    "    model.eval()\n",
    "    size = len(dataloader.dataset)\n",
    "    testLoss, correct = 0,0\n",
    "    with torch.no_grad():\n",
    "        for batch, (x,y) in enumerate(dataloader):\n",
    "            pred = model(x)\n",
    "            testLoss += loss(pred, y).item()\n",
    "    testLoss /= size\n",
    "    print(f\"Test Error: \\n Avg loss: {testLoss:>8f} \\n\")"
   ]
  },
  {
   "cell_type": "code",
   "execution_count": 58,
   "id": "c690b6cf",
   "metadata": {},
   "outputs": [
    {
     "name": "stdout",
     "output_type": "stream",
     "text": [
      "Test Error: \n",
      " Avg loss: 0.000000 \n",
      "\n"
     ]
    }
   ],
   "source": [
    "test(val_loader, lstm)"
   ]
  },
  {
   "cell_type": "code",
   "execution_count": 59,
   "id": "9d5ee271",
   "metadata": {},
   "outputs": [],
   "source": [
    "# predict an entire path\n",
    "def genPath(seed, model):\n",
    "    path_w_seed = seed\n",
    "#     for i in range(target_length - len(seed)):\n",
    "    for i in range(60):\n",
    "#         print (len(torch.Tensor(path_w_seed[i:i + 50])))\n",
    "        path_w_seed = np.concatenate((path_w_seed, predict(torch.Tensor(path_w_seed).unsqueeze(0), model)))\n",
    "#         print(len(path_w_seed))\n",
    "    return path_w_seed\n",
    "\n",
    "\n",
    "def processDataSet(data, normalized=False):\n",
    "    scale = 0\n",
    "    if (normalized):\n",
    "        processedData, convBackArr = shiftAndRotate(data)\n",
    "        normalization, scale = normalize(processedData)\n",
    "        data_WV = addVelocity(normalization)\n",
    "        return data_WV, convBackArr, scale\n",
    "    \n",
    "    \n",
    "    processedData, convBackArr = shiftAndRotate(data)\n",
    "    # now we have shifted & rotated data, then add velocity\n",
    "    data_WV = addVelocity(processedData)\n",
    "    \n",
    "    return data_WV, convBackArr, scale\n",
    "\n"
   ]
  },
  {
   "cell_type": "code",
   "execution_count": 33,
   "id": "d95eb05f",
   "metadata": {},
   "outputs": [],
   "source": [
    "testDataSet, testBackArr, testScale = processDataSet(all_in_1, normalized = True)\n",
    "valDataSet, valBackArr, valScale = processDataSet(val_in_1, normalized = True)"
   ]
  },
  {
   "cell_type": "code",
   "execution_count": 67,
   "id": "3d331c83",
   "metadata": {},
   "outputs": [
    {
     "name": "stdout",
     "output_type": "stream",
     "text": [
      "[[0.67081285 0.6510246  0.00418696 0.00429   ]]\n",
      "[0.67976025 0.66140579 0.00946403 0.00954118]\n",
      "90.29789886317052\n"
     ]
    }
   ],
   "source": [
    "res = predict(torch.Tensor(valDataSet[300][0:80]).unsqueeze(0), lstm)\n",
    "print(res)\n",
    "print(valDataSet[300][80])\n",
    "print(testScale)"
   ]
  },
  {
   "cell_type": "code",
   "execution_count": 70,
   "id": "b9c75d7d",
   "metadata": {
    "scrolled": false
   },
   "outputs": [
    {
     "data": {
      "image/png": "[encoded data removed]",
      "text/plain": [
       "<Figure size 432x288 with 1 Axes>"
      ]
     },
     "metadata": {
      "needs_background": "light"
     },
     "output_type": "display_data"
    }
   ],
   "source": [
    "pathTest = genPath(testDataSet[531][0:50], lstm)\n",
    "xPath, yPath = parsePath(pathTest)\n",
    "showPath(xPath, yPath)"
   ]
  },
  {
   "cell_type": "code",
   "execution_count": 71,
   "id": "82199450",
   "metadata": {},
   "outputs": [
    {
     "data": {
      "image/png": "[encoded data removed]",
      "text/plain": [
       "<Figure size 432x288 with 1 Axes>"
      ]
     },
     "metadata": {
      "needs_background": "light"
     },
     "output_type": "display_data"
    }
   ],
   "source": [
    "xPathT, yPathT = parsePath(testDataSet[531])\n",
    "showPath(xPathT, yPathT)"
   ]
  },
  {
   "cell_type": "markdown",
   "id": "6aad27f8",
   "metadata": {},
   "source": [
    "# test rotation\n",
    "for path in processedData[6:7]:\n",
    "    velX , velY = parsePath(path)\n",
    "    showPath(velX, velY)\n",
    "\n",
    "\n",
    "def rotateBack(path, ang):\n",
    "    pathR = []\n",
    "    ang = ang*(-1)\n",
    "#         for each point, rotate them to math the orientation(except (0,0))\n",
    "    pathR.append(path[0])\n",
    "    for j in range(1, len(path)):\n",
    "        xp = path[j][0]\n",
    "        yp = path[j][1]\n",
    "#             get rotated point\n",
    "        xR, yR = rotatePoint(xp, yp, ang)\n",
    "        pathR.append([xR,yR])\n",
    "    return pathR\n",
    "\n",
    "pathBack = rotateBack(processedData[6], convBackArr[6][2])"
   ]
  },
  {
   "cell_type": "markdown",
   "id": "0a80a2ca",
   "metadata": {},
   "source": [
    "def rotateTest(path):\n",
    "    pathR = []\n",
    "    ang = getAngle(path)\n",
    "#         for each point, rotate them to math the orientation(except (0,0))\n",
    "    pathR.append(path[0])\n",
    "    for j in range(1, len(path)):\n",
    "        xp = path[j][0]\n",
    "        yp = path[j][1]\n",
    "#             get rotated point\n",
    "        xR, yR = rotatePoint(xp, yp, ang)\n",
    "        pathR.append([xR,yR])\n",
    "    return pathR\n",
    "\n",
    "tempPath = [[0,0],[-1,-2],[-2,-3],[-3,-3]]\n",
    "ang = getAngle(tempPath)\n",
    "print(ang)\n",
    "rotatedP = rotateTest(tempPath)\n",
    "orgX, orgY = parsePath(tempPath)\n",
    "velX , velY = parsePath(rotatedP)\n",
    "plt.plot(orgX,orgY,linestyle='solid',color='blue')\n",
    "plt.plot(velX,velY,linestyle='solid',color='red')\n",
    "plt.scatter(1,1,color='green')"
   ]
  },
  {
   "cell_type": "code",
   "execution_count": null,
   "id": "d17bcbe2",
   "metadata": {},
   "outputs": [],
   "source": []
  }
 ],
 "metadata": {
  "kernelspec": {
   "display_name": "Python 3 (ipykernel)",
   "language": "python",
   "name": "python3"
  },
  "language_info": {
   "codemirror_mode": {
    "name": "ipython",
    "version": 3
   },
   "file_extension": ".py",
   "mimetype": "text/x-python",
   "name": "python",
   "nbconvert_exporter": "python",
   "pygments_lexer": "ipython3",
   "version": "3.9.12"
  }
 },
 "nbformat": 4,
 "nbformat_minor": 5
}
